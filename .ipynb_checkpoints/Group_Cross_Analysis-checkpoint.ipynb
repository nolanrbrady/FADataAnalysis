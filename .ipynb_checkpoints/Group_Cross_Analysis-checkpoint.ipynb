{
 "cells": [
  {
   "cell_type": "code",
   "execution_count": 1,
   "id": "484f4e0b-2680-4bf1-aba2-d52b3ff0fd71",
   "metadata": {},
   "outputs": [],
   "source": [
    "# Cross referencing Direct and Anon Groups between neutral and inflam groups"
   ]
  },
  {
   "cell_type": "code",
   "execution_count": 2,
   "id": "fcb5be06-6f40-47fc-9cbb-0bae4e1e81f6",
   "metadata": {},
   "outputs": [],
   "source": [
    "# Import common libraries\n",
    "import pandas as pd\n",
    "from itertools import compress\n",
    "from collections import defaultdict\n",
    "from copy import deepcopy\n",
    "from pprint import pprint\n",
    "import os\n",
    "\n",
    "# Import MNE processing\n",
    "from mne.viz import plot_compare_evokeds\n",
    "from mne import Epochs, events_from_annotations, set_log_level\n",
    "\n",
    "# Import MNE-NIRS processing\n",
    "import mne\n",
    "from mne_nirs.channels import get_long_channels\n",
    "from mne_nirs.channels import picks_pair_to_idx\n",
    "from mne_nirs.datasets import fnirs_motor_group\n",
    "from mne.preprocessing.nirs import beer_lambert_law, optical_density,\\\n",
    "    temporal_derivative_distribution_repair, scalp_coupling_index\n",
    "from mne_nirs.signal_enhancement import enhance_negative_correlation\n",
    "\n",
    "# Import MNE-BIDS processing\n",
    "from mne_bids import BIDSPath, read_raw_bids\n",
    "\n",
    "# Import StatsModels\n",
    "import statsmodels.formula.api as smf\n",
    "\n",
    "# Import Plotting Library\n",
    "import matplotlib.pyplot as plt\n",
    "import seaborn as sns\n",
    "\n",
    "# Set general parameters\n",
    "set_log_level(\"WARNING\")  # Don't show info, as it is repetitive for many subjects\n",
    "\n",
    "ignore = [\".DS_Store\", \"sub-03\"]\n",
    "\n",
    "# Based on Guides Published Here\n",
    "# https://mne.tools/mne-nirs/stable/auto_examples/general/plot_16_waveform_group.html"
   ]
  },
  {
   "cell_type": "code",
   "execution_count": 3,
   "id": "d3f12b11-d739-4fbf-8980-dcea1f0e7aa3",
   "metadata": {},
   "outputs": [],
   "source": [
    "def individual_analysis(bids_path):\n",
    "\n",
    "    # Read data with annotations in BIDS format\n",
    "    # raw_intensity = read_raw_bids(bids_path=bids_path, verbose=False)\n",
    "    raw_intensity = mne.io.read_raw_snirf(bids_path, verbose=True, preload=False)\n",
    "    raw_intensity = get_long_channels(raw_intensity, min_dist=0.01)\n",
    "    \n",
    "    channel_types = raw_intensity.copy()\n",
    "    print(channel_types)\n",
    "    \n",
    "    raw_intensity.annotations.rename({'4': 'Control', '2': 'Neutral', '3': 'Inflammatory', '1':'Practice'})\n",
    "\n",
    "    # Convert signal to optical density and determine bad channels\n",
    "    raw_od = optical_density(raw_intensity)\n",
    "    sci = scalp_coupling_index(raw_od, h_freq=1.35, h_trans_bandwidth=0.1)\n",
    "    raw_od.info[\"bads\"] = list(compress(raw_od.ch_names, sci < 0.5))\n",
    "    # raw_od.interpolate_bads()\n",
    "\n",
    "    # Downsample and apply signal cleaning techniques\n",
    "    raw_od.resample(0.8)\n",
    "    raw_od = temporal_derivative_distribution_repair(raw_od)\n",
    "\n",
    "    # Convert to haemoglobin and filter\n",
    "    raw_haemo = beer_lambert_law(raw_od, ppf=0.1)\n",
    "    raw_haemo = raw_haemo.filter(0.02, 0.3,\n",
    "                                 h_trans_bandwidth=0.1, l_trans_bandwidth=0.01,\n",
    "                                 verbose=False)\n",
    "\n",
    "    # Apply further data cleaning techniques and extract epochs\n",
    "    raw_haemo = enhance_negative_correlation(raw_haemo)\n",
    "\n",
    "    events, event_dict = events_from_annotations(raw_haemo, verbose=False)\n",
    "    \n",
    "    # Remove the STOP triggers for each event and hardcode the duration to 30 seconds due to MNE limitations\n",
    "    events = events[::2]\n",
    "\n",
    "    epochs = Epochs(raw_haemo, events, event_id=event_dict, tmin=-1, tmax=15.0,\n",
    "                    reject=dict(hbo=200e-6), reject_by_annotation=True,\n",
    "                    proj=True, baseline=(None, 0), detrend=0,\n",
    "                    preload=True, verbose=False)\n",
    "\n",
    "    return raw_haemo, epochs"
   ]
  },
  {
   "cell_type": "code",
   "execution_count": 4,
   "id": "e804507a-134d-4a2c-9b7e-2aa9f14542b2",
   "metadata": {},
   "outputs": [],
   "source": [
    "# Isolate Evoked Anon Data"
   ]
  },
  {
   "cell_type": "code",
   "execution_count": 5,
   "id": "5968e801-1729-4526-aa9d-5a1798b0c3a3",
   "metadata": {},
   "outputs": [
    {
     "name": "stdout",
     "output_type": "stream",
     "text": [
      "Loading /Users/nolanbrady/Desktop/LabResearch/IndependentStudy/DataAnalysis/FADataAnalysisScripts/../BIDS_Anon/sub-06/nirs/sub-06_task-AnonCom_nirs.snirf\n",
      "<RawSNIRF | sub-06_task-AnonCom_nirs.snirf, 36 x 18358 (1804.5 s), ~5.2 MB, data loaded>\n",
      "Loading /Users/nolanbrady/Desktop/LabResearch/IndependentStudy/DataAnalysis/FADataAnalysisScripts/../BIDS_Anon/sub-07/nirs/sub-07_task-AnonCom_nirs.snirf\n",
      "<RawSNIRF | sub-07_task-AnonCom_nirs.snirf, 36 x 17825 (1752.1 s), ~5.1 MB, data loaded>\n",
      "Loading /Users/nolanbrady/Desktop/LabResearch/IndependentStudy/DataAnalysis/FADataAnalysisScripts/../BIDS_Anon/sub-05/nirs/sub-05_task-AnonCom_nirs.snirf\n",
      "<RawSNIRF | sub-05_task-AnonCom_nirs.snirf, 36 x 17062 (1677.1 s), ~4.8 MB, data loaded>\n"
     ]
    }
   ],
   "source": [
    "from ramda import *\n",
    "all_evoked_anon = defaultdict(list)\n",
    "\n",
    "anon_subjects = os.listdir(\"../BIDS_Anon/\")\n",
    "\n",
    "for sub in anon_subjects:\n",
    "    if sub not in ignore:\n",
    "        # Create path to file based on experiment info\n",
    "        anon_f_path = f'../BIDS_Anon/{sub}/nirs/{sub}_task-AnonCom_nirs.snirf'\n",
    "\n",
    "        # Analyse data and return both ROI and channel results\n",
    "        raw_haemo, epochs = individual_analysis(anon_f_path)\n",
    "        \n",
    "        # Save individual-evoked participant data along with others in all_evokeds\n",
    "        for cidx, condition in enumerate(epochs.event_id):\n",
    "            all_evoked_anon[condition].append(epochs[condition].average())"
   ]
  },
  {
   "cell_type": "code",
   "execution_count": 6,
   "id": "3d1d3f09-8317-4e52-869b-3e5f37cc61ae",
   "metadata": {},
   "outputs": [],
   "source": [
    "# Isolate Evoked Direct Data"
   ]
  },
  {
   "cell_type": "code",
   "execution_count": 7,
   "id": "27b10dc7-bb0f-492e-b46b-c1c47daedd34",
   "metadata": {},
   "outputs": [
    {
     "name": "stdout",
     "output_type": "stream",
     "text": [
      "Loading /Users/nolanbrady/Desktop/LabResearch/IndependentStudy/DataAnalysis/FADataAnalysisScripts/../BIDS_Direct/sub-01/nirs/sub-01_task-AnonCom_nirs.snirf\n",
      "<RawSNIRF | sub-01_task-AnonCom_nirs.snirf, 36 x 17098 (1680.6 s), ~4.9 MB, data loaded>\n",
      "Loading /Users/nolanbrady/Desktop/LabResearch/IndependentStudy/DataAnalysis/FADataAnalysisScripts/../BIDS_Direct/sub-02/nirs/sub-02_task-AnonCom_nirs.snirf\n",
      "<RawSNIRF | sub-02_task-AnonCom_nirs.snirf, 36 x 14804 (1455.1 s), ~4.2 MB, data loaded>\n",
      "Loading /Users/nolanbrady/Desktop/LabResearch/IndependentStudy/DataAnalysis/FADataAnalysisScripts/../BIDS_Direct/sub-04/nirs/sub-04_task-AnonCom_nirs.snirf\n",
      "<RawSNIRF | sub-04_task-AnonCom_nirs.snirf, 36 x 16843 (1655.6 s), ~4.8 MB, data loaded>\n"
     ]
    }
   ],
   "source": [
    "all_evoked_direct = defaultdict(list)\n",
    "\n",
    "direct_subjects = os.listdir(\"../BIDS_Direct/\")\n",
    "\n",
    "for sub in direct_subjects:\n",
    "    if sub not in ignore:\n",
    "        # Create path to file based on experiment info\n",
    "        direct_f_path = f'../BIDS_Direct/{sub}/nirs/{sub}_task-AnonCom_nirs.snirf'\n",
    "\n",
    "        # Analyse data and return both ROI and channel results\n",
    "        raw_haemo, epochs = individual_analysis(direct_f_path)\n",
    "        \n",
    "        # Save individual-evoked participant data along with others in all_evokeds\n",
    "        for cidx, condition in enumerate(epochs.event_id):\n",
    "            all_evoked_direct[condition].append(epochs[condition].average())"
   ]
  },
  {
   "cell_type": "code",
   "execution_count": 8,
   "id": "d0380609-e063-46af-85f8-79e1bd4081a2",
   "metadata": {},
   "outputs": [],
   "source": [
    "# Create an Anon Dataframe"
   ]
  },
  {
   "cell_type": "code",
   "execution_count": 9,
   "id": "c17667ed-e128-4dd3-8ec8-dc61ee80b42a",
   "metadata": {},
   "outputs": [],
   "source": [
    "anon_df = pd.DataFrame(columns=['ID', 'Chroma', 'Condition', 'Value'])\n",
    "\n",
    "for idx, evoked in enumerate(all_evoked_anon):\n",
    "    subj_id = 0\n",
    "    for subj_data in all_evoked_anon[evoked]:\n",
    "        subj_id += 1\n",
    "        for chroma in [\"hbo\", \"hbr\"]:\n",
    "            data = deepcopy(subj_data)\n",
    "            value = data.crop(tmin=-1.0, tmax=15.0).data.mean() * 1.0e6\n",
    "\n",
    "            # Append metadata and extracted feature to dataframe\n",
    "            this_df = pd.DataFrame(\n",
    "                {'ID': subj_id, 'Chroma': chroma,\n",
    "                 'Condition': evoked, 'Value': value}, index=[0])\n",
    "            \n",
    "            anon_df = pd.concat([anon_df, this_df], ignore_index=True)\n",
    "            \n",
    "anon_df.reset_index(inplace=True, drop=True)\n",
    "anon_df['Value'] = pd.to_numeric(anon_df['Value'])  # some Pandas have this as object\n",
    "anon_df['Group'] = \"Anon\""
   ]
  },
  {
   "cell_type": "code",
   "execution_count": 10,
   "id": "61152b40-ed7c-41f8-9f7a-8b9aaec635e7",
   "metadata": {},
   "outputs": [],
   "source": [
    "direct_df = pd.DataFrame(columns=['ID', 'Chroma', 'Condition', 'Value'])\n",
    "\n",
    "for idx, evoked in enumerate(all_evoked_direct):\n",
    "    subj_id = 0\n",
    "    for subj_data in all_evoked_direct[evoked]:\n",
    "        subj_id += 1\n",
    "        for chroma in [\"hbo\", \"hbr\"]:\n",
    "            data = deepcopy(subj_data)\n",
    "            value = data.crop(tmin=-1.0, tmax=15.0).data.mean() * 1.0e6\n",
    "\n",
    "            # Append metadata and extracted feature to dataframe\n",
    "            this_df = pd.DataFrame(\n",
    "                {'ID': subj_id, 'Chroma': chroma,\n",
    "                 'Condition': evoked, 'Value': value}, index=[0])\n",
    "            \n",
    "            direct_df = pd.concat([direct_df, this_df], ignore_index=True)\n",
    "            \n",
    "direct_df.reset_index(inplace=True, drop=True)\n",
    "direct_df['Value'] = pd.to_numeric(direct_df['Value'])  # some Pandas have this as object\n",
    "direct_df['Group'] = \"Direct\""
   ]
  },
  {
   "cell_type": "code",
   "execution_count": 11,
   "id": "09641e68-5295-4bd0-b96d-f0aef551f09d",
   "metadata": {},
   "outputs": [
    {
     "name": "stderr",
     "output_type": "stream",
     "text": [
      "/Users/nolanbrady/opt/anaconda3/lib/python3.9/site-packages/statsmodels/regression/mixed_linear_model.py:2261: ConvergenceWarning: The Hessian matrix at the estimated parameter values is not positive definite.\n",
      "  warnings.warn(msg, ConvergenceWarning)\n"
     ]
    },
    {
     "data": {
      "text/html": [
       "<table class=\"simpletable\">\n",
       "<tr>\n",
       "       <td>Model:</td>       <td>MixedLM</td> <td>Dependent Variable:</td>  <td>Value</td> \n",
       "</tr>\n",
       "<tr>\n",
       "  <td>No. Observations:</td>    <td>6</td>          <td>Method:</td>        <td>REML</td>  \n",
       "</tr>\n",
       "<tr>\n",
       "     <td>No. Groups:</td>       <td>2</td>          <td>Scale:</td>        <td>1.2343</td> \n",
       "</tr>\n",
       "<tr>\n",
       "  <td>Min. group size:</td>     <td>3</td>      <td>Log-Likelihood:</td>   <td>-7.1954</td>\n",
       "</tr>\n",
       "<tr>\n",
       "  <td>Max. group size:</td>     <td>3</td>        <td>Converged:</td>        <td>Yes</td>  \n",
       "</tr>\n",
       "<tr>\n",
       "  <td>Mean group size:</td>    <td>3.0</td>            <td></td>              <td></td>    \n",
       "</tr>\n",
       "</table>\n",
       "<table class=\"simpletable\">\n",
       "<tr>\n",
       "         <td></td>          <th>Coef.</th> <th>Std.Err.</th>    <th>z</th>   <th>P>|z|</th> <th>[0.025</th> <th>0.975]</th>\n",
       "</tr>\n",
       "<tr>\n",
       "  <th>Intercept</th>        <td>0.583</td>   <td>1.283</td>   <td>0.454</td> <td>0.650</td> <td>-1.932</td>  <td>3.097</td>\n",
       "</tr>\n",
       "<tr>\n",
       "  <th>Group[T.Direct]</th> <td>-0.475</td>   <td>1.283</td>  <td>-0.371</td> <td>0.711</td> <td>-2.990</td>  <td>2.039</td>\n",
       "</tr>\n",
       "<tr>\n",
       "  <th>Group Var</th>        <td>1.234</td>     <td></td>        <td></td>      <td></td>       <td></td>       <td></td>   \n",
       "</tr>\n",
       "</table>"
      ],
      "text/plain": [
       "<class 'statsmodels.iolib.summary2.Summary'>\n",
       "\"\"\"\n",
       "          Mixed Linear Model Regression Results\n",
       "==========================================================\n",
       "Model:               MixedLM  Dependent Variable:  Value  \n",
       "No. Observations:    6        Method:              REML   \n",
       "No. Groups:          2        Scale:               1.2343 \n",
       "Min. group size:     3        Log-Likelihood:      -7.1954\n",
       "Max. group size:     3        Converged:           Yes    \n",
       "Mean group size:     3.0                                  \n",
       "----------------------------------------------------------\n",
       "                Coef.  Std.Err.   z    P>|z| [0.025 0.975]\n",
       "----------------------------------------------------------\n",
       "Intercept        0.583    1.283  0.454 0.650 -1.932  3.097\n",
       "Group[T.Direct] -0.475    1.283 -0.371 0.711 -2.990  2.039\n",
       "Group Var        1.234                                    \n",
       "==========================================================\n",
       "\n",
       "\"\"\""
      ]
     },
     "execution_count": 11,
     "metadata": {},
     "output_type": "execute_result"
    }
   ],
   "source": [
    "# Comparing Control between groups\n",
    "\n",
    "anon_input_data = anon_df.query(\"Condition in ['Control']\").query(\"Chroma in ['hbo']\")\n",
    "direct_input_data = direct_df.query(\"Condition in ['Control']\").query(\"Chroma in ['hbo']\")\n",
    "\n",
    "input_data = pd.concat([anon_input_data, direct_input_data])\n",
    "\n",
    "model = smf.mixedlm(\"Value ~ Group\", input_data, groups=input_data[\"Group\"]).fit()\n",
    "model.summary()"
   ]
  },
  {
   "cell_type": "code",
   "execution_count": 12,
   "id": "b3e5078f-ded7-4a6f-bf33-b195eac5a813",
   "metadata": {},
   "outputs": [
    {
     "name": "stderr",
     "output_type": "stream",
     "text": [
      "/Users/nolanbrady/opt/anaconda3/lib/python3.9/site-packages/statsmodels/regression/mixed_linear_model.py:2261: ConvergenceWarning: The Hessian matrix at the estimated parameter values is not positive definite.\n",
      "  warnings.warn(msg, ConvergenceWarning)\n"
     ]
    },
    {
     "data": {
      "text/html": [
       "<table class=\"simpletable\">\n",
       "<tr>\n",
       "       <td>Model:</td>       <td>MixedLM</td> <td>Dependent Variable:</td>  <td>Value</td> \n",
       "</tr>\n",
       "<tr>\n",
       "  <td>No. Observations:</td>    <td>6</td>          <td>Method:</td>        <td>REML</td>  \n",
       "</tr>\n",
       "<tr>\n",
       "     <td>No. Groups:</td>       <td>2</td>          <td>Scale:</td>        <td>0.3984</td> \n",
       "</tr>\n",
       "<tr>\n",
       "  <td>Min. group size:</td>     <td>3</td>      <td>Log-Likelihood:</td>   <td>-4.9338</td>\n",
       "</tr>\n",
       "<tr>\n",
       "  <td>Max. group size:</td>     <td>3</td>        <td>Converged:</td>        <td>Yes</td>  \n",
       "</tr>\n",
       "<tr>\n",
       "  <td>Mean group size:</td>    <td>3.0</td>            <td></td>              <td></td>    \n",
       "</tr>\n",
       "</table>\n",
       "<table class=\"simpletable\">\n",
       "<tr>\n",
       "         <td></td>          <th>Coef.</th> <th>Std.Err.</th>    <th>z</th>   <th>P>|z|</th> <th>[0.025</th> <th>0.975]</th>\n",
       "</tr>\n",
       "<tr>\n",
       "  <th>Intercept</th>       <td>-0.084</td>   <td>0.326</td>  <td>-0.257</td> <td>0.797</td> <td>-0.723</td>  <td>0.555</td>\n",
       "</tr>\n",
       "<tr>\n",
       "  <th>Group[T.Direct]</th> <td>-0.284</td>   <td>0.978</td>  <td>-0.291</td> <td>0.771</td> <td>-2.201</td>  <td>1.632</td>\n",
       "</tr>\n",
       "<tr>\n",
       "  <th>Group Var</th>        <td>0.398</td>     <td></td>        <td></td>      <td></td>       <td></td>       <td></td>   \n",
       "</tr>\n",
       "</table>"
      ],
      "text/plain": [
       "<class 'statsmodels.iolib.summary2.Summary'>\n",
       "\"\"\"\n",
       "          Mixed Linear Model Regression Results\n",
       "==========================================================\n",
       "Model:               MixedLM  Dependent Variable:  Value  \n",
       "No. Observations:    6        Method:              REML   \n",
       "No. Groups:          2        Scale:               0.3984 \n",
       "Min. group size:     3        Log-Likelihood:      -4.9338\n",
       "Max. group size:     3        Converged:           Yes    \n",
       "Mean group size:     3.0                                  \n",
       "----------------------------------------------------------\n",
       "                Coef.  Std.Err.   z    P>|z| [0.025 0.975]\n",
       "----------------------------------------------------------\n",
       "Intercept       -0.084    0.326 -0.257 0.797 -0.723  0.555\n",
       "Group[T.Direct] -0.284    0.978 -0.291 0.771 -2.201  1.632\n",
       "Group Var        0.398                                    \n",
       "==========================================================\n",
       "\n",
       "\"\"\""
      ]
     },
     "execution_count": 12,
     "metadata": {},
     "output_type": "execute_result"
    }
   ],
   "source": [
    "# Comparing Neutral between groups\n",
    "\n",
    "anon_input_data = anon_df.query(\"Condition in ['Neutral']\").query(\"Chroma in ['hbo']\")\n",
    "direct_input_data = direct_df.query(\"Condition in ['Neutral']\").query(\"Chroma in ['hbo']\")\n",
    "\n",
    "input_data = pd.concat([anon_input_data, direct_input_data])\n",
    "\n",
    "model = smf.mixedlm(\"Value ~ Group\", input_data, groups=input_data[\"Group\"]).fit()\n",
    "model.summary()"
   ]
  },
  {
   "cell_type": "code",
   "execution_count": 13,
   "id": "8ba67ffa-8878-4495-9145-db7ecb2ddcc1",
   "metadata": {},
   "outputs": [
    {
     "name": "stderr",
     "output_type": "stream",
     "text": [
      "/Users/nolanbrady/opt/anaconda3/lib/python3.9/site-packages/statsmodels/regression/mixed_linear_model.py:2261: ConvergenceWarning: The Hessian matrix at the estimated parameter values is not positive definite.\n",
      "  warnings.warn(msg, ConvergenceWarning)\n"
     ]
    },
    {
     "data": {
      "text/html": [
       "<table class=\"simpletable\">\n",
       "<tr>\n",
       "       <td>Model:</td>       <td>MixedLM</td> <td>Dependent Variable:</td>  <td>Value</td> \n",
       "</tr>\n",
       "<tr>\n",
       "  <td>No. Observations:</td>    <td>6</td>          <td>Method:</td>        <td>REML</td>  \n",
       "</tr>\n",
       "<tr>\n",
       "     <td>No. Groups:</td>       <td>2</td>          <td>Scale:</td>        <td>1.4307</td> \n",
       "</tr>\n",
       "<tr>\n",
       "  <td>Min. group size:</td>     <td>3</td>      <td>Log-Likelihood:</td>   <td>-7.4907</td>\n",
       "</tr>\n",
       "<tr>\n",
       "  <td>Max. group size:</td>     <td>3</td>        <td>Converged:</td>        <td>Yes</td>  \n",
       "</tr>\n",
       "<tr>\n",
       "  <td>Mean group size:</td>    <td>3.0</td>            <td></td>              <td></td>    \n",
       "</tr>\n",
       "</table>\n",
       "<table class=\"simpletable\">\n",
       "<tr>\n",
       "         <td></td>         <th>Coef.</th> <th>Std.Err.</th>   <th>z</th>   <th>P>|z|</th> <th>[0.025</th> <th>0.975]</th>\n",
       "</tr>\n",
       "<tr>\n",
       "  <th>Intercept</th>       <td>0.309</td>   <td>1.381</td>  <td>0.223</td> <td>0.823</td> <td>-2.398</td>  <td>3.016</td>\n",
       "</tr>\n",
       "<tr>\n",
       "  <th>Group[T.Direct]</th> <td>0.304</td>   <td>1.381</td>  <td>0.220</td> <td>0.826</td> <td>-2.403</td>  <td>3.011</td>\n",
       "</tr>\n",
       "<tr>\n",
       "  <th>Group Var</th>       <td>1.431</td>     <td></td>       <td></td>      <td></td>       <td></td>       <td></td>   \n",
       "</tr>\n",
       "</table>"
      ],
      "text/plain": [
       "<class 'statsmodels.iolib.summary2.Summary'>\n",
       "\"\"\"\n",
       "         Mixed Linear Model Regression Results\n",
       "========================================================\n",
       "Model:             MixedLM  Dependent Variable:  Value  \n",
       "No. Observations:  6        Method:              REML   \n",
       "No. Groups:        2        Scale:               1.4307 \n",
       "Min. group size:   3        Log-Likelihood:      -7.4907\n",
       "Max. group size:   3        Converged:           Yes    \n",
       "Mean group size:   3.0                                  \n",
       "--------------------------------------------------------\n",
       "                Coef. Std.Err.   z   P>|z| [0.025 0.975]\n",
       "--------------------------------------------------------\n",
       "Intercept       0.309    1.381 0.223 0.823 -2.398  3.016\n",
       "Group[T.Direct] 0.304    1.381 0.220 0.826 -2.403  3.011\n",
       "Group Var       1.431                                   \n",
       "========================================================\n",
       "\n",
       "\"\"\""
      ]
     },
     "execution_count": 13,
     "metadata": {},
     "output_type": "execute_result"
    }
   ],
   "source": [
    "# Comparing Inflamatory between groups\n",
    "\n",
    "anon_input_data = anon_df.query(\"Condition in ['Inflammatory']\").query(\"Chroma in ['hbo']\")\n",
    "direct_input_data = direct_df.query(\"Condition in ['Inflammatory']\").query(\"Chroma in ['hbo']\")\n",
    "\n",
    "input_data = pd.concat([anon_input_data, direct_input_data])\n",
    "\n",
    "model = smf.mixedlm(\"Value ~ Group\", input_data, groups=input_data[\"Group\"]).fit()\n",
    "model.summary()"
   ]
  },
  {
   "cell_type": "code",
   "execution_count": 14,
   "id": "45f53c7b-e834-434a-8183-3bf91f2638b2",
   "metadata": {},
   "outputs": [
    {
     "name": "stderr",
     "output_type": "stream",
     "text": [
      "/Users/nolanbrady/opt/anaconda3/lib/python3.9/site-packages/statsmodels/regression/mixed_linear_model.py:2261: ConvergenceWarning: The Hessian matrix at the estimated parameter values is not positive definite.\n",
      "  warnings.warn(msg, ConvergenceWarning)\n",
      "/Users/nolanbrady/opt/anaconda3/lib/python3.9/site-packages/statsmodels/regression/mixed_linear_model.py:2705: RuntimeWarning: invalid value encountered in sqrt\n",
      "  sdf[0:self.k_fe, 1] = np.sqrt(np.diag(self.cov_params()[0:self.k_fe]))\n"
     ]
    },
    {
     "name": "stdout",
     "output_type": "stream",
     "text": [
      "   ID Chroma Condition     Value   Group\n",
      "18  1    hbo  Practice -0.637955    Anon\n",
      "20  2    hbo  Practice -0.067750    Anon\n",
      "22  3    hbo  Practice  2.516331    Anon\n",
      "18  1    hbo  Practice -0.595733  Direct\n",
      "20  2    hbo  Practice -0.563472  Direct\n",
      "22  3    hbo  Practice -1.713713  Direct\n"
     ]
    },
    {
     "data": {
      "text/html": [
       "<table class=\"simpletable\">\n",
       "<tr>\n",
       "       <td>Model:</td>       <td>MixedLM</td> <td>Dependent Variable:</td>  <td>Value</td> \n",
       "</tr>\n",
       "<tr>\n",
       "  <td>No. Observations:</td>    <td>6</td>          <td>Method:</td>        <td>REML</td>  \n",
       "</tr>\n",
       "<tr>\n",
       "     <td>No. Groups:</td>       <td>2</td>          <td>Scale:</td>        <td>1.6272</td> \n",
       "</tr>\n",
       "<tr>\n",
       "  <td>Min. group size:</td>     <td>3</td>      <td>Log-Likelihood:</td>   <td>-7.7481</td>\n",
       "</tr>\n",
       "<tr>\n",
       "  <td>Max. group size:</td>     <td>3</td>        <td>Converged:</td>        <td>Yes</td>  \n",
       "</tr>\n",
       "<tr>\n",
       "  <td>Mean group size:</td>    <td>3.0</td>            <td></td>              <td></td>    \n",
       "</tr>\n",
       "</table>\n",
       "<table class=\"simpletable\">\n",
       "<tr>\n",
       "         <td></td>          <th>Coef.</th> <th>Std.Err.</th>   <th>z</th>   <th>P>|z|</th> <th>[0.025</th> <th>0.975]</th>\n",
       "</tr>\n",
       "<tr>\n",
       "  <th>Intercept</th>        <td>0.604</td>   <td>1.042</td>  <td>0.579</td> <td>0.562</td> <td>-1.438</td>  <td>2.645</td>\n",
       "</tr>\n",
       "<tr>\n",
       "  <th>Group[T.Direct]</th> <td>-1.561</td>     <td></td>       <td></td>      <td></td>       <td></td>       <td></td>   \n",
       "</tr>\n",
       "<tr>\n",
       "  <th>Group Var</th>        <td>1.627</td>     <td></td>       <td></td>      <td></td>       <td></td>       <td></td>   \n",
       "</tr>\n",
       "</table>"
      ],
      "text/plain": [
       "<class 'statsmodels.iolib.summary2.Summary'>\n",
       "\"\"\"\n",
       "          Mixed Linear Model Regression Results\n",
       "=========================================================\n",
       "Model:              MixedLM  Dependent Variable:  Value  \n",
       "No. Observations:   6        Method:              REML   \n",
       "No. Groups:         2        Scale:               1.6272 \n",
       "Min. group size:    3        Log-Likelihood:      -7.7481\n",
       "Max. group size:    3        Converged:           Yes    \n",
       "Mean group size:    3.0                                  \n",
       "---------------------------------------------------------\n",
       "                Coef.  Std.Err.   z   P>|z| [0.025 0.975]\n",
       "---------------------------------------------------------\n",
       "Intercept        0.604    1.042 0.579 0.562 -1.438  2.645\n",
       "Group[T.Direct] -1.561                                   \n",
       "Group Var        1.627                                   \n",
       "=========================================================\n",
       "\n",
       "\"\"\""
      ]
     },
     "execution_count": 14,
     "metadata": {},
     "output_type": "execute_result"
    }
   ],
   "source": [
    "# Comparing Practice between groups\n",
    "\n",
    "anon_input_data = anon_df.query(\"Condition in ['Practice']\").query(\"Chroma in ['hbo']\")\n",
    "direct_input_data = direct_df.query(\"Condition in ['Practice']\").query(\"Chroma in ['hbo']\")\n",
    "\n",
    "input_data = pd.concat([anon_input_data, direct_input_data])\n",
    "print(input_data)\n",
    "model = smf.mixedlm(\"Value ~ Group\", input_data, groups=input_data[\"Group\"]).fit()\n",
    "model.summary()"
   ]
  }
 ],
 "metadata": {
  "kernelspec": {
   "display_name": "Python 3 (ipykernel)",
   "language": "python",
   "name": "python3"
  },
  "language_info": {
   "codemirror_mode": {
    "name": "ipython",
    "version": 3
   },
   "file_extension": ".py",
   "mimetype": "text/x-python",
   "name": "python",
   "nbconvert_exporter": "python",
   "pygments_lexer": "ipython3",
   "version": "3.9.13"
  }
 },
 "nbformat": 4,
 "nbformat_minor": 5
}
