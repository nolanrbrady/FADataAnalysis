{
 "cells": [
  {
   "cell_type": "code",
   "execution_count": 1,
   "id": "64565ffa-742c-4900-91be-180f013bfb05",
   "metadata": {},
   "outputs": [],
   "source": [
    "# Import common libraries\n",
    "import numpy as np\n",
    "import pandas as pd\n",
    "import os\n",
    "\n",
    "# Import MNE processing\n",
    "import mne\n",
    "from mne.preprocessing.nirs import optical_density, beer_lambert_law\n",
    "\n",
    "# Import MNE-NIRS processing\n",
    "from mne_nirs.statistics import run_glm\n",
    "from mne_nirs.experimental_design import make_first_level_design_matrix\n",
    "from mne_nirs.statistics import statsmodels_to_results\n",
    "from mne_nirs.channels import get_short_channels, get_long_channels\n",
    "from mne_nirs.channels import picks_pair_to_idx\n",
    "from mne_nirs.visualisation import plot_glm_group_topo\n",
    "from mne_nirs.datasets import fnirs_motor_group\n",
    "from mne_nirs.visualisation import plot_glm_surface_projection\n",
    "from mne_nirs.io.fold import fold_channel_specificity\n",
    "\n",
    "# Import MNE-BIDS processing\n",
    "from mne_bids import BIDSPath, read_raw_bids, get_entity_vals\n",
    "\n",
    "# Import StatsModels\n",
    "import statsmodels.formula.api as smf\n",
    "\n",
    "# Import Plotting Library\n",
    "import matplotlib.pyplot as plt\n",
    "import matplotlib as mpl\n",
    "import seaborn as sns"
   ]
  },
  {
   "cell_type": "code",
   "execution_count": 2,
   "id": "b2a59dc9-5067-4579-b5a2-b59e77cb408a",
   "metadata": {},
   "outputs": [
    {
     "name": "stdout",
     "output_type": "stream",
     "text": [
      "../BIDS_Anon/nirs\n"
     ]
    }
   ],
   "source": [
    "# import raw nirx data\n",
    "root = \"../BIDS_Anon/\"\n",
    "# raw_intensity = mne.io.read_raw_snirf(fname, verbose=True, preload=True)\n",
    "# raw_intensity.plot_sensors()\n",
    "\n",
    "dataset = BIDSPath(root=root, task=\"AnonCom\", datatype=\"nirs\", suffix=\"nirs\", extension=\".snirf\")\n",
    "\n",
    "print(dataset.directory)"
   ]
  },
  {
   "cell_type": "code",
   "execution_count": 3,
   "id": "6befe0d5-b1f9-49dd-bacc-f503329b22a2",
   "metadata": {},
   "outputs": [],
   "source": [
    "def individual_analysis(bids_path, ID):\n",
    "    # print(bids_path, ID)\n",
    "    raw_intensity = mne.io.read_raw_snirf(bids_path, verbose=True, preload=True)\n",
    "    \n",
    "    raw_intensity.annotations.rename({'4': 'Control', '2': 'Neutral', '3': 'Inflammatory', '1':'Practice'})\n",
    "\n",
    "    # Get Events\n",
    "    events, event_dict = mne.events_from_annotations(raw_intensity, verbose=False)\n",
    "    \n",
    "    # Rename Events\n",
    "    # event_dict = {'Control': 4, 'Neutral': 2, 'Inflammatory': 3, 'Practice': 1}\n",
    "    \n",
    "    # Signal Processing\n",
    "    raw_od = mne.preprocessing.nirs.optical_density(raw_intensity)\n",
    "    # print(\"Raw OD\", raw_od)\n",
    "    \n",
    "    # Convert signal to haemoglobin and resample\n",
    "    raw_haemo = beer_lambert_law(raw_od, ppf=0.1)\n",
    "    raw_haemo.resample(0.3)\n",
    "    # print(\"Raw Haemo\", raw_haemo)\n",
    "    \n",
    "    # Make First Level Design Matrix\n",
    "    design_matrix = make_first_level_design_matrix(raw_haemo, drift_model='cosine', high_pass=0.005, hrf_model='spm', stim_dur=30.0)\n",
    "    \n",
    "\n",
    "    # Run GLM\n",
    "    glm_est = run_glm(raw_haemo, design_matrix)\n",
    "    \n",
    "    # Calculate Values of interest\n",
    "    cha = glm_est.to_dataframe()\n",
    "    \n",
    "    # Compute defined contrast\n",
    "    # print(design_matrix.columns)\n",
    "\n",
    "    contrast_matrix = np.eye(design_matrix.shape[1])\n",
    "    basic_conts = dict([(column, contrast_matrix[i])\n",
    "                        for i, column in enumerate(design_matrix.columns)])\n",
    "    neutral = basic_conts['Control'] - basic_conts['Neutral']\n",
    "    inflam = basic_conts['Control'] - basic_conts['Inflammatory']\n",
    "    \n",
    "    con_inflam = glm_est.compute_contrast(inflam)\n",
    "    con_neutral = glm_est.compute_contrast(neutral)\n",
    "    \n",
    "    neutral_contrast = con_neutral.to_dataframe()\n",
    "    inflam_contrast = con_inflam.to_dataframe()\n",
    "\n",
    "\n",
    "    return raw_haemo, cha, neutral_contrast, inflam_contrast\n",
    "\n",
    "#  cha = glm_est.to_dataframe()\n",
    "#  roi = glm_est.to_dataframe_region_of_interest(groups, design_matrix.columns, demographic_info=True)\n",
    "# contrast = glm_est.compute_contrast(contrast_LvR)\n",
    "#     con = contrast.to_dataframe()\n",
    "# raw_haemo"
   ]
  },
  {
   "cell_type": "code",
   "execution_count": 4,
   "id": "21f80609-afdc-4896-bdc7-160793e7946a",
   "metadata": {},
   "outputs": [
    {
     "name": "stdout",
     "output_type": "stream",
     "text": [
      "Loading /Users/nolanbrady/Desktop/LabResearch/IndependentStudy/DataAnalysis/FADataAnalysisScripts/../BIDS_Anon/sub-05/nirs/sub-05_task-AnonCom_nirs.snirf\n",
      "Reading 0 ... 17061  =      0.000 ...  1677.096 secs...\n"
     ]
    },
    {
     "ename": "FileNotFoundError",
     "evalue": "fname does not exist: /Users/nolanbrady/Desktop/LabResearch/IndependentStudy/DataAnalysis/FADataAnalysisScripts/../BIDS_Anon/sub-03/nirs/sub-03_task-AnonCom_nirs.snirf",
     "output_type": "error",
     "traceback": [
      "\u001b[0;31m---------------------------------------------------------------------------\u001b[0m",
      "\u001b[0;31mFileNotFoundError\u001b[0m                         Traceback (most recent call last)",
      "\u001b[0;32m/var/folders/f_/0f3gmdgs0db0f5gf8gg2874c0000gn/T/ipykernel_87923/4060033405.py\u001b[0m in \u001b[0;36m<module>\u001b[0;34m\u001b[0m\n\u001b[1;32m     11\u001b[0m \u001b[0;34m\u001b[0m\u001b[0m\n\u001b[1;32m     12\u001b[0m         \u001b[0;31m# Analyse data and return both ROI and channel results\u001b[0m\u001b[0;34m\u001b[0m\u001b[0;34m\u001b[0m\u001b[0m\n\u001b[0;32m---> 13\u001b[0;31m         \u001b[0mraw_haemo\u001b[0m\u001b[0;34m,\u001b[0m \u001b[0mcha\u001b[0m\u001b[0;34m,\u001b[0m \u001b[0mneutral_contrast\u001b[0m\u001b[0;34m,\u001b[0m \u001b[0minflam_contrast\u001b[0m \u001b[0;34m=\u001b[0m \u001b[0mindividual_analysis\u001b[0m\u001b[0;34m(\u001b[0m\u001b[0mf_path\u001b[0m\u001b[0;34m,\u001b[0m \u001b[0msub\u001b[0m\u001b[0;34m)\u001b[0m\u001b[0;34m\u001b[0m\u001b[0;34m\u001b[0m\u001b[0m\n\u001b[0m\u001b[1;32m     14\u001b[0m \u001b[0;34m\u001b[0m\u001b[0m\n\u001b[1;32m     15\u001b[0m         \u001b[0;31m# Append individual results to all participants\u001b[0m\u001b[0;34m\u001b[0m\u001b[0;34m\u001b[0m\u001b[0m\n",
      "\u001b[0;32m/var/folders/f_/0f3gmdgs0db0f5gf8gg2874c0000gn/T/ipykernel_87923/3812054096.py\u001b[0m in \u001b[0;36mindividual_analysis\u001b[0;34m(bids_path, ID)\u001b[0m\n\u001b[1;32m      1\u001b[0m \u001b[0;32mdef\u001b[0m \u001b[0mindividual_analysis\u001b[0m\u001b[0;34m(\u001b[0m\u001b[0mbids_path\u001b[0m\u001b[0;34m,\u001b[0m \u001b[0mID\u001b[0m\u001b[0;34m)\u001b[0m\u001b[0;34m:\u001b[0m\u001b[0;34m\u001b[0m\u001b[0;34m\u001b[0m\u001b[0m\n\u001b[1;32m      2\u001b[0m     \u001b[0;31m# print(bids_path, ID)\u001b[0m\u001b[0;34m\u001b[0m\u001b[0;34m\u001b[0m\u001b[0m\n\u001b[0;32m----> 3\u001b[0;31m     \u001b[0mraw_intensity\u001b[0m \u001b[0;34m=\u001b[0m \u001b[0mmne\u001b[0m\u001b[0;34m.\u001b[0m\u001b[0mio\u001b[0m\u001b[0;34m.\u001b[0m\u001b[0mread_raw_snirf\u001b[0m\u001b[0;34m(\u001b[0m\u001b[0mbids_path\u001b[0m\u001b[0;34m,\u001b[0m \u001b[0mverbose\u001b[0m\u001b[0;34m=\u001b[0m\u001b[0;32mTrue\u001b[0m\u001b[0;34m,\u001b[0m \u001b[0mpreload\u001b[0m\u001b[0;34m=\u001b[0m\u001b[0;32mTrue\u001b[0m\u001b[0;34m)\u001b[0m\u001b[0;34m\u001b[0m\u001b[0;34m\u001b[0m\u001b[0m\n\u001b[0m\u001b[1;32m      4\u001b[0m \u001b[0;34m\u001b[0m\u001b[0m\n\u001b[1;32m      5\u001b[0m     \u001b[0mraw_intensity\u001b[0m\u001b[0;34m.\u001b[0m\u001b[0mannotations\u001b[0m\u001b[0;34m.\u001b[0m\u001b[0mrename\u001b[0m\u001b[0;34m(\u001b[0m\u001b[0;34m{\u001b[0m\u001b[0;34m'4'\u001b[0m\u001b[0;34m:\u001b[0m \u001b[0;34m'Control'\u001b[0m\u001b[0;34m,\u001b[0m \u001b[0;34m'2'\u001b[0m\u001b[0;34m:\u001b[0m \u001b[0;34m'Neutral'\u001b[0m\u001b[0;34m,\u001b[0m \u001b[0;34m'3'\u001b[0m\u001b[0;34m:\u001b[0m \u001b[0;34m'Inflammatory'\u001b[0m\u001b[0;34m,\u001b[0m \u001b[0;34m'1'\u001b[0m\u001b[0;34m:\u001b[0m\u001b[0;34m'Practice'\u001b[0m\u001b[0;34m}\u001b[0m\u001b[0;34m)\u001b[0m\u001b[0;34m\u001b[0m\u001b[0;34m\u001b[0m\u001b[0m\n",
      "\u001b[0;32m~/opt/anaconda3/lib/python3.9/site-packages/mne/io/snirf/_snirf.py\u001b[0m in \u001b[0;36mread_raw_snirf\u001b[0;34m(fname, optode_frame, preload, verbose)\u001b[0m\n\u001b[1;32m     52\u001b[0m     \u001b[0mmne\u001b[0m\u001b[0;34m.\u001b[0m\u001b[0mio\u001b[0m\u001b[0;34m.\u001b[0m\u001b[0mRaw\u001b[0m \u001b[0;34m:\u001b[0m \u001b[0mDocumentation\u001b[0m \u001b[0mof\u001b[0m \u001b[0mattribute\u001b[0m \u001b[0;32mand\u001b[0m \u001b[0mmethods\u001b[0m\u001b[0;34m.\u001b[0m\u001b[0;34m\u001b[0m\u001b[0;34m\u001b[0m\u001b[0m\n\u001b[1;32m     53\u001b[0m     \"\"\"\n\u001b[0;32m---> 54\u001b[0;31m     \u001b[0;32mreturn\u001b[0m \u001b[0mRawSNIRF\u001b[0m\u001b[0;34m(\u001b[0m\u001b[0mfname\u001b[0m\u001b[0;34m,\u001b[0m \u001b[0moptode_frame\u001b[0m\u001b[0;34m,\u001b[0m \u001b[0mpreload\u001b[0m\u001b[0;34m,\u001b[0m \u001b[0mverbose\u001b[0m\u001b[0;34m)\u001b[0m\u001b[0;34m\u001b[0m\u001b[0;34m\u001b[0m\u001b[0m\n\u001b[0m\u001b[1;32m     55\u001b[0m \u001b[0;34m\u001b[0m\u001b[0m\n\u001b[1;32m     56\u001b[0m \u001b[0;34m\u001b[0m\u001b[0m\n",
      "\u001b[0;32m<decorator-gen-312>\u001b[0m in \u001b[0;36m__init__\u001b[0;34m(self, fname, optode_frame, preload, verbose)\u001b[0m\n",
      "\u001b[0;32m~/opt/anaconda3/lib/python3.9/site-packages/mne/io/snirf/_snirf.py\u001b[0m in \u001b[0;36m__init__\u001b[0;34m(self, fname, optode_frame, preload, verbose)\u001b[0m\n\u001b[1;32m     87\u001b[0m         \u001b[0mh5py\u001b[0m \u001b[0;34m=\u001b[0m \u001b[0m_import_h5py\u001b[0m\u001b[0;34m(\u001b[0m\u001b[0;34m)\u001b[0m\u001b[0;34m\u001b[0m\u001b[0;34m\u001b[0m\u001b[0m\n\u001b[1;32m     88\u001b[0m \u001b[0;34m\u001b[0m\u001b[0m\n\u001b[0;32m---> 89\u001b[0;31m         \u001b[0mfname\u001b[0m \u001b[0;34m=\u001b[0m \u001b[0m_check_fname\u001b[0m\u001b[0;34m(\u001b[0m\u001b[0mfname\u001b[0m\u001b[0;34m,\u001b[0m \u001b[0;34m'read'\u001b[0m\u001b[0;34m,\u001b[0m \u001b[0;32mTrue\u001b[0m\u001b[0;34m,\u001b[0m \u001b[0;34m'fname'\u001b[0m\u001b[0;34m)\u001b[0m\u001b[0;34m\u001b[0m\u001b[0;34m\u001b[0m\u001b[0m\n\u001b[0m\u001b[1;32m     90\u001b[0m         \u001b[0mlogger\u001b[0m\u001b[0;34m.\u001b[0m\u001b[0minfo\u001b[0m\u001b[0;34m(\u001b[0m\u001b[0;34m'Loading %s'\u001b[0m \u001b[0;34m%\u001b[0m \u001b[0mfname\u001b[0m\u001b[0;34m)\u001b[0m\u001b[0;34m\u001b[0m\u001b[0;34m\u001b[0m\u001b[0m\n\u001b[1;32m     91\u001b[0m \u001b[0;34m\u001b[0m\u001b[0m\n",
      "\u001b[0;32m<decorator-gen-0>\u001b[0m in \u001b[0;36m_check_fname\u001b[0;34m(fname, overwrite, must_exist, name, need_dir, verbose)\u001b[0m\n",
      "\u001b[0;32m~/opt/anaconda3/lib/python3.9/site-packages/mne/utils/check.py\u001b[0m in \u001b[0;36m_check_fname\u001b[0;34m(fname, overwrite, must_exist, name, need_dir, verbose)\u001b[0m\n\u001b[1;32m    243\u001b[0m                     f'{name} does not have read permissions: {fname}')\n\u001b[1;32m    244\u001b[0m     \u001b[0;32melif\u001b[0m \u001b[0mmust_exist\u001b[0m\u001b[0;34m:\u001b[0m\u001b[0;34m\u001b[0m\u001b[0;34m\u001b[0m\u001b[0m\n\u001b[0;32m--> 245\u001b[0;31m         \u001b[0;32mraise\u001b[0m \u001b[0mFileNotFoundError\u001b[0m\u001b[0;34m(\u001b[0m\u001b[0;34mf'{name} does not exist: {fname}'\u001b[0m\u001b[0;34m)\u001b[0m\u001b[0;34m\u001b[0m\u001b[0;34m\u001b[0m\u001b[0m\n\u001b[0m\u001b[1;32m    246\u001b[0m \u001b[0;34m\u001b[0m\u001b[0m\n\u001b[1;32m    247\u001b[0m     \u001b[0;32mreturn\u001b[0m \u001b[0mfname\u001b[0m\u001b[0;34m\u001b[0m\u001b[0;34m\u001b[0m\u001b[0m\n",
      "\u001b[0;31mFileNotFoundError\u001b[0m: fname does not exist: /Users/nolanbrady/Desktop/LabResearch/IndependentStudy/DataAnalysis/FADataAnalysisScripts/../BIDS_Anon/sub-03/nirs/sub-03_task-AnonCom_nirs.snirf"
     ]
    }
   ],
   "source": [
    "df_roi = pd.DataFrame()  # To store region of interest results\n",
    "df_cha = pd.DataFrame()  # To store channel level results\n",
    "df_con_neutral = pd.DataFrame()  # To store channel level neutral contrast results\n",
    "df_con_inflam = pd.DataFrame()  # To store channel level inflam contrast results\n",
    "\n",
    "subjects = os.listdir(\"../BIDS_Anon/\")\n",
    "for sub in subjects:\n",
    "    if sub != \".DS_Store\":\n",
    "        # Create path to file based on experiment info\n",
    "        f_path = f'../BIDS_Anon/{sub}/nirs/{sub}_task-AnonCom_nirs.snirf'\n",
    "        \n",
    "        # Analyse data and return both ROI and channel results\n",
    "        raw_haemo, cha, neutral_contrast, inflam_contrast = individual_analysis(f_path, sub)\n",
    "        \n",
    "        # Append individual results to all participants\n",
    "        # df_roi = pd.concat([df_roi, roi], ignore_index=True)\n",
    "        df_cha = pd.concat([df_cha, cha], ignore_index=True)\n",
    "        df_con_neutral = pd.concat([df_con_neutral, neutral_contrast], ignore_index=True)\n",
    "        df_con_inflam = pd.concat([df_con_inflam, inflam_contrast], ignore_index=True)\n",
    "        \n",
    "df_con_neutral"
   ]
  },
  {
   "cell_type": "code",
   "execution_count": null,
   "id": "eb8a4763-45f3-4b7b-90f0-7038804e3cda",
   "metadata": {},
   "outputs": [],
   "source": [
    "# Compute Group Level Results\n",
    "\n"
   ]
  }
 ],
 "metadata": {
  "kernelspec": {
   "display_name": "Python 3 (ipykernel)",
   "language": "python",
   "name": "python3"
  },
  "language_info": {
   "codemirror_mode": {
    "name": "ipython",
    "version": 3
   },
   "file_extension": ".py",
   "mimetype": "text/x-python",
   "name": "python",
   "nbconvert_exporter": "python",
   "pygments_lexer": "ipython3",
   "version": "3.9.13"
  }
 },
 "nbformat": 4,
 "nbformat_minor": 5
}
