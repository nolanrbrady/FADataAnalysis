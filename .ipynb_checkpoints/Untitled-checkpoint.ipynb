{
 "cells": [
  {
   "cell_type": "code",
   "execution_count": 1,
   "id": "484f4e0b-2680-4bf1-aba2-d52b3ff0fd71",
   "metadata": {},
   "outputs": [],
   "source": [
    "# Cross referencing Direct and Anon Groups between neutral and inflam groups"
   ]
  },
  {
   "cell_type": "code",
   "execution_count": 2,
   "id": "fcb5be06-6f40-47fc-9cbb-0bae4e1e81f6",
   "metadata": {},
   "outputs": [],
   "source": [
    "# Import common libraries\n",
    "import pandas as pd\n",
    "from itertools import compress\n",
    "from collections import defaultdict\n",
    "from copy import deepcopy\n",
    "from pprint import pprint\n",
    "import os\n",
    "\n",
    "# Import MNE processing\n",
    "from mne.viz import plot_compare_evokeds\n",
    "from mne import Epochs, events_from_annotations, set_log_level\n",
    "\n",
    "# Import MNE-NIRS processing\n",
    "import mne\n",
    "from mne_nirs.channels import get_long_channels\n",
    "from mne_nirs.channels import picks_pair_to_idx\n",
    "from mne_nirs.datasets import fnirs_motor_group\n",
    "from mne.preprocessing.nirs import beer_lambert_law, optical_density,\\\n",
    "    temporal_derivative_distribution_repair, scalp_coupling_index\n",
    "from mne_nirs.signal_enhancement import enhance_negative_correlation\n",
    "\n",
    "# Import MNE-BIDS processing\n",
    "from mne_bids import BIDSPath, read_raw_bids\n",
    "\n",
    "# Import StatsModels\n",
    "import statsmodels.formula.api as smf\n",
    "\n",
    "# Import Plotting Library\n",
    "import matplotlib.pyplot as plt\n",
    "import seaborn as sns\n",
    "\n",
    "# Set general parameters\n",
    "set_log_level(\"WARNING\")  # Don't show info, as it is repetitive for many subjects\n",
    "\n",
    "\n",
    "# Based on Guides Published Here\n",
    "# https://mne.tools/mne-nirs/stable/auto_examples/general/plot_16_waveform_group.html"
   ]
  },
  {
   "cell_type": "code",
   "execution_count": 3,
   "id": "d3f12b11-d739-4fbf-8980-dcea1f0e7aa3",
   "metadata": {},
   "outputs": [],
   "source": [
    "def individual_analysis(bids_path):\n",
    "\n",
    "    # Read data with annotations in BIDS format\n",
    "    # raw_intensity = read_raw_bids(bids_path=bids_path, verbose=False)\n",
    "    raw_intensity = mne.io.read_raw_snirf(bids_path, verbose=True, preload=False)\n",
    "    raw_intensity = get_long_channels(raw_intensity, min_dist=0.01)\n",
    "    \n",
    "    channel_types = raw_intensity.copy()\n",
    "    print(channel_types)\n",
    "    \n",
    "    raw_intensity.annotations.rename({'4': 'Control', '2': 'Neutral', '3': 'Inflammatory', '1':'Practice'})\n",
    "\n",
    "    # Convert signal to optical density and determine bad channels\n",
    "    raw_od = optical_density(raw_intensity)\n",
    "    sci = scalp_coupling_index(raw_od, h_freq=1.35, h_trans_bandwidth=0.1)\n",
    "    raw_od.info[\"bads\"] = list(compress(raw_od.ch_names, sci < 0.5))\n",
    "    # raw_od.interpolate_bads()\n",
    "\n",
    "    # Downsample and apply signal cleaning techniques\n",
    "    raw_od.resample(0.8)\n",
    "    raw_od = temporal_derivative_distribution_repair(raw_od)\n",
    "\n",
    "    # Convert to haemoglobin and filter\n",
    "    raw_haemo = beer_lambert_law(raw_od, ppf=0.1)\n",
    "    raw_haemo = raw_haemo.filter(0.02, 0.3,\n",
    "                                 h_trans_bandwidth=0.1, l_trans_bandwidth=0.01,\n",
    "                                 verbose=False)\n",
    "\n",
    "    # Apply further data cleaning techniques and extract epochs\n",
    "    raw_haemo = enhance_negative_correlation(raw_haemo)\n",
    "    # Extract events but ignore those with\n",
    "    # the word Ends (i.e. drop ExperimentEnds events)\n",
    "    events, event_dict = events_from_annotations(raw_haemo, verbose=False)\n",
    "\n",
    "    epochs = Epochs(raw_haemo, events, event_id=event_dict, tmin=-5, tmax=30,\n",
    "                    reject=dict(hbo=200e-6), reject_by_annotation=True,\n",
    "                    proj=True, baseline=(None, 0), detrend=0,\n",
    "                    preload=True, verbose=False)\n",
    "\n",
    "    return raw_haemo, epochs"
   ]
  },
  {
   "cell_type": "code",
   "execution_count": null,
   "id": "e804507a-134d-4a2c-9b7e-2aa9f14542b2",
   "metadata": {},
   "outputs": [],
   "source": [
    "# Isolate Evoked Anon Data"
   ]
  },
  {
   "cell_type": "code",
   "execution_count": null,
   "id": "5968e801-1729-4526-aa9d-5a1798b0c3a3",
   "metadata": {},
   "outputs": [],
   "source": [
    "all_evoked_anon = defaultdict(list)\n",
    "\n",
    "anon_subjects = os.listdir(\"../BIDS_Anon/\")\n",
    "\n",
    "for sub in subjects:\n",
    "    if sub != \".DS_Store\":\n",
    "        # Create path to file based on experiment info\n",
    "        anon_f_path = f'../BIDS_Anon/{sub}/nirs/{sub}_task-AnonCom_nirs.snirf'\n",
    "\n",
    "        # Analyse data and return both ROI and channel results\n",
    "        raw_haemo, epochs = individual_analysis(f_path)\n",
    "        \n",
    "        # Save individual-evoked participant data along with others in all_evokeds\n",
    "        for cidx, condition in enumerate(epochs.event_id):\n",
    "            all_evoked_anon[condition].append(epochs[condition].average())"
   ]
  },
  {
   "cell_type": "code",
   "execution_count": null,
   "id": "3d1d3f09-8317-4e52-869b-3e5f37cc61ae",
   "metadata": {},
   "outputs": [],
   "source": [
    "# Isolate Evoked Direct Data"
   ]
  },
  {
   "cell_type": "code",
   "execution_count": null,
   "id": "27b10dc7-bb0f-492e-b46b-c1c47daedd34",
   "metadata": {},
   "outputs": [],
   "source": [
    "all_evoked_direct = defaultdict(list)\n",
    "\n",
    "direct_subjects = os.listdir(\"../BIDS_Direct/\")\n",
    "\n",
    "for sub in subjects:\n",
    "    if sub != \".DS_Store\":\n",
    "        # Create path to file based on experiment info\n",
    "        direct_f_path = f'../BIDS_Direct/{sub}/nirs/{sub}_task-AnonCom_nirs.snirf'\n",
    "\n",
    "        # Analyse data and return both ROI and channel results\n",
    "        raw_haemo, epochs = individual_analysis(direct_f_path)\n",
    "        \n",
    "        # Save individual-evoked participant data along with others in all_evokeds\n",
    "        for cidx, condition in enumerate(epochs.event_id):\n",
    "            all_evoked_direct[condition].append(epochs[condition].average())"
   ]
  },
  {
   "cell_type": "code",
   "execution_count": null,
   "id": "d0380609-e063-46af-85f8-79e1bd4081a2",
   "metadata": {},
   "outputs": [],
   "source": [
    "# Create an Anon Dataframe"
   ]
  },
  {
   "cell_type": "code",
   "execution_count": 4,
   "id": "c17667ed-e128-4dd3-8ec8-dc61ee80b42a",
   "metadata": {},
   "outputs": [
    {
     "ename": "NameError",
     "evalue": "name 'all_evoked_anon' is not defined",
     "output_type": "error",
     "traceback": [
      "\u001b[0;31m---------------------------------------------------------------------------\u001b[0m",
      "\u001b[0;31mNameError\u001b[0m                                 Traceback (most recent call last)",
      "\u001b[0;32m/var/folders/f_/0f3gmdgs0db0f5gf8gg2874c0000gn/T/ipykernel_91883/2625454846.py\u001b[0m in \u001b[0;36m<module>\u001b[0;34m\u001b[0m\n\u001b[1;32m      1\u001b[0m \u001b[0manon_df\u001b[0m \u001b[0;34m=\u001b[0m \u001b[0mpd\u001b[0m\u001b[0;34m.\u001b[0m\u001b[0mDataFrame\u001b[0m\u001b[0;34m(\u001b[0m\u001b[0mcolumns\u001b[0m\u001b[0;34m=\u001b[0m\u001b[0;34m[\u001b[0m\u001b[0;34m'ID'\u001b[0m\u001b[0;34m,\u001b[0m \u001b[0;34m'Chroma'\u001b[0m\u001b[0;34m,\u001b[0m \u001b[0;34m'Condition'\u001b[0m\u001b[0;34m,\u001b[0m \u001b[0;34m'Value'\u001b[0m\u001b[0;34m]\u001b[0m\u001b[0;34m)\u001b[0m\u001b[0;34m\u001b[0m\u001b[0;34m\u001b[0m\u001b[0m\n\u001b[1;32m      2\u001b[0m \u001b[0;34m\u001b[0m\u001b[0m\n\u001b[0;32m----> 3\u001b[0;31m \u001b[0;32mfor\u001b[0m \u001b[0midx\u001b[0m\u001b[0;34m,\u001b[0m \u001b[0mevoked\u001b[0m \u001b[0;32min\u001b[0m \u001b[0menumerate\u001b[0m\u001b[0;34m(\u001b[0m\u001b[0mall_evoked_anon\u001b[0m\u001b[0;34m)\u001b[0m\u001b[0;34m:\u001b[0m\u001b[0;34m\u001b[0m\u001b[0;34m\u001b[0m\u001b[0m\n\u001b[0m\u001b[1;32m      4\u001b[0m     \u001b[0msubj_id\u001b[0m \u001b[0;34m=\u001b[0m \u001b[0;36m0\u001b[0m\u001b[0;34m\u001b[0m\u001b[0;34m\u001b[0m\u001b[0m\n\u001b[1;32m      5\u001b[0m     \u001b[0;32mfor\u001b[0m \u001b[0msubj_data\u001b[0m \u001b[0;32min\u001b[0m \u001b[0mall_evoked_anon\u001b[0m\u001b[0;34m[\u001b[0m\u001b[0mevoked\u001b[0m\u001b[0;34m]\u001b[0m\u001b[0;34m:\u001b[0m\u001b[0;34m\u001b[0m\u001b[0;34m\u001b[0m\u001b[0m\n",
      "\u001b[0;31mNameError\u001b[0m: name 'all_evoked_anon' is not defined"
     ]
    }
   ],
   "source": [
    "anon_df = pd.DataFrame(columns=['ID', 'Chroma', 'Condition', 'Value'])\n",
    "\n",
    "for idx, evoked in enumerate(all_evoked_anon):\n",
    "    subj_id = 0\n",
    "    for subj_data in all_evoked_anon[evoked]:\n",
    "        subj_id += 1\n",
    "        for chroma in [\"hbo\", \"hbr\"]:\n",
    "            data = deepcopy(subj_data)\n",
    "            value = data.crop(tmin=5.0, tmax=7.0).data.mean() * 1.0e6\n",
    "\n",
    "            # Append metadata and extracted feature to dataframe\n",
    "            this_df = pd.DataFrame(\n",
    "                {'ID': subj_id, 'Chroma': chroma,\n",
    "                 'Condition': evoked, 'Value': value}, index=[0])\n",
    "            \n",
    "            df = pd.concat([df, this_df], ignore_index=True)\n",
    "            \n",
    "df.reset_index(inplace=True, drop=True)\n",
    "df['Value'] = pd.to_numeric(df['Value'])  # some Pandas have this as object"
   ]
  },
  {
   "cell_type": "code",
   "execution_count": null,
   "id": "264f32c9-23bc-4016-8710-314c0b1b95e2",
   "metadata": {},
   "outputs": [],
   "source": [
    "direct_df = pd.DataFrame(columns=['ID', 'Chroma', 'Condition', 'Value'])\n",
    "\n",
    "for idx, evoked in enumerate(all_evoked_direct):\n",
    "    subj_id = 0\n",
    "    for subj_data in all_evoked_direct[evoked]:\n",
    "        subj_id += 1\n",
    "        for chroma in [\"hbo\", \"hbr\"]:\n",
    "            data = deepcopy(subj_data)\n",
    "            value = data.crop(tmin=5.0, tmax=7.0).data.mean() * 1.0e6\n",
    "\n",
    "            # Append metadata and extracted feature to dataframe\n",
    "            this_df = pd.DataFrame(\n",
    "                {'ID': subj_id, 'Chroma': chroma,\n",
    "                 'Condition': evoked, 'Value': value}, index=[0])\n",
    "            \n",
    "            df = pd.concat([df, this_df], ignore_index=True)\n",
    "            \n",
    "df.reset_index(inplace=True, drop=True)\n",
    "df['Value'] = pd.to_numeric(df['Value'])  # some Pandas have this as object"
   ]
  }
 ],
 "metadata": {
  "kernelspec": {
   "display_name": "Python 3 (ipykernel)",
   "language": "python",
   "name": "python3"
  },
  "language_info": {
   "codemirror_mode": {
    "name": "ipython",
    "version": 3
   },
   "file_extension": ".py",
   "mimetype": "text/x-python",
   "name": "python",
   "nbconvert_exporter": "python",
   "pygments_lexer": "ipython3",
   "version": "3.9.13"
  }
 },
 "nbformat": 4,
 "nbformat_minor": 5
}
