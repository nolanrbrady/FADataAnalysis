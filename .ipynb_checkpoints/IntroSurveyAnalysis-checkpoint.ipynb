{
 "cells": [
  {
   "cell_type": "code",
   "execution_count": 2,
   "metadata": {
    "colab": {
     "base_uri": "https://localhost:8080/"
    },
    "id": "jh5UqFysbE_L",
    "outputId": "ae3c789d-9c26-4eca-c51d-80b6a26a8c64"
   },
   "outputs": [],
   "source": [
    "#from google.colab import drive\n",
    "#drive.mount('/content/drive')"
   ]
  },
  {
   "cell_type": "code",
   "execution_count": 3,
   "metadata": {
    "id": "Rf75TttrTMjS"
   },
   "outputs": [],
   "source": [
    "import pandas as pd\n",
    "import math\n",
    "import numpy as np\n",
    "import statistics\n",
    "import scipy.stats\n",
    "import matplotlib.pyplot as plt\n",
    "\n",
    "\n",
    "# Import the data from the spreadsheet\n",
    "df = pd.read_excel('./CommunicationStudySurvey.xlsx')\n"
   ]
  },
  {
   "cell_type": "markdown",
   "metadata": {
    "id": "utwDu-BeWmsL"
   },
   "source": [
    "Descriptive Statistics"
   ]
  },
  {
   "cell_type": "code",
   "execution_count": 4,
   "metadata": {
    "colab": {
     "base_uri": "https://localhost:8080/"
    },
    "id": "LQ-a-Ft9WtWZ",
    "outputId": "8d7ea6fd-e047-4a42-82b1-619d5a9b1602"
   },
   "outputs": [
    {
     "name": "stdout",
     "output_type": "stream",
     "text": [
      "Socialness\n",
      "Mean 6.6\n",
      "SD 1.6465452046971292\n",
      "Median 6.5\n",
      "Variance 2.7111111111111112\n"
     ]
    }
   ],
   "source": [
    "# Cornelius\n",
    "\n",
    "\n",
    "\n",
    "socialness = df['How social would you say you are?']\n",
    "# Socialness\n",
    "print(\"Socialness\")\n",
    "print(\"Mean\", statistics.mean(socialness))\n",
    "print(\"SD\", statistics.stdev(socialness))\n",
    "print(\"Median\", statistics.median(socialness))\n",
    "print(\"Variance\", statistics.variance(socialness))\n",
    "\n",
    "# Inperson Open\n",
    "\n",
    "inperson_open = df['How open are you with strangers in person?']\n"
   ]
  },
  {
   "cell_type": "markdown",
   "metadata": {
    "id": "mrBhoTXIhNbR"
   },
   "source": [
    "**SIMPLE LINEAR REGRESSION TESTS**"
   ]
  },
  {
   "cell_type": "markdown",
   "metadata": {
    "id": "AkX1jSTNV-pi"
   },
   "source": [
    "Is there a correlation between time spent on social media and openness with strangers in person?"
   ]
  },
  {
   "cell_type": "code",
   "execution_count": null,
   "metadata": {
    "id": "FkF3BXA3TanR"
   },
   "outputs": [],
   "source": [
    "# Nolan\n"
   ]
  },
  {
   "cell_type": "markdown",
   "metadata": {
    "id": "na4xB2THWUr7"
   },
   "source": [
    "Is there a correlation between time spent on social media and openness with strangers online?"
   ]
  },
  {
   "cell_type": "code",
   "execution_count": null,
   "metadata": {
    "id": "mhz2T6ZzWjqZ"
   },
   "outputs": [],
   "source": [
    "# Nolan"
   ]
  },
  {
   "cell_type": "markdown",
   "metadata": {
    "id": "nJu9e1NiWkgC"
   },
   "source": [
    "Is there a correlation between self reported socialness and communication comfort levels (in person vs online)"
   ]
  },
  {
   "cell_type": "code",
   "execution_count": null,
   "metadata": {
    "id": "6ufsheuiXDJk"
   },
   "outputs": [],
   "source": [
    "# Nolan"
   ]
  },
  {
   "cell_type": "markdown",
   "metadata": {
    "id": "lIW-b14hYsaD"
   },
   "source": [
    "Does trust in technology impact openness to strangers in person"
   ]
  },
  {
   "cell_type": "code",
   "execution_count": null,
   "metadata": {
    "id": "Rz42-HjYY8qu"
   },
   "outputs": [],
   "source": []
  },
  {
   "cell_type": "markdown",
   "metadata": {
    "id": "73Z4pWSAY57E"
   },
   "source": [
    "Does trust in technology impact openness to strangers online"
   ]
  },
  {
   "cell_type": "code",
   "execution_count": null,
   "metadata": {
    "id": "LWYkoP5bY9HZ"
   },
   "outputs": [],
   "source": []
  },
  {
   "cell_type": "markdown",
   "metadata": {
    "id": "RsEUa0Igbzlp"
   },
   "source": [
    "Is there a correlation between multiplayer gaming and openness with strangers on the internet."
   ]
  },
  {
   "cell_type": "code",
   "execution_count": null,
   "metadata": {
    "colab": {
     "base_uri": "https://localhost:8080/",
     "height": 279
    },
    "id": "UwV2W2KdcAm_",
    "outputId": "3864af54-0941-4f7d-d09a-405d79839790"
   },
   "outputs": [],
   "source": [
    "# Anna\n",
    "df.plot(x='How many hours a week do you spend playing multiplayer video games?', y = 'How open are you with strangers online?', kind='scatter')\n",
    "plt.show()\n",
    "ax = plt.axes()\n"
   ]
  },
  {
   "cell_type": "markdown",
   "metadata": {
    "id": "H-AGxhCmhSow"
   },
   "source": [
    "**MULTIPLE LINEAR REGRESSIONS TESTS**"
   ]
  },
  {
   "cell_type": "markdown",
   "metadata": {
    "id": "PUqR8ZW7hZue"
   },
   "source": [
    "Does time spent playing video games and on social media impact in-person openness with strangers"
   ]
  },
  {
   "cell_type": "code",
   "execution_count": null,
   "metadata": {
    "id": "n7XKbUClhYVq"
   },
   "outputs": [],
   "source": []
  },
  {
   "cell_type": "markdown",
   "metadata": {
    "id": "0z7DD-1HhpF9"
   },
   "source": []
  }
 ],
 "metadata": {
  "colab": {
   "collapsed_sections": [],
   "provenance": []
  },
  "kernelspec": {
   "display_name": "Python 3 (ipykernel)",
   "language": "python",
   "name": "python3"
  },
  "language_info": {
   "codemirror_mode": {
    "name": "ipython",
    "version": 3
   },
   "file_extension": ".py",
   "mimetype": "text/x-python",
   "name": "python",
   "nbconvert_exporter": "python",
   "pygments_lexer": "ipython3",
   "version": "3.9.13"
  },
  "vscode": {
   "interpreter": {
    "hash": "a86706a06dd2b502dc7aca3603f78d557803b74427fa80513bcf8ed095dcecd9"
   }
  }
 },
 "nbformat": 4,
 "nbformat_minor": 4
}
