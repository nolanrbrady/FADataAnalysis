{
 "cells": [
  {
   "cell_type": "code",
   "execution_count": 1,
   "metadata": {
    "colab": {
     "base_uri": "https://localhost:8080/"
    },
    "id": "jh5UqFysbE_L",
    "outputId": "ae3c789d-9c26-4eca-c51d-80b6a26a8c64"
   },
   "outputs": [],
   "source": [
    "#from google.colab import drive\n",
    "#drive.mount('/content/drive')"
   ]
  },
  {
   "cell_type": "code",
   "execution_count": 74,
   "metadata": {
    "id": "Rf75TttrTMjS"
   },
   "outputs": [],
   "source": [
    "import pandas as pd\n",
    "import math\n",
    "import numpy as np\n",
    "import statistics\n",
    "from statsmodels.multivariate.manova import MANOVA\n",
    "from scipy import stats\n",
    "import researchpy as rp\n",
    "import matplotlib.pyplot as plt\n",
    "\n",
    "\n",
    "# Import the data from the spreadsheet\n",
    "df = pd.read_excel('./CommunicationStudySurvey.xlsx')"
   ]
  },
  {
   "cell_type": "code",
   "execution_count": null,
   "metadata": {},
   "outputs": [],
   "source": [
    "\n",
    "\n",
    "#============================\n",
    "# Survey Questions\n",
    "#============================\n",
    "\n",
    "# What is your study ID number?\n",
    "# What is your gender?\n",
    "# When is your birthday?\n",
    "# What year of school are you in?\n",
    "# How social would you say you are?\n",
    "# How open are you with strangers in person?\n",
    "# How open are you with strangers online?\n",
    "# How trustful are you of technology?\n",
    "# How many hours a week do you spend on social media?\n",
    "# How many hours a week do you spend playing multiplayer video games?\n",
    "# How many hours a week do you spend playing single player video games?"
   ]
  },
  {
   "cell_type": "markdown",
   "metadata": {
    "id": "utwDu-BeWmsL"
   },
   "source": [
    "Descriptive Statistics"
   ]
  },
  {
   "cell_type": "code",
   "execution_count": 3,
   "metadata": {
    "colab": {
     "base_uri": "https://localhost:8080/"
    },
    "id": "LQ-a-Ft9WtWZ",
    "outputId": "8d7ea6fd-e047-4a42-82b1-619d5a9b1602"
   },
   "outputs": [
    {
     "name": "stdout",
     "output_type": "stream",
     "text": [
      "Socialness\n",
      "Mean 6.6\n",
      "SD 1.6465452046971292\n",
      "Median 6.5\n",
      "Variance 2.7111111111111112\n"
     ]
    }
   ],
   "source": [
    "# Cornelius\n",
    "\n",
    "socialness = df['How social would you say you are?']\n",
    "# Socialness\n",
    "print(\"Socialness\")\n",
    "print(\"Mean\", statistics.mean(socialness))\n",
    "print(\"SD\", statistics.stdev(socialness))\n",
    "print(\"Median\", statistics.median(socialness))\n",
    "print(\"Variance\", statistics.variance(socialness))\n",
    "\n",
    "# Inperson Open\n",
    "\n",
    "inperson_open = df['How open are you with strangers in person?']\n"
   ]
  },
  {
   "cell_type": "markdown",
   "metadata": {
    "id": "mrBhoTXIhNbR"
   },
   "source": [
    "**SIMPLE LINEAR REGRESSION TESTS**"
   ]
  },
  {
   "cell_type": "markdown",
   "metadata": {
    "id": "AkX1jSTNV-pi"
   },
   "source": [
    "Is there a correlation between time spent on social media and openness with strangers in person?"
   ]
  },
  {
   "cell_type": "code",
   "execution_count": 4,
   "metadata": {
    "id": "FkF3BXA3TanR"
   },
   "outputs": [],
   "source": [
    "# Nolan\n"
   ]
  },
  {
   "cell_type": "markdown",
   "metadata": {
    "id": "na4xB2THWUr7"
   },
   "source": [
    "Is there a correlation between time spent on social media and openness with strangers online?"
   ]
  },
  {
   "cell_type": "code",
   "execution_count": 5,
   "metadata": {
    "id": "mhz2T6ZzWjqZ"
   },
   "outputs": [],
   "source": [
    "# Nolan"
   ]
  },
  {
   "cell_type": "markdown",
   "metadata": {
    "id": "nJu9e1NiWkgC"
   },
   "source": [
    "What is the effect of socialness on in-person openness and online openness."
   ]
  },
  {
   "cell_type": "code",
   "execution_count": 98,
   "metadata": {
    "id": "6ufsheuiXDJk"
   },
   "outputs": [
    {
     "name": "stdout",
     "output_type": "stream",
     "text": [
      "                 Multivariate linear model\n",
      "===========================================================\n",
      "                                                           \n",
      "-----------------------------------------------------------\n",
      "       Intercept        Value  Num DF Den DF F Value Pr > F\n",
      "-----------------------------------------------------------\n",
      "          Wilks' lambda 0.4954 2.0000 7.0000  3.5657 0.0855\n",
      "         Pillai's trace 0.5046 2.0000 7.0000  3.5657 0.0855\n",
      " Hotelling-Lawley trace 1.0188 2.0000 7.0000  3.5657 0.0855\n",
      "    Roy's greatest root 1.0188 2.0000 7.0000  3.5657 0.0855\n",
      "-----------------------------------------------------------\n",
      "                                                           \n",
      "-----------------------------------------------------------\n",
      "       socialness       Value  Num DF Den DF F Value Pr > F\n",
      "-----------------------------------------------------------\n",
      "          Wilks' lambda 0.9608 2.0000 7.0000  0.1429 0.8693\n",
      "         Pillai's trace 0.0392 2.0000 7.0000  0.1429 0.8693\n",
      " Hotelling-Lawley trace 0.0408 2.0000 7.0000  0.1429 0.8693\n",
      "    Roy's greatest root 0.0408 2.0000 7.0000  0.1429 0.8693\n",
      "===========================================================\n",
      "\n"
     ]
    }
   ],
   "source": [
    "# Nolan\n",
    "data = pd.read_excel('./CommunicationStudySurvey.xlsx')\\\n",
    ".filter(items = [\"How social would you say you are?\", \"How open are you with strangers in person?\", \"How open are you with strangers online?\"])\\\n",
    ".rename(columns={\"How social would you say you are?\": \"socialness\", \"How open are you with strangers in person?\": \"open_inperson\", \"How open are you with strangers online?\": \"open_online\"})\n",
    "\n",
    "# Can use MANOVA here\n",
    "maov = MANOVA.from_formula('open_online + open_inperson  ~ socialness', data = data)\n",
    "print(maov.mv_test())"
   ]
  },
  {
   "cell_type": "markdown",
   "metadata": {
    "id": "lIW-b14hYsaD"
   },
   "source": [
    "Does trust in technology impact openness to strangers in person"
   ]
  },
  {
   "cell_type": "code",
   "execution_count": 49,
   "metadata": {
    "id": "Rz42-HjYY8qu"
   },
   "outputs": [
    {
     "name": "stderr",
     "output_type": "stream",
     "text": [
      "/Users/nolanbrady/opt/anaconda3/lib/python3.9/site-packages/researchpy/ttest.py:38: FutureWarning: The series.append method is deprecated and will be removed from pandas in a future version. Use pandas.concat instead.\n",
      "  groups = group1.append(group2, ignore_index= True)\n",
      "/Users/nolanbrady/opt/anaconda3/lib/python3.9/site-packages/researchpy/ttest.py:140: FutureWarning: The series.append method is deprecated and will be removed from pandas in a future version. Use pandas.concat instead.\n",
      "  groups = group1.append(group2, ignore_index= True)\n"
     ]
    },
    {
     "data": {
      "text/plain": [
       "Text(5, 7, 'y = 1.50 + 0.71x')"
      ]
     },
     "execution_count": 49,
     "metadata": {},
     "output_type": "execute_result"
    },
    {
     "data": {
      "image/png": "[encoded data removed]",
      "text/plain": [
       "<Figure size 640x480 with 1 Axes>"
      ]
     },
     "metadata": {},
     "output_type": "display_data"
    }
   ],
   "source": [
    "# Used Paired Samples T test since the two values are from the same person.\n",
    "\n",
    "tech_trust = df['How trustful are you of technology?']\n",
    "open_inperson = df['How open are you with strangers in person?']\n",
    "\n",
    "# group1.append(df['How trustful are you of technology?'])\n",
    "\n",
    "rp.ttest(group1 = tech_trust, group2 = open_inperson, equal_variances = True, paired = True)\n",
    "\n",
    "#rp.correlation.corr_case(df[['How trustful are you of technology?', 'How open are you with strangers in person?']])\n",
    "\n",
    "\n",
    "# DATA Viz (line of best fit)\n",
    "# a, b = np.polyfit(tech_trust, open_inperson, 1)\n",
    "# plt.scatter(tech_trust, open_inperson, color='purple')\n",
    "# plt.plot(tech_trust, a*tech_trust+b)\n",
    "# plt.text(5, 7, 'y = ' + '{:.2f}'.format(b) + ' + {:.2f}'.format(a) + 'x', size=10)"
   ]
  },
  {
   "cell_type": "markdown",
   "metadata": {
    "id": "73Z4pWSAY57E"
   },
   "source": [
    "Does trust in technology impact openness to strangers online"
   ]
  },
  {
   "cell_type": "code",
   "execution_count": 72,
   "metadata": {
    "id": "LWYkoP5bY9HZ"
   },
   "outputs": [
    {
     "name": "stderr",
     "output_type": "stream",
     "text": [
      "/Users/nolanbrady/opt/anaconda3/lib/python3.9/site-packages/researchpy/ttest.py:38: FutureWarning: The series.append method is deprecated and will be removed from pandas in a future version. Use pandas.concat instead.\n",
      "  groups = group1.append(group2, ignore_index= True)\n",
      "/Users/nolanbrady/opt/anaconda3/lib/python3.9/site-packages/researchpy/ttest.py:140: FutureWarning: The series.append method is deprecated and will be removed from pandas in a future version. Use pandas.concat instead.\n",
      "  groups = group1.append(group2, ignore_index= True)\n"
     ]
    },
    {
     "data": {
      "text/plain": [
       "(                                  Variable     N  Mean        SD        SE  \\\n",
       " 0      How trustful are you of technology?  10.0   7.0  1.247219  0.394405   \n",
       " 1  How open are you with strangers online?  10.0   5.0  2.211083  0.699206   \n",
       " 2                                     diff  10.0   2.0  1.247219  0.394405   \n",
       " \n",
       "    95% Conf.  Interval  \n",
       " 0   6.107793  7.892207  \n",
       " 1   3.418286  6.581714  \n",
       " 2   1.107793  2.892207  ,\n",
       "                                Paired samples t-test  results\n",
       " 0  Difference (How trustful are you of technology...   2.0000\n",
       " 1                              Degrees of freedom =    9.0000\n",
       " 2                                               t =    5.0709\n",
       " 3                           Two side test p value =    0.0007\n",
       " 4                          Difference < 0 p value =    0.0003\n",
       " 5                          Difference > 0 p value =    0.9997\n",
       " 6                                       Cohen's d =    1.1566\n",
       " 7                                       Hedge's g =    1.1078\n",
       " 8                                  Glass's delta1 =    1.6036\n",
       " 9                                Point-Biserial r =    0.8607)"
      ]
     },
     "execution_count": 72,
     "metadata": {},
     "output_type": "execute_result"
    }
   ],
   "source": [
    "# Used Paired Samples T test since the two values are from the same person.\n",
    "\n",
    "tech_trust = df['How trustful are you of technology?']\n",
    "open_online = df['How open are you with strangers online?']\n",
    "\n",
    "# Paired Samples T-test\n",
    "rp.ttest(group1 = tech_trust, group2 = open_online, equal_variances = True, paired = True)\n",
    "\n",
    "# Pearsons R\n",
    "#rp.correlation.corr_case(df[['How trustful are you of technology?', 'How open are you with strangers online?']])\n",
    "\n",
    "# DATA Viz (line of best fit)\n",
    "# a, b = np.polyfit(tech_trust, open_online, 1)\n",
    "# plt.scatter(tech_trust, open_online, color='purple')\n",
    "# plt.plot(tech_trust, a*tech_trust+b)\n",
    "# plt.text(5, 7, 'y = ' + '{:.2f}'.format(b) + ' + {:.2f}'.format(a) + 'x', size=10)"
   ]
  },
  {
   "cell_type": "markdown",
   "metadata": {
    "id": "RsEUa0Igbzlp"
   },
   "source": [
    "Is there a correlation between multiplayer gaming and openness with strangers on the internet."
   ]
  },
  {
   "cell_type": "code",
   "execution_count": 31,
   "metadata": {
    "colab": {
     "base_uri": "https://localhost:8080/",
     "height": 279
    },
    "id": "UwV2W2KdcAm_",
    "outputId": "3864af54-0941-4f7d-d09a-405d79839790"
   },
   "outputs": [
    {
     "data": {
      "image/png": "[encoded data removed]",
      "text/plain": [
       "<Figure size 640x480 with 1 Axes>"
      ]
     },
     "metadata": {},
     "output_type": "display_data"
    },
    {
     "data": {
      "image/png": "[encoded data removed]",
      "text/plain": [
       "<Figure size 640x480 with 1 Axes>"
      ]
     },
     "metadata": {},
     "output_type": "display_data"
    }
   ],
   "source": [
    "# Anna\n",
    "df.plot(x='How many hours a week do you spend playing multiplayer video games?', y = 'How open are you with strangers online?', kind='scatter')\n",
    "plt.show()\n",
    "ax = plt.axes()\n"
   ]
  },
  {
   "cell_type": "markdown",
   "metadata": {
    "id": "H-AGxhCmhSow"
   },
   "source": [
    "**MULTIPLE LINEAR REGRESSIONS TESTS**"
   ]
  },
  {
   "cell_type": "markdown",
   "metadata": {
    "id": "PUqR8ZW7hZue"
   },
   "source": [
    "Does time spent playing video games and on social media impact in-person openness with strangers"
   ]
  },
  {
   "cell_type": "code",
   "execution_count": null,
   "metadata": {
    "id": "n7XKbUClhYVq"
   },
   "outputs": [],
   "source": []
  },
  {
   "cell_type": "markdown",
   "metadata": {
    "id": "0z7DD-1HhpF9"
   },
   "source": []
  }
 ],
 "metadata": {
  "colab": {
   "collapsed_sections": [],
   "provenance": []
  },
  "kernelspec": {
   "display_name": "Python 3 (ipykernel)",
   "language": "python",
   "name": "python3"
  },
  "language_info": {
   "codemirror_mode": {
    "name": "ipython",
    "version": 3
   },
   "file_extension": ".py",
   "mimetype": "text/x-python",
   "name": "python",
   "nbconvert_exporter": "python",
   "pygments_lexer": "ipython3",
   "version": "3.9.13"
  },
  "vscode": {
   "interpreter": {
    "hash": "a86706a06dd2b502dc7aca3603f78d557803b74427fa80513bcf8ed095dcecd9"
   }
  }
 },
 "nbformat": 4,
 "nbformat_minor": 4
}
