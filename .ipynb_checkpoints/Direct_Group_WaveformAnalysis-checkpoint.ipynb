{
 "cells": [
  {
   "cell_type": "code",
   "execution_count": 1,
   "id": "5a8dfcec-30f2-47f2-b693-3a93a054c1d4",
   "metadata": {},
   "outputs": [],
   "source": [
    "# Import common libraries\n",
    "import pandas as pd\n",
    "from itertools import compress\n",
    "from collections import defaultdict\n",
    "from copy import deepcopy\n",
    "from pprint import pprint\n",
    "import os\n",
    "\n",
    "# Import MNE processing\n",
    "from mne.viz import plot_compare_evokeds\n",
    "from mne import Epochs, events_from_annotations, set_log_level\n",
    "\n",
    "# Import MNE-NIRS processing\n",
    "import mne\n",
    "from mne_nirs.channels import get_long_channels\n",
    "from mne_nirs.channels import picks_pair_to_idx\n",
    "from mne_nirs.datasets import fnirs_motor_group\n",
    "from mne.preprocessing.nirs import beer_lambert_law, optical_density,\\\n",
    "    temporal_derivative_distribution_repair, scalp_coupling_index\n",
    "from mne_nirs.signal_enhancement import enhance_negative_correlation\n",
    "\n",
    "# Import MNE-BIDS processing\n",
    "from mne_bids import BIDSPath, read_raw_bids\n",
    "\n",
    "# Import StatsModels\n",
    "import statsmodels.formula.api as smf\n",
    "\n",
    "# Import Plotting Library\n",
    "import matplotlib.pyplot as plt\n",
    "import seaborn as sns\n",
    "\n",
    "# Set general parameters\n",
    "set_log_level(\"WARNING\")  # Don't show info, as it is repetitive for many subjects\n",
    "\n",
    "\n",
    "# Based on Guides Published Here\n",
    "# https://mne.tools/mne-nirs/stable/auto_examples/general/plot_16_waveform_group.html"
   ]
  },
  {
   "cell_type": "code",
   "execution_count": 2,
   "id": "ed527752-3560-44f1-b397-d29c2a9caa42",
   "metadata": {},
   "outputs": [],
   "source": [
    "def individual_analysis(bids_path):\n",
    "\n",
    "    # Read data with annotations in BIDS format\n",
    "    # raw_intensity = read_raw_bids(bids_path=bids_path, verbose=False)\n",
    "    raw_intensity = mne.io.read_raw_snirf(bids_path, verbose=True, preload=False)\n",
    "    raw_intensity = get_long_channels(raw_intensity, min_dist=0.01)\n",
    "    \n",
    "    channel_types = raw_intensity\n",
    "    print(channel_types)\n",
    "    \n",
    "    raw_intensity.annotations.rename({'4': 'Control', '2': 'Neutral', '3': 'Inflammatory', '1':'Practice'})\n",
    "\n",
    "    # Convert signal to optical density and determine bad channels\n",
    "    raw_od = optical_density(raw_intensity)\n",
    "    sci = scalp_coupling_index(raw_od, h_freq=1.35, h_trans_bandwidth= 0.1)\n",
    "    raw_od.info[\"bads\"] = list(compress(raw_od.ch_names, sci < 0.5))\n",
    "    # raw_od.interpolate_bads()\n",
    "\n",
    "    # Downsample and apply signal cleaning techniques\n",
    "    raw_od.resample(0.8)\n",
    "    raw_od = temporal_derivative_distribution_repair(raw_od)\n",
    "\n",
    "    # Convert to haemoglobin and filter\n",
    "    raw_haemo = beer_lambert_law(raw_od, ppf=0.1)\n",
    "    raw_haemo = raw_haemo.filter(0.02, 0.3,\n",
    "                                 h_trans_bandwidth=0.1, l_trans_bandwidth=0.01,\n",
    "                                 verbose=False)\n",
    "\n",
    "    # Apply further data cleaning techniques and extract epochs\n",
    "    raw_haemo = enhance_negative_correlation(raw_haemo)\n",
    "\n",
    "    events, event_dict = events_from_annotations(raw_haemo, verbose=False)\n",
    "\n",
    "    # Remove the END triggers to hardcode the duration (30 seconds)\n",
    "    events = events[::2]\n",
    "\n",
    "\n",
    "    # NEED TO LOOK INTO SHORTEST AND LONGEST EVENTS TO ENSRUE TMIN AND TMAX ARE ACCURATE\n",
    "    epochs = Epochs(raw_haemo, events, event_id=event_dict, tmin=-1.0, tmax= 15,\n",
    "                    reject=dict(hbo=200e-6), reject_by_annotation=True,\n",
    "                    proj=True, baseline=(None, 0), detrend=0,\n",
    "                    preload=True, verbose=False)\n",
    "    print(epochs)\n",
    "\n",
    "    return raw_haemo, epochs"
   ]
  },
  {
   "cell_type": "code",
   "execution_count": 3,
   "id": "20bc4a41-b484-442a-b36a-b98758a281e9",
   "metadata": {},
   "outputs": [
    {
     "name": "stdout",
     "output_type": "stream",
     "text": [
      "Loading /Users/nolanbrady/Desktop/LabResearch/IndependentStudy/DataAnalysis/FADataAnalysisScripts/../BIDS_Direct/sub-01/nirs/sub-01_task-AnonCom_nirs.snirf\n",
      "<RawSNIRF | sub-01_task-AnonCom_nirs.snirf, 36 x 17098 (1680.6 s), ~4.9 MB, data loaded>\n"
     ]
    },
    {
     "ename": "ValueError",
     "evalue": "Effective band-stop frequency (0.7) is too high (maximum based on Nyquist is 0.4)",
     "output_type": "error",
     "traceback": [
      "\u001b[0;31m---------------------------------------------------------------------------\u001b[0m",
      "\u001b[0;31mValueError\u001b[0m                                Traceback (most recent call last)",
      "\u001b[0;32m/var/folders/f_/0f3gmdgs0db0f5gf8gg2874c0000gn/T/ipykernel_39473/2797835555.py\u001b[0m in \u001b[0;36m<module>\u001b[0;34m\u001b[0m\n\u001b[1;32m      8\u001b[0m \u001b[0;34m\u001b[0m\u001b[0m\n\u001b[1;32m      9\u001b[0m         \u001b[0;31m# Analyse data and return both ROI and channel results\u001b[0m\u001b[0;34m\u001b[0m\u001b[0;34m\u001b[0m\u001b[0m\n\u001b[0;32m---> 10\u001b[0;31m         \u001b[0mraw_haemo\u001b[0m\u001b[0;34m,\u001b[0m \u001b[0mepochs\u001b[0m \u001b[0;34m=\u001b[0m \u001b[0mindividual_analysis\u001b[0m\u001b[0;34m(\u001b[0m\u001b[0mf_path\u001b[0m\u001b[0;34m)\u001b[0m\u001b[0;34m\u001b[0m\u001b[0;34m\u001b[0m\u001b[0m\n\u001b[0m\u001b[1;32m     11\u001b[0m \u001b[0;34m\u001b[0m\u001b[0m\n\u001b[1;32m     12\u001b[0m         \u001b[0;31m# Save individual-evoked participant data along with others in all_evokeds\u001b[0m\u001b[0;34m\u001b[0m\u001b[0;34m\u001b[0m\u001b[0m\n",
      "\u001b[0;32m/var/folders/f_/0f3gmdgs0db0f5gf8gg2874c0000gn/T/ipykernel_39473/809434159.py\u001b[0m in \u001b[0;36mindividual_analysis\u001b[0;34m(bids_path)\u001b[0m\n\u001b[1;32m     23\u001b[0m     \u001b[0;31m# Convert to haemoglobin and filter\u001b[0m\u001b[0;34m\u001b[0m\u001b[0;34m\u001b[0m\u001b[0m\n\u001b[1;32m     24\u001b[0m     \u001b[0mraw_haemo\u001b[0m \u001b[0;34m=\u001b[0m \u001b[0mbeer_lambert_law\u001b[0m\u001b[0;34m(\u001b[0m\u001b[0mraw_od\u001b[0m\u001b[0;34m,\u001b[0m \u001b[0mppf\u001b[0m\u001b[0;34m=\u001b[0m\u001b[0;36m0.1\u001b[0m\u001b[0;34m)\u001b[0m\u001b[0;34m\u001b[0m\u001b[0;34m\u001b[0m\u001b[0m\n\u001b[0;32m---> 25\u001b[0;31m     raw_haemo = raw_haemo.filter(0.02, 0.3,\n\u001b[0m\u001b[1;32m     26\u001b[0m                                  \u001b[0mh_trans_bandwidth\u001b[0m\u001b[0;34m=\u001b[0m\u001b[0;36m0.4\u001b[0m\u001b[0;34m,\u001b[0m \u001b[0ml_trans_bandwidth\u001b[0m\u001b[0;34m=\u001b[0m\u001b[0;36m0.01\u001b[0m\u001b[0;34m,\u001b[0m\u001b[0;34m\u001b[0m\u001b[0;34m\u001b[0m\u001b[0m\n\u001b[1;32m     27\u001b[0m                                  verbose=False)\n",
      "\u001b[0;32m~/opt/anaconda3/lib/python3.9/site-packages/mne/io/base.py\u001b[0m in \u001b[0;36mfilter\u001b[0;34m(self, l_freq, h_freq, picks, filter_length, l_trans_bandwidth, h_trans_bandwidth, n_jobs, method, iir_params, phase, fir_window, fir_design, skip_by_annotation, pad, verbose)\u001b[0m\n\u001b[1;32m    975\u001b[0m                \u001b[0mskip_by_annotation\u001b[0m\u001b[0;34m=\u001b[0m\u001b[0;34m(\u001b[0m\u001b[0;34m'edge'\u001b[0m\u001b[0;34m,\u001b[0m \u001b[0;34m'bad_acq_skip'\u001b[0m\u001b[0;34m)\u001b[0m\u001b[0;34m,\u001b[0m\u001b[0;34m\u001b[0m\u001b[0;34m\u001b[0m\u001b[0m\n\u001b[1;32m    976\u001b[0m                pad='reflect_limited', verbose=None):  # noqa: D102\n\u001b[0;32m--> 977\u001b[0;31m         return super().filter(\n\u001b[0m\u001b[1;32m    978\u001b[0m             \u001b[0ml_freq\u001b[0m\u001b[0;34m,\u001b[0m \u001b[0mh_freq\u001b[0m\u001b[0;34m,\u001b[0m \u001b[0mpicks\u001b[0m\u001b[0;34m,\u001b[0m \u001b[0mfilter_length\u001b[0m\u001b[0;34m,\u001b[0m \u001b[0ml_trans_bandwidth\u001b[0m\u001b[0;34m,\u001b[0m\u001b[0;34m\u001b[0m\u001b[0;34m\u001b[0m\u001b[0m\n\u001b[1;32m    979\u001b[0m             \u001b[0mh_trans_bandwidth\u001b[0m\u001b[0;34m,\u001b[0m \u001b[0mn_jobs\u001b[0m\u001b[0;34m=\u001b[0m\u001b[0mn_jobs\u001b[0m\u001b[0;34m,\u001b[0m \u001b[0mmethod\u001b[0m\u001b[0;34m=\u001b[0m\u001b[0mmethod\u001b[0m\u001b[0;34m,\u001b[0m\u001b[0;34m\u001b[0m\u001b[0;34m\u001b[0m\u001b[0m\n",
      "\u001b[0;32m<decorator-gen-147>\u001b[0m in \u001b[0;36mfilter\u001b[0;34m(self, l_freq, h_freq, picks, filter_length, l_trans_bandwidth, h_trans_bandwidth, n_jobs, method, iir_params, phase, fir_window, fir_design, skip_by_annotation, pad, verbose)\u001b[0m\n",
      "\u001b[0;32m~/opt/anaconda3/lib/python3.9/site-packages/mne/filter.py\u001b[0m in \u001b[0;36mfilter\u001b[0;34m(self, l_freq, h_freq, picks, filter_length, l_trans_bandwidth, h_trans_bandwidth, n_jobs, method, iir_params, phase, fir_window, fir_design, skip_by_annotation, pad, verbose)\u001b[0m\n\u001b[1;32m   2022\u001b[0m             \u001b[0;31m# once about the length criterion (longest segment is too short)\u001b[0m\u001b[0;34m\u001b[0m\u001b[0;34m\u001b[0m\u001b[0m\n\u001b[1;32m   2023\u001b[0m             \u001b[0muse_verbose\u001b[0m \u001b[0;34m=\u001b[0m \u001b[0mverbose\u001b[0m \u001b[0;32mif\u001b[0m \u001b[0msi\u001b[0m \u001b[0;34m==\u001b[0m \u001b[0mmax_idx\u001b[0m \u001b[0;32melse\u001b[0m \u001b[0;34m'error'\u001b[0m\u001b[0;34m\u001b[0m\u001b[0;34m\u001b[0m\u001b[0m\n\u001b[0;32m-> 2024\u001b[0;31m             filter_data(\n\u001b[0m\u001b[1;32m   2025\u001b[0m                 \u001b[0mself\u001b[0m\u001b[0;34m.\u001b[0m\u001b[0m_data\u001b[0m\u001b[0;34m[\u001b[0m\u001b[0;34m:\u001b[0m\u001b[0;34m,\u001b[0m \u001b[0mstart\u001b[0m\u001b[0;34m:\u001b[0m\u001b[0mstop\u001b[0m\u001b[0;34m]\u001b[0m\u001b[0;34m,\u001b[0m \u001b[0mself\u001b[0m\u001b[0;34m.\u001b[0m\u001b[0minfo\u001b[0m\u001b[0;34m[\u001b[0m\u001b[0;34m'sfreq'\u001b[0m\u001b[0;34m]\u001b[0m\u001b[0;34m,\u001b[0m \u001b[0ml_freq\u001b[0m\u001b[0;34m,\u001b[0m \u001b[0mh_freq\u001b[0m\u001b[0;34m,\u001b[0m\u001b[0;34m\u001b[0m\u001b[0;34m\u001b[0m\u001b[0m\n\u001b[1;32m   2026\u001b[0m                 \u001b[0mpicks\u001b[0m\u001b[0;34m,\u001b[0m \u001b[0mfilter_length\u001b[0m\u001b[0;34m,\u001b[0m \u001b[0ml_trans_bandwidth\u001b[0m\u001b[0;34m,\u001b[0m \u001b[0mh_trans_bandwidth\u001b[0m\u001b[0;34m,\u001b[0m\u001b[0;34m\u001b[0m\u001b[0;34m\u001b[0m\u001b[0m\n",
      "\u001b[0;32m<decorator-gen-142>\u001b[0m in \u001b[0;36mfilter_data\u001b[0;34m(data, sfreq, l_freq, h_freq, picks, filter_length, l_trans_bandwidth, h_trans_bandwidth, n_jobs, method, iir_params, copy, phase, fir_window, fir_design, pad, verbose)\u001b[0m\n",
      "\u001b[0;32m~/opt/anaconda3/lib/python3.9/site-packages/mne/filter.py\u001b[0m in \u001b[0;36mfilter_data\u001b[0;34m(data, sfreq, l_freq, h_freq, picks, filter_length, l_trans_bandwidth, h_trans_bandwidth, n_jobs, method, iir_params, copy, phase, fir_window, fir_design, pad, verbose)\u001b[0m\n\u001b[1;32m    810\u001b[0m     \u001b[0mdata\u001b[0m \u001b[0;34m=\u001b[0m \u001b[0m_check_filterable\u001b[0m\u001b[0;34m(\u001b[0m\u001b[0mdata\u001b[0m\u001b[0;34m)\u001b[0m\u001b[0;34m\u001b[0m\u001b[0;34m\u001b[0m\u001b[0m\n\u001b[1;32m    811\u001b[0m     \u001b[0miir_params\u001b[0m\u001b[0;34m,\u001b[0m \u001b[0mmethod\u001b[0m \u001b[0;34m=\u001b[0m \u001b[0m_check_method\u001b[0m\u001b[0;34m(\u001b[0m\u001b[0mmethod\u001b[0m\u001b[0;34m,\u001b[0m \u001b[0miir_params\u001b[0m\u001b[0;34m)\u001b[0m\u001b[0;34m\u001b[0m\u001b[0;34m\u001b[0m\u001b[0m\n\u001b[0;32m--> 812\u001b[0;31m     filt = create_filter(\n\u001b[0m\u001b[1;32m    813\u001b[0m         \u001b[0mdata\u001b[0m\u001b[0;34m,\u001b[0m \u001b[0msfreq\u001b[0m\u001b[0;34m,\u001b[0m \u001b[0ml_freq\u001b[0m\u001b[0;34m,\u001b[0m \u001b[0mh_freq\u001b[0m\u001b[0;34m,\u001b[0m \u001b[0mfilter_length\u001b[0m\u001b[0;34m,\u001b[0m \u001b[0ml_trans_bandwidth\u001b[0m\u001b[0;34m,\u001b[0m\u001b[0;34m\u001b[0m\u001b[0;34m\u001b[0m\u001b[0m\n\u001b[1;32m    814\u001b[0m         h_trans_bandwidth, method, iir_params, phase, fir_window, fir_design)\n",
      "\u001b[0;32m<decorator-gen-143>\u001b[0m in \u001b[0;36mcreate_filter\u001b[0;34m(data, sfreq, l_freq, h_freq, filter_length, l_trans_bandwidth, h_trans_bandwidth, method, iir_params, phase, fir_window, fir_design, verbose)\u001b[0m\n",
      "\u001b[0;32m~/opt/anaconda3/lib/python3.9/site-packages/mne/filter.py\u001b[0m in \u001b[0;36mcreate_filter\u001b[0;34m(data, sfreq, l_freq, h_freq, filter_length, l_trans_bandwidth, h_trans_bandwidth, method, iir_params, phase, fir_window, fir_design, verbose)\u001b[0m\n\u001b[1;32m   1005\u001b[0m                         % (l_freq, h_freq))\n\u001b[1;32m   1006\u001b[0m             \u001b[0mdata\u001b[0m\u001b[0;34m,\u001b[0m \u001b[0msfreq\u001b[0m\u001b[0;34m,\u001b[0m \u001b[0mf_p1\u001b[0m\u001b[0;34m,\u001b[0m \u001b[0mf_p2\u001b[0m\u001b[0;34m,\u001b[0m \u001b[0mf_s1\u001b[0m\u001b[0;34m,\u001b[0m \u001b[0mf_s2\u001b[0m\u001b[0;34m,\u001b[0m \u001b[0mfilter_length\u001b[0m\u001b[0;34m,\u001b[0m \u001b[0mphase\u001b[0m\u001b[0;34m,\u001b[0m\u001b[0;31m \u001b[0m\u001b[0;31m\\\u001b[0m\u001b[0;34m\u001b[0m\u001b[0;34m\u001b[0m\u001b[0m\n\u001b[0;32m-> 1007\u001b[0;31m                 fir_window, fir_design = _triage_filter_params(\n\u001b[0m\u001b[1;32m   1008\u001b[0m                     \u001b[0mdata\u001b[0m\u001b[0;34m,\u001b[0m \u001b[0msfreq\u001b[0m\u001b[0;34m,\u001b[0m \u001b[0ml_freq\u001b[0m\u001b[0;34m,\u001b[0m \u001b[0mh_freq\u001b[0m\u001b[0;34m,\u001b[0m \u001b[0ml_trans_bandwidth\u001b[0m\u001b[0;34m,\u001b[0m\u001b[0;34m\u001b[0m\u001b[0;34m\u001b[0m\u001b[0m\n\u001b[1;32m   1009\u001b[0m                     \u001b[0mh_trans_bandwidth\u001b[0m\u001b[0;34m,\u001b[0m \u001b[0mfilter_length\u001b[0m\u001b[0;34m,\u001b[0m \u001b[0mmethod\u001b[0m\u001b[0;34m,\u001b[0m \u001b[0mphase\u001b[0m\u001b[0;34m,\u001b[0m\u001b[0;34m\u001b[0m\u001b[0;34m\u001b[0m\u001b[0m\n",
      "\u001b[0;32m~/opt/anaconda3/lib/python3.9/site-packages/mne/filter.py\u001b[0m in \u001b[0;36m_triage_filter_params\u001b[0;34m(x, sfreq, l_freq, h_freq, l_trans_bandwidth, h_trans_bandwidth, filter_length, method, phase, fir_window, fir_design, bands, reverse)\u001b[0m\n\u001b[1;32m   1807\u001b[0m                 \u001b[0mh_freq\u001b[0m \u001b[0;34m-=\u001b[0m \u001b[0mh_trans_bandwidth\u001b[0m\u001b[0;34m\u001b[0m\u001b[0;34m\u001b[0m\u001b[0m\n\u001b[1;32m   1808\u001b[0m             \u001b[0;32mif\u001b[0m \u001b[0mnp\u001b[0m\u001b[0;34m.\u001b[0m\u001b[0many\u001b[0m\u001b[0;34m(\u001b[0m\u001b[0mh_stop\u001b[0m \u001b[0;34m>\u001b[0m \u001b[0msfreq\u001b[0m \u001b[0;34m/\u001b[0m \u001b[0;36m2\u001b[0m\u001b[0;34m)\u001b[0m\u001b[0;34m:\u001b[0m\u001b[0;34m\u001b[0m\u001b[0;34m\u001b[0m\u001b[0m\n\u001b[0;32m-> 1809\u001b[0;31m                 raise ValueError('Effective band-stop frequency (%s) is too '\n\u001b[0m\u001b[1;32m   1810\u001b[0m                                  \u001b[0;34m'high (maximum based on Nyquist is %s)'\u001b[0m\u001b[0;34m\u001b[0m\u001b[0;34m\u001b[0m\u001b[0m\n\u001b[1;32m   1811\u001b[0m                                  % (h_stop, sfreq / 2.))\n",
      "\u001b[0;31mValueError\u001b[0m: Effective band-stop frequency (0.7) is too high (maximum based on Nyquist is 0.4)"
     ]
    }
   ],
   "source": [
    "all_evokeds = defaultdict(list)\n",
    "\n",
    "subjects = os.listdir(\"../BIDS_Direct/\")\n",
    "for sub in subjects:\n",
    "    if sub != \".DS_Store\":\n",
    "        # Create path to file based on experiment info\n",
    "        f_path = f'../BIDS_Direct/{sub}/nirs/{sub}_task-AnonCom_nirs.snirf'\n",
    "        \n",
    "        # Analyse data and return both ROI and channel results\n",
    "        raw_haemo, epochs = individual_analysis(f_path)\n",
    "        \n",
    "        # Save individual-evoked participant data along with others in all_evokeds\n",
    "        for cidx, condition in enumerate(epochs.event_id):\n",
    "            print(condition)\n",
    "            all_evokeds[condition].append(epochs[condition].average())\n",
    "            \n",
    "# pprint(all_evokeds)"
   ]
  },
  {
   "cell_type": "code",
   "execution_count": null,
   "id": "1881ce45-b032-4395-b418-9e3cc09d5a5b",
   "metadata": {},
   "outputs": [],
   "source": [
    "# Print figures\n",
    "\n",
    "# Specify the figure size and limits per chromophore\n",
    "fig, axes = plt.subplots(nrows=1, ncols=len(all_evokeds), figsize=(17, 5))\n",
    "lims = dict(hbo=[-5, 12], hbr=[-5, 12])\n",
    "\n",
    "for (pick, color) in zip(['hbo', 'hbr'], ['r', 'b']):\n",
    "    for idx, evoked in enumerate(all_evokeds):\n",
    "        plot_compare_evokeds({evoked: all_evokeds[evoked]}, combine='mean',\n",
    "                             picks=pick, axes=axes[idx], show=False,\n",
    "                             colors=[color], legend=False, ylim=lims, ci=0.95,\n",
    "                             show_sensors=idx == 2)\n",
    "        axes[idx].set_title('{}'.format(evoked))\n",
    "axes[0].legend([\"Oxyhaemoglobin\", \"Deoxyhaemoglobin\"])"
   ]
  },
  {
   "cell_type": "code",
   "execution_count": null,
   "id": "fdc8b6a0-cce9-4bfb-b9dd-08bb56dfcdca",
   "metadata": {},
   "outputs": [],
   "source": [
    "# Extract Evoked Amplitude\n",
    "\n",
    "df = pd.DataFrame(columns=['ID', 'Chroma', 'Condition', 'Value'])\n",
    "\n",
    "for idx, evoked in enumerate(all_evokeds):\n",
    "    subj_id = 0\n",
    "    for subj_data in all_evokeds[evoked]:\n",
    "        subj_id += 1\n",
    "        for chroma in [\"hbo\", \"hbr\"]:\n",
    "            data = deepcopy(subj_data)\n",
    "            value = data.crop(tmin=-1.0, tmax=15.0).data.mean() * 1.0e6\n",
    "\n",
    "            # Append metadata and extracted feature to dataframe\n",
    "            this_df = pd.DataFrame(\n",
    "                {'ID': subj_id, 'Chroma': chroma,\n",
    "                 'Condition': evoked, 'Value': value}, index=[0])\n",
    "            df = pd.concat([df, this_df], ignore_index=True)\n",
    "df.reset_index(inplace=True, drop=True)\n",
    "df['Value'] = pd.to_numeric(df['Value'])  # some Pandas have this as object\n",
    "\n",
    "# You can export the dataframe for analysis in your favorite stats program\n",
    "df.to_csv(\"stats-export.csv\")\n",
    "\n",
    "# Print out the first entries in the dataframe\n",
    "# df"
   ]
  },
  {
   "cell_type": "code",
   "execution_count": null,
   "id": "7e0969e1-8b9f-44b6-8af7-d2d21271361a",
   "metadata": {},
   "outputs": [],
   "source": [
    "# Plot the Data\n",
    "sns.catplot(x=\"Condition\", y=\"Value\", hue=\"ID\", data=df.query(\"Chroma == 'hbo'\"), ci=None, palette=\"muted\", height=4, s=10)\n"
   ]
  },
  {
   "cell_type": "code",
   "execution_count": null,
   "id": "c0a5b25b-bdb8-4347-a6e4-e783262b0efd",
   "metadata": {},
   "outputs": [],
   "source": [
    "# Inflammatory vs Neutral Prompt Analysis\n",
    "\n",
    "input_data = df.query(\"Condition in ['Neutral', 'Inflammatory']\")\n",
    "input_data = input_data.query(\"Chroma in ['hbo']\")\n",
    "\n",
    "model = smf.mixedlm(\"Value ~ Condition\", input_data, groups=input_data[\"ID\"]).fit()\n",
    "model.summary()"
   ]
  },
  {
   "cell_type": "code",
   "execution_count": null,
   "id": "f5ca754c-7e5b-41d5-9f57-c30ae6237913",
   "metadata": {},
   "outputs": [],
   "source": [
    "df.query(\"Condition in ['Neutral']\").query(\"Chroma in ['hbo']\").mean()"
   ]
  },
  {
   "cell_type": "code",
   "execution_count": null,
   "id": "0917ecc6-fadb-4675-ad21-05846ac65321",
   "metadata": {},
   "outputs": [],
   "source": [
    "# Control vs Neutral Prompt Analysis\n",
    "\n",
    "input_data = df.query(\"Condition in ['Control', 'Neutral']\")\n",
    "input_data = input_data.query(\"Chroma in ['hbo']\")\n",
    "# print(input_data)\n",
    "model = smf.mixedlm(\"Value ~ Condition\", input_data, groups=input_data[\"ID\"]).fit()\n",
    "model.summary()"
   ]
  },
  {
   "cell_type": "code",
   "execution_count": null,
   "id": "1f635776-74ed-47b0-a377-94c9d7181c05",
   "metadata": {},
   "outputs": [],
   "source": [
    "# Control vs Inflammatory Prompt Analysis\n",
    "\n",
    "input_data = df.query(\"Condition in ['Control', 'Inflammatory']\")\n",
    "input_data = input_data.query(\"Chroma in ['hbo']\")\n",
    "\n",
    "model = smf.mixedlm(\"Value ~ Condition\", input_data, groups=input_data[\"ID\"]).fit()\n",
    "model.summary()"
   ]
  },
  {
   "cell_type": "code",
   "execution_count": null,
   "id": "a139bc8b-7018-4310-abac-2b5998bf8ea1",
   "metadata": {},
   "outputs": [],
   "source": [
    "# Practice vs Inflammatory Prompt Analysis\n",
    "\n",
    "input_data = df.query(\"Condition in ['Practice', 'Inflammatory']\")\n",
    "\n",
    "input_data = input_data.query(\"Chroma in ['hbo']\")\n",
    "\n",
    "model = smf.mixedlm(\"Value ~ Condition\", input_data, groups=input_data[\"ID\"]).fit()\n",
    "model.summary()"
   ]
  },
  {
   "cell_type": "code",
   "execution_count": null,
   "id": "15c9f63f-90af-4fd4-aa9c-7f9bc8b48b10",
   "metadata": {},
   "outputs": [],
   "source": [
    "# Practice vs Neutral Prompt Analysis\n",
    "\n",
    "input_data = df.query(\"Condition in ['Neutral', 'Practice']\")\n",
    "input_data = input_data.query(\"Chroma in ['hbo']\")\n",
    "print(input_data)\n",
    "model = smf.mixedlm(\"Value ~ Condition\", input_data, groups=input_data[\"ID\"]).fit()\n",
    "model.summary()"
   ]
  },
  {
   "cell_type": "code",
   "execution_count": null,
   "id": "8cb99b29-4e56-4f08-a8ef-a687c355655e",
   "metadata": {},
   "outputs": [],
   "source": [
    "# Practice vs Control Prompt Analysis\n",
    "\n",
    "input_data = df.query(\"Condition in ['Control', 'Practice']\")\n",
    "input_data = input_data.query(\"Chroma in ['hbo']\")\n",
    "print(input_data)\n",
    "model = smf.mixedlm(\"Value ~ Condition\", input_data, groups=input_data[\"ID\"]).fit()\n",
    "model.summary()"
   ]
  }
 ],
 "metadata": {
  "kernelspec": {
   "display_name": "Python 3 (ipykernel)",
   "language": "python",
   "name": "python3"
  },
  "language_info": {
   "codemirror_mode": {
    "name": "ipython",
    "version": 3
   },
   "file_extension": ".py",
   "mimetype": "text/x-python",
   "name": "python",
   "nbconvert_exporter": "python",
   "pygments_lexer": "ipython3",
   "version": "3.9.13"
  }
 },
 "nbformat": 4,
 "nbformat_minor": 5
}
