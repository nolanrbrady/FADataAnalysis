{
 "cells": [
  {
   "cell_type": "code",
   "execution_count": 5,
   "id": "64565ffa-742c-4900-91be-180f013bfb05",
   "metadata": {},
   "outputs": [],
   "source": [
    "# Import common libraries\n",
    "import numpy as np\n",
    "import pandas as pd\n",
    "import os\n",
    "\n",
    "# Import MNE processing\n",
    "import mne\n",
    "from mne.preprocessing.nirs import optical_density, beer_lambert_law\n",
    "\n",
    "# Import MNE-NIRS processing\n",
    "from mne_nirs.statistics import run_glm\n",
    "from mne_nirs.experimental_design import make_first_level_design_matrix\n",
    "from mne_nirs.statistics import statsmodels_to_results\n",
    "from mne_nirs.channels import get_short_channels, get_long_channels\n",
    "from mne_nirs.channels import picks_pair_to_idx\n",
    "from mne_nirs.visualisation import plot_glm_group_topo\n",
    "from mne_nirs.datasets import fnirs_motor_group\n",
    "from mne_nirs.visualisation import plot_glm_surface_projection\n",
    "from mne_nirs.io.fold import fold_channel_specificity\n",
    "\n",
    "# Import MNE-BIDS processing\n",
    "from mne_bids import BIDSPath, read_raw_bids, get_entity_vals\n",
    "\n",
    "# Import StatsModels\n",
    "import statsmodels.formula.api as smf\n",
    "\n",
    "# Import Plotting Library\n",
    "import matplotlib.pyplot as plt\n",
    "import matplotlib as mpl\n",
    "import seaborn as sns"
   ]
  },
  {
   "cell_type": "code",
   "execution_count": 2,
   "id": "b2a59dc9-5067-4579-b5a2-b59e77cb408a",
   "metadata": {},
   "outputs": [
    {
     "name": "stdout",
     "output_type": "stream",
     "text": [
      "../BIDS/nirs\n"
     ]
    }
   ],
   "source": [
    "# import raw nirx data\n",
    "root = \"../BIDS/\"\n",
    "# raw_intensity = mne.io.read_raw_snirf(fname, verbose=True, preload=True)\n",
    "# raw_intensity.plot_sensors()\n",
    "\n",
    "dataset = BIDSPath(root=root, task=\"AnonCom\", datatype=\"nirs\", suffix=\"nirs\", extension=\".snirf\")\n",
    "\n",
    "print(dataset.directory)"
   ]
  },
  {
   "cell_type": "code",
   "execution_count": 31,
   "id": "6befe0d5-b1f9-49dd-bacc-f503329b22a2",
   "metadata": {},
   "outputs": [],
   "source": [
    "def individual_analysis(bids_path, ID):\n",
    "    # print(bids_path, ID)\n",
    "    raw_intensity = mne.io.read_raw_snirf(bids_path, verbose=True, preload=True)\n",
    "\n",
    "    # Get Events\n",
    "    events, event_dict = mne.events_from_annotations(raw_intensity, verbose=False)\n",
    "    raw_intensity.annotations.rename({'4': 'Control', '2': 'Neutral', '3': 'Inflammatory', '1':'Practice'})\n",
    "    \n",
    "    # Rename Events\n",
    "    # event_dict = {'Control': 4, 'Neutral': 2, 'Inflammatory': 3, 'Practice': 1}\n",
    "    \n",
    "    # Signal Processing\n",
    "    raw_od = mne.preprocessing.nirs.optical_density(raw_intensity)\n",
    "    # print(\"Raw OD\", raw_od)\n",
    "    \n",
    "    # Convert signal to haemoglobin and resample\n",
    "    raw_haemo = beer_lambert_law(raw_od, ppf=0.1)\n",
    "    raw_haemo.resample(0.3)\n",
    "    # print(\"Raw Haemo\", raw_haemo)\n",
    "    \n",
    "    # Make First Level Design Matrix\n",
    "    design_matrix = make_first_level_design_matrix(raw_haemo, drift_model='cosine', high_pass=0.005, hrf_model='spm', stim_dur=30.0)\n",
    "    \n",
    "\n",
    "    # Run GLM\n",
    "    glm_est = run_glm(raw_haemo, design_matrix)\n",
    "    \n",
    "    # Calculate Values of interest\n",
    "    cha = glm_est.to_dataframe()\n",
    "    # print('Cha', cha)\n",
    "    \n",
    "    # Compute defined contrast\n",
    "    # print(design_matrix.columns)\n",
    "\n",
    "    contrast_matrix = np.eye(design_matrix.shape[1])\n",
    "    basic_conts = dict([(column, contrast_matrix[i])\n",
    "                        for i, column in enumerate(design_matrix.columns)])\n",
    "    neutral = basic_conts['Control'] - basic_conts['Neutral']\n",
    "    inflam = basic_conts['Control'] - basic_conts['Inflammatory']\n",
    "    \n",
    "    con_inflam = glm_est.compute_contrast(inflam)\n",
    "    con_neutral = glm_est.compute_contrast(neutral)\n",
    "    \n",
    "    neutral_contrast = con_neutral.to_dataframe()\n",
    "    inflam_contrast = con_inflam.to_dataframe()\n",
    "\n",
    "\n",
    "    return raw_haemo, cha, neutral_contrast, inflam_contrast\n",
    "\n",
    "#  cha = glm_est.to_dataframe()\n",
    "#  roi = glm_est.to_dataframe_region_of_interest(groups, design_matrix.columns, demographic_info=True)\n",
    "# contrast = glm_est.compute_contrast(contrast_LvR)\n",
    "#     con = contrast.to_dataframe()\n",
    "# raw_haemo"
   ]
  },
  {
   "cell_type": "code",
   "execution_count": null,
   "id": "21f80609-afdc-4896-bdc7-160793e7946a",
   "metadata": {},
   "outputs": [],
   "source": [
    "df_roi = pd.DataFrame()  # To store region of interest results\n",
    "df_cha = pd.DataFrame()  # To store channel level results\n",
    "df_con_neutral = pd.DataFrame()  # To store channel level neutral contrast results\n",
    "df_con_inflam = pd.DataFrame()  # To store channel level inflam contrast results\n",
    "\n",
    "subjects = os.listdir(\"../BIDS/\")\n",
    "for sub in subjects:\n",
    "    if sub != \".DS_Store\":\n",
    "        # Create path to file based on experiment info\n",
    "        f_path = f'../BIDS/{sub}/nirs/{sub}_task-AnonCom_nirs.snirf'\n",
    "        \n",
    "        # Analyse data and return both ROI and channel results\n",
    "        raw_haemo, cha, neutral_contrast, inflam_contrast = individual_analysis(f_path, sub)\n",
    "        \n",
    "        # Append individual results to all participants\n",
    "        # df_roi = pd.concat([df_roi, roi], ignore_index=True)\n",
    "        df_cha = pd.concat([df_cha, cha], ignore_index=True)\n",
    "        df_con = pd.concat([df_con_neutral, neutral_contrast], ignore_index=True)\n",
    "        df_con = pd.concat([df_con_inflam, inflam_contrast], ignore_index=True)"
   ]
  },
  {
   "cell_type": "code",
   "execution_count": null,
   "id": "eb8a4763-45f3-4b7b-90f0-7038804e3cda",
   "metadata": {},
   "outputs": [],
   "source": [
    "# Compute Group Level Results\n",
    "\n"
   ]
  }
 ],
 "metadata": {
  "kernelspec": {
   "display_name": "Python 3 (ipykernel)",
   "language": "python",
   "name": "python3"
  },
  "language_info": {
   "codemirror_mode": {
    "name": "ipython",
    "version": 3
   },
   "file_extension": ".py",
   "mimetype": "text/x-python",
   "name": "python",
   "nbconvert_exporter": "python",
   "pygments_lexer": "ipython3",
   "version": "3.9.13"
  }
 },
 "nbformat": 4,
 "nbformat_minor": 5
}
