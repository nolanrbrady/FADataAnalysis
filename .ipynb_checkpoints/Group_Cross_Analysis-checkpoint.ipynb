{
 "cells": [
  {
   "cell_type": "code",
   "execution_count": 1,
   "id": "484f4e0b-2680-4bf1-aba2-d52b3ff0fd71",
   "metadata": {},
   "outputs": [],
   "source": [
    "# Cross referencing Direct and Anon Groups between neutral and inflam groups"
   ]
  },
  {
   "cell_type": "code",
   "execution_count": 2,
   "id": "fcb5be06-6f40-47fc-9cbb-0bae4e1e81f6",
   "metadata": {},
   "outputs": [],
   "source": [
    "# Import common libraries\n",
    "import pandas as pd\n",
    "from itertools import compress\n",
    "from collections import defaultdict\n",
    "from copy import deepcopy\n",
    "from pprint import pprint\n",
    "import os\n",
    "\n",
    "# Import MNE processing\n",
    "from mne.viz import plot_compare_evokeds\n",
    "from mne import Epochs, events_from_annotations, set_log_level\n",
    "\n",
    "# Import MNE-NIRS processing\n",
    "import mne\n",
    "from mne_nirs.channels import get_long_channels\n",
    "from mne_nirs.channels import picks_pair_to_idx\n",
    "from mne_nirs.datasets import fnirs_motor_group\n",
    "from mne.preprocessing.nirs import beer_lambert_law, optical_density,\\\n",
    "    temporal_derivative_distribution_repair, scalp_coupling_index\n",
    "from mne_nirs.signal_enhancement import enhance_negative_correlation\n",
    "\n",
    "# Import MNE-BIDS processing\n",
    "from mne_bids import BIDSPath, read_raw_bids\n",
    "\n",
    "# Import StatsModels\n",
    "import statsmodels.formula.api as smf\n",
    "\n",
    "# Import Plotting Library\n",
    "import matplotlib.pyplot as plt\n",
    "import seaborn as sns\n",
    "\n",
    "# Set general parameters\n",
    "set_log_level(\"WARNING\")  # Don't show info, as it is repetitive for many subjects\n",
    "\n",
    "ignore = [\".DS_Store\", \"sub-03\"]\n",
    "\n",
    "# Based on Guides Published Here\n",
    "# https://mne.tools/mne-nirs/stable/auto_examples/general/plot_16_waveform_group.html"
   ]
  },
  {
   "cell_type": "code",
   "execution_count": 3,
   "id": "d3f12b11-d739-4fbf-8980-dcea1f0e7aa3",
   "metadata": {},
   "outputs": [],
   "source": [
    "def individual_analysis(bids_path):\n",
    "\n",
    "    # Read data with annotations in BIDS format\n",
    "    # raw_intensity = read_raw_bids(bids_path=bids_path, verbose=False)\n",
    "    raw_intensity = mne.io.read_raw_snirf(bids_path, verbose=True, preload=False)\n",
    "    raw_intensity = get_long_channels(raw_intensity, min_dist=0.01)\n",
    "    \n",
    "    channel_types = raw_intensity.copy()\n",
    "    print(channel_types)\n",
    "    \n",
    "    raw_intensity.annotations.rename({'4': 'Control', '2': 'Neutral', '3': 'Inflammatory', '1':'Practice'})\n",
    "\n",
    "    # Convert signal to optical density and determine bad channels\n",
    "    raw_od = optical_density(raw_intensity)\n",
    "    sci = scalp_coupling_index(raw_od, h_freq=1.35, h_trans_bandwidth=0.1)\n",
    "    raw_od.info[\"bads\"] = list(compress(raw_od.ch_names, sci < 0.5))\n",
    "    # raw_od.interpolate_bads()\n",
    "\n",
    "    # Downsample and apply signal cleaning techniques\n",
    "    raw_od.resample(0.8)\n",
    "    raw_od = temporal_derivative_distribution_repair(raw_od)\n",
    "\n",
    "    # Convert to haemoglobin and filter\n",
    "    raw_haemo = beer_lambert_law(raw_od, ppf=0.1)\n",
    "    raw_haemo = raw_haemo.filter(0.02, 0.3,\n",
    "                                 h_trans_bandwidth=0.1, l_trans_bandwidth=0.01,\n",
    "                                 verbose=False)\n",
    "\n",
    "    # Apply further data cleaning techniques and extract epochs\n",
    "    raw_haemo = enhance_negative_correlation(raw_haemo)\n",
    "    # Extract events but ignore those with\n",
    "    # the word Ends (i.e. drop ExperimentEnds events)\n",
    "    events, event_dict = events_from_annotations(raw_haemo, verbose=False)\n",
    "\n",
    "    epochs = Epochs(raw_haemo, events, event_id=event_dict, tmin=-5, tmax=30,\n",
    "                    reject=dict(hbo=200e-6), reject_by_annotation=True,\n",
    "                    proj=True, baseline=(None, 0), detrend=0,\n",
    "                    preload=True, verbose=False)\n",
    "\n",
    "    return raw_haemo, epochs"
   ]
  },
  {
   "cell_type": "code",
   "execution_count": 4,
   "id": "e804507a-134d-4a2c-9b7e-2aa9f14542b2",
   "metadata": {},
   "outputs": [],
   "source": [
    "# Isolate Evoked Anon Data"
   ]
  },
  {
   "cell_type": "code",
   "execution_count": 5,
   "id": "5968e801-1729-4526-aa9d-5a1798b0c3a3",
   "metadata": {},
   "outputs": [
    {
     "name": "stdout",
     "output_type": "stream",
     "text": [
      "Loading /Users/nolanbrady/Desktop/LabResearch/IndependentStudy/DataAnalysis/FADataAnalysisScripts/../BIDS_Anon/sub-06/nirs/sub-06_task-AnonCom_nirs.snirf\n",
      "<RawSNIRF | sub-06_task-AnonCom_nirs.snirf, 36 x 18358 (1804.5 s), ~5.2 MB, data loaded>\n",
      "Loading /Users/nolanbrady/Desktop/LabResearch/IndependentStudy/DataAnalysis/FADataAnalysisScripts/../BIDS_Anon/sub-07/nirs/sub-07_task-AnonCom_nirs.snirf\n",
      "<RawSNIRF | sub-07_task-AnonCom_nirs.snirf, 36 x 17825 (1752.1 s), ~5.1 MB, data loaded>\n",
      "Loading /Users/nolanbrady/Desktop/LabResearch/IndependentStudy/DataAnalysis/FADataAnalysisScripts/../BIDS_Anon/sub-05/nirs/sub-05_task-AnonCom_nirs.snirf\n",
      "<RawSNIRF | sub-05_task-AnonCom_nirs.snirf, 36 x 17062 (1677.1 s), ~4.8 MB, data loaded>\n"
     ]
    }
   ],
   "source": [
    "from ramda import *\n",
    "all_evoked_anon = defaultdict(list)\n",
    "\n",
    "anon_subjects = os.listdir(\"../BIDS_Anon/\")\n",
    "\n",
    "for sub in anon_subjects:\n",
    "    if sub not in ignore:\n",
    "        # Create path to file based on experiment info\n",
    "        anon_f_path = f'../BIDS_Anon/{sub}/nirs/{sub}_task-AnonCom_nirs.snirf'\n",
    "\n",
    "        # Analyse data and return both ROI and channel results\n",
    "        raw_haemo, epochs = individual_analysis(anon_f_path)\n",
    "        \n",
    "        # Save individual-evoked participant data along with others in all_evokeds\n",
    "        for cidx, condition in enumerate(epochs.event_id):\n",
    "            all_evoked_anon[condition].append(epochs[condition].average())"
   ]
  },
  {
   "cell_type": "code",
   "execution_count": 6,
   "id": "3d1d3f09-8317-4e52-869b-3e5f37cc61ae",
   "metadata": {},
   "outputs": [],
   "source": [
    "# Isolate Evoked Direct Data"
   ]
  },
  {
   "cell_type": "code",
   "execution_count": 7,
   "id": "27b10dc7-bb0f-492e-b46b-c1c47daedd34",
   "metadata": {},
   "outputs": [
    {
     "name": "stdout",
     "output_type": "stream",
     "text": [
      "Loading /Users/nolanbrady/Desktop/LabResearch/IndependentStudy/DataAnalysis/FADataAnalysisScripts/../BIDS_Direct/sub-01/nirs/sub-01_task-AnonCom_nirs.snirf\n",
      "<RawSNIRF | sub-01_task-AnonCom_nirs.snirf, 36 x 17098 (1680.6 s), ~4.9 MB, data loaded>\n",
      "Loading /Users/nolanbrady/Desktop/LabResearch/IndependentStudy/DataAnalysis/FADataAnalysisScripts/../BIDS_Direct/sub-02/nirs/sub-02_task-AnonCom_nirs.snirf\n",
      "<RawSNIRF | sub-02_task-AnonCom_nirs.snirf, 36 x 14804 (1455.1 s), ~4.2 MB, data loaded>\n",
      "Loading /Users/nolanbrady/Desktop/LabResearch/IndependentStudy/DataAnalysis/FADataAnalysisScripts/../BIDS_Direct/sub-04/nirs/sub-04_task-AnonCom_nirs.snirf\n",
      "<RawSNIRF | sub-04_task-AnonCom_nirs.snirf, 36 x 16843 (1655.6 s), ~4.8 MB, data loaded>\n"
     ]
    }
   ],
   "source": [
    "all_evoked_direct = defaultdict(list)\n",
    "\n",
    "direct_subjects = os.listdir(\"../BIDS_Direct/\")\n",
    "\n",
    "for sub in direct_subjects:\n",
    "    if sub not in ignore:\n",
    "        # Create path to file based on experiment info\n",
    "        direct_f_path = f'../BIDS_Direct/{sub}/nirs/{sub}_task-AnonCom_nirs.snirf'\n",
    "\n",
    "        # Analyse data and return both ROI and channel results\n",
    "        raw_haemo, epochs = individual_analysis(direct_f_path)\n",
    "        \n",
    "        # Save individual-evoked participant data along with others in all_evokeds\n",
    "        for cidx, condition in enumerate(epochs.event_id):\n",
    "            all_evoked_direct[condition].append(epochs[condition].average())"
   ]
  },
  {
   "cell_type": "code",
   "execution_count": 8,
   "id": "d0380609-e063-46af-85f8-79e1bd4081a2",
   "metadata": {},
   "outputs": [],
   "source": [
    "# Create an Anon Dataframe"
   ]
  },
  {
   "cell_type": "code",
   "execution_count": 9,
   "id": "c17667ed-e128-4dd3-8ec8-dc61ee80b42a",
   "metadata": {},
   "outputs": [],
   "source": [
    "anon_df = pd.DataFrame(columns=['ID', 'Chroma', 'Condition', 'Value'])\n",
    "\n",
    "for idx, evoked in enumerate(all_evoked_anon):\n",
    "    subj_id = 0\n",
    "    for subj_data in all_evoked_anon[evoked]:\n",
    "        subj_id += 1\n",
    "        for chroma in [\"hbo\", \"hbr\"]:\n",
    "            data = deepcopy(subj_data)\n",
    "            value = data.crop(tmin=5.0, tmax=7.0).data.mean() * 1.0e6\n",
    "\n",
    "            # Append metadata and extracted feature to dataframe\n",
    "            this_df = pd.DataFrame(\n",
    "                {'ID': subj_id, 'Chroma': chroma,\n",
    "                 'Condition': evoked, 'Value': value}, index=[0])\n",
    "            \n",
    "            anon_df = pd.concat([anon_df, this_df], ignore_index=True)\n",
    "            \n",
    "anon_df.reset_index(inplace=True, drop=True)\n",
    "anon_df['Value'] = pd.to_numeric(anon_df['Value'])  # some Pandas have this as object\n",
    "anon_df['Group'] = \"Anon\""
   ]
  },
  {
   "cell_type": "code",
   "execution_count": 10,
   "id": "61152b40-ed7c-41f8-9f7a-8b9aaec635e7",
   "metadata": {},
   "outputs": [],
   "source": [
    "direct_df = pd.DataFrame(columns=['ID', 'Chroma', 'Condition', 'Value'])\n",
    "\n",
    "for idx, evoked in enumerate(all_evoked_direct):\n",
    "    subj_id = 0\n",
    "    for subj_data in all_evoked_direct[evoked]:\n",
    "        subj_id += 1\n",
    "        for chroma in [\"hbo\", \"hbr\"]:\n",
    "            data = deepcopy(subj_data)\n",
    "            value = data.crop(tmin=5.0, tmax=7.0).data.mean() * 1.0e6\n",
    "\n",
    "            # Append metadata and extracted feature to dataframe\n",
    "            this_df = pd.DataFrame(\n",
    "                {'ID': subj_id, 'Chroma': chroma,\n",
    "                 'Condition': evoked, 'Value': value}, index=[0])\n",
    "            \n",
    "            direct_df = pd.concat([direct_df, this_df], ignore_index=True)\n",
    "            \n",
    "direct_df.reset_index(inplace=True, drop=True)\n",
    "direct_df['Value'] = pd.to_numeric(direct_df['Value'])  # some Pandas have this as object\n",
    "direct_df['Group'] = \"Direct\""
   ]
  },
  {
   "cell_type": "code",
   "execution_count": 11,
   "id": "09641e68-5295-4bd0-b96d-f0aef551f09d",
   "metadata": {},
   "outputs": [
    {
     "name": "stdout",
     "output_type": "stream",
     "text": [
      "  ID Chroma Condition     Value   Group\n",
      "0  1    hbo   Control -0.408635    Anon\n",
      "2  2    hbo   Control -0.412552    Anon\n",
      "4  3    hbo   Control -0.224928    Anon\n",
      "0  1    hbo   Control -0.082096  Direct\n",
      "2  2    hbo   Control -0.619755  Direct\n",
      "4  3    hbo   Control -0.620592  Direct\n"
     ]
    },
    {
     "name": "stderr",
     "output_type": "stream",
     "text": [
      "/Users/nolanbrady/opt/anaconda3/lib/python3.9/site-packages/statsmodels/base/model.py:604: ConvergenceWarning: Maximum Likelihood optimization failed to converge. Check mle_retvals\n",
      "  warnings.warn(\"Maximum Likelihood optimization failed to \"\n",
      "/Users/nolanbrady/opt/anaconda3/lib/python3.9/site-packages/statsmodels/regression/mixed_linear_model.py:2200: ConvergenceWarning: Retrying MixedLM optimization with lbfgs\n",
      "  warnings.warn(\n",
      "/Users/nolanbrady/opt/anaconda3/lib/python3.9/site-packages/statsmodels/regression/mixed_linear_model.py:2237: ConvergenceWarning: The MLE may be on the boundary of the parameter space.\n",
      "  warnings.warn(msg, ConvergenceWarning)\n"
     ]
    },
    {
     "data": {
      "text/html": [
       "<table class=\"simpletable\">\n",
       "<tr>\n",
       "       <td>Model:</td>       <td>MixedLM</td> <td>Dependent Variable:</td>  <td>Value</td> \n",
       "</tr>\n",
       "<tr>\n",
       "  <td>No. Observations:</td>    <td>6</td>          <td>Method:</td>        <td>REML</td>  \n",
       "</tr>\n",
       "<tr>\n",
       "     <td>No. Groups:</td>       <td>3</td>          <td>Scale:</td>        <td>0.0535</td> \n",
       "</tr>\n",
       "<tr>\n",
       "  <td>Min. group size:</td>     <td>2</td>      <td>Log-Likelihood:</td>   <td>-0.9445</td>\n",
       "</tr>\n",
       "<tr>\n",
       "  <td>Max. group size:</td>     <td>2</td>        <td>Converged:</td>        <td>Yes</td>  \n",
       "</tr>\n",
       "<tr>\n",
       "  <td>Mean group size:</td>    <td>2.0</td>            <td></td>              <td></td>    \n",
       "</tr>\n",
       "</table>\n",
       "<table class=\"simpletable\">\n",
       "<tr>\n",
       "         <td></td>          <th>Coef.</th> <th>Std.Err.</th>    <th>z</th>   <th>P>|z|</th> <th>[0.025</th> <th>0.975]</th>\n",
       "</tr>\n",
       "<tr>\n",
       "  <th>Intercept</th>       <td>-0.349</td>   <td>0.134</td>  <td>-2.594</td> <td>0.009</td> <td>-0.612</td> <td>-0.085</td>\n",
       "</tr>\n",
       "<tr>\n",
       "  <th>Group[T.Direct]</th> <td>-0.092</td>   <td>0.189</td>  <td>-0.488</td> <td>0.626</td> <td>-0.462</td>  <td>0.278</td>\n",
       "</tr>\n",
       "<tr>\n",
       "  <th>Group Var</th>        <td>0.001</td>   <td>0.316</td>     <td></td>      <td></td>       <td></td>       <td></td>   \n",
       "</tr>\n",
       "</table>"
      ],
      "text/plain": [
       "<class 'statsmodels.iolib.summary2.Summary'>\n",
       "\"\"\"\n",
       "          Mixed Linear Model Regression Results\n",
       "==========================================================\n",
       "Model:               MixedLM  Dependent Variable:  Value  \n",
       "No. Observations:    6        Method:              REML   \n",
       "No. Groups:          3        Scale:               0.0535 \n",
       "Min. group size:     2        Log-Likelihood:      -0.9445\n",
       "Max. group size:     2        Converged:           Yes    \n",
       "Mean group size:     2.0                                  \n",
       "----------------------------------------------------------\n",
       "                Coef.  Std.Err.   z    P>|z| [0.025 0.975]\n",
       "----------------------------------------------------------\n",
       "Intercept       -0.349    0.134 -2.594 0.009 -0.612 -0.085\n",
       "Group[T.Direct] -0.092    0.189 -0.488 0.626 -0.462  0.278\n",
       "Group Var        0.001    0.316                           \n",
       "==========================================================\n",
       "\n",
       "\"\"\""
      ]
     },
     "execution_count": 11,
     "metadata": {},
     "output_type": "execute_result"
    }
   ],
   "source": [
    "# Comparing Control between groups\n",
    "\n",
    "anon_input_data = anon_df.query(\"Condition in ['Control']\").query(\"Chroma in ['hbo']\")\n",
    "direct_input_data = direct_df.query(\"Condition in ['Control']\").query(\"Chroma in ['hbo']\")\n",
    "\n",
    "input_data = pd.concat([anon_input_data, direct_input_data])\n",
    "\n",
    "model = smf.mixedlm(\"Value ~ Group\", input_data, groups=input_data[\"ID\"]).fit()\n",
    "model.summary()"
   ]
  },
  {
   "cell_type": "code",
   "execution_count": 12,
   "id": "b3e5078f-ded7-4a6f-bf33-b195eac5a813",
   "metadata": {},
   "outputs": [
    {
     "name": "stderr",
     "output_type": "stream",
     "text": [
      "/Users/nolanbrady/opt/anaconda3/lib/python3.9/site-packages/statsmodels/base/model.py:604: ConvergenceWarning: Maximum Likelihood optimization failed to converge. Check mle_retvals\n",
      "  warnings.warn(\"Maximum Likelihood optimization failed to \"\n",
      "/Users/nolanbrady/opt/anaconda3/lib/python3.9/site-packages/statsmodels/regression/mixed_linear_model.py:2200: ConvergenceWarning: Retrying MixedLM optimization with lbfgs\n",
      "  warnings.warn(\n",
      "/Users/nolanbrady/opt/anaconda3/lib/python3.9/site-packages/statsmodels/regression/mixed_linear_model.py:2237: ConvergenceWarning: The MLE may be on the boundary of the parameter space.\n",
      "  warnings.warn(msg, ConvergenceWarning)\n",
      "/Users/nolanbrady/opt/anaconda3/lib/python3.9/site-packages/statsmodels/regression/mixed_linear_model.py:2261: ConvergenceWarning: The Hessian matrix at the estimated parameter values is not positive definite.\n",
      "  warnings.warn(msg, ConvergenceWarning)\n"
     ]
    },
    {
     "data": {
      "text/html": [
       "<table class=\"simpletable\">\n",
       "<tr>\n",
       "       <td>Model:</td>       <td>MixedLM</td> <td>Dependent Variable:</td>  <td>Value</td> \n",
       "</tr>\n",
       "<tr>\n",
       "  <td>No. Observations:</td>    <td>6</td>          <td>Method:</td>        <td>REML</td>  \n",
       "</tr>\n",
       "<tr>\n",
       "     <td>No. Groups:</td>       <td>3</td>          <td>Scale:</td>        <td>0.4294</td> \n",
       "</tr>\n",
       "<tr>\n",
       "  <td>Min. group size:</td>     <td>2</td>      <td>Log-Likelihood:</td>   <td>-5.0838</td>\n",
       "</tr>\n",
       "<tr>\n",
       "  <td>Max. group size:</td>     <td>2</td>        <td>Converged:</td>        <td>Yes</td>  \n",
       "</tr>\n",
       "<tr>\n",
       "  <td>Mean group size:</td>    <td>2.0</td>            <td></td>              <td></td>    \n",
       "</tr>\n",
       "</table>\n",
       "<table class=\"simpletable\">\n",
       "<tr>\n",
       "         <td></td>          <th>Coef.</th> <th>Std.Err.</th>    <th>z</th>   <th>P>|z|</th> <th>[0.025</th> <th>0.975]</th>\n",
       "</tr>\n",
       "<tr>\n",
       "  <th>Intercept</th>       <td>-1.018</td>   <td>0.378</td>  <td>-2.689</td> <td>0.007</td> <td>-1.759</td> <td>-0.276</td>\n",
       "</tr>\n",
       "<tr>\n",
       "  <th>Group[T.Direct]</th>  <td>0.492</td>   <td>0.535</td>   <td>0.919</td> <td>0.358</td> <td>-0.557</td>  <td>1.540</td>\n",
       "</tr>\n",
       "<tr>\n",
       "  <th>Group Var</th>        <td>0.000</td>     <td></td>        <td></td>      <td></td>       <td></td>       <td></td>   \n",
       "</tr>\n",
       "</table>"
      ],
      "text/plain": [
       "<class 'statsmodels.iolib.summary2.Summary'>\n",
       "\"\"\"\n",
       "          Mixed Linear Model Regression Results\n",
       "==========================================================\n",
       "Model:               MixedLM  Dependent Variable:  Value  \n",
       "No. Observations:    6        Method:              REML   \n",
       "No. Groups:          3        Scale:               0.4294 \n",
       "Min. group size:     2        Log-Likelihood:      -5.0838\n",
       "Max. group size:     2        Converged:           Yes    \n",
       "Mean group size:     2.0                                  \n",
       "----------------------------------------------------------\n",
       "                Coef.  Std.Err.   z    P>|z| [0.025 0.975]\n",
       "----------------------------------------------------------\n",
       "Intercept       -1.018    0.378 -2.689 0.007 -1.759 -0.276\n",
       "Group[T.Direct]  0.492    0.535  0.919 0.358 -0.557  1.540\n",
       "Group Var        0.000                                    \n",
       "==========================================================\n",
       "\n",
       "\"\"\""
      ]
     },
     "execution_count": 12,
     "metadata": {},
     "output_type": "execute_result"
    }
   ],
   "source": [
    "# Comparing Neutral between groups\n",
    "\n",
    "anon_input_data = anon_df.query(\"Condition in ['Neutral']\").query(\"Chroma in ['hbo']\")\n",
    "direct_input_data = direct_df.query(\"Condition in ['Neutral']\").query(\"Chroma in ['hbo']\")\n",
    "\n",
    "input_data = pd.concat([anon_input_data, direct_input_data])\n",
    "\n",
    "model = smf.mixedlm(\"Value ~ Group\", input_data, groups=input_data[\"ID\"]).fit()\n",
    "model.summary()"
   ]
  },
  {
   "cell_type": "code",
   "execution_count": 13,
   "id": "8ba67ffa-8878-4495-9145-db7ecb2ddcc1",
   "metadata": {},
   "outputs": [
    {
     "data": {
      "text/html": [
       "<table class=\"simpletable\">\n",
       "<tr>\n",
       "       <td>Model:</td>       <td>MixedLM</td> <td>Dependent Variable:</td>  <td>Value</td> \n",
       "</tr>\n",
       "<tr>\n",
       "  <td>No. Observations:</td>    <td>6</td>          <td>Method:</td>        <td>REML</td>  \n",
       "</tr>\n",
       "<tr>\n",
       "     <td>No. Groups:</td>       <td>3</td>          <td>Scale:</td>        <td>0.8594</td> \n",
       "</tr>\n",
       "<tr>\n",
       "  <td>Min. group size:</td>     <td>2</td>      <td>Log-Likelihood:</td>   <td>-6.8454</td>\n",
       "</tr>\n",
       "<tr>\n",
       "  <td>Max. group size:</td>     <td>2</td>        <td>Converged:</td>        <td>Yes</td>  \n",
       "</tr>\n",
       "<tr>\n",
       "  <td>Mean group size:</td>    <td>2.0</td>            <td></td>              <td></td>    \n",
       "</tr>\n",
       "</table>\n",
       "<table class=\"simpletable\">\n",
       "<tr>\n",
       "         <td></td>          <th>Coef.</th> <th>Std.Err.</th>    <th>z</th>   <th>P>|z|</th> <th>[0.025</th> <th>0.975]</th>\n",
       "</tr>\n",
       "<tr>\n",
       "  <th>Intercept</th>       <td>-0.401</td>   <td>0.593</td>  <td>-0.677</td> <td>0.498</td> <td>-1.563</td>  <td>0.761</td>\n",
       "</tr>\n",
       "<tr>\n",
       "  <th>Group[T.Direct]</th>  <td>0.648</td>   <td>0.757</td>   <td>0.856</td> <td>0.392</td> <td>-0.836</td>  <td>2.132</td>\n",
       "</tr>\n",
       "<tr>\n",
       "  <th>Group Var</th>        <td>0.195</td>   <td>0.953</td>     <td></td>      <td></td>       <td></td>       <td></td>   \n",
       "</tr>\n",
       "</table>"
      ],
      "text/plain": [
       "<class 'statsmodels.iolib.summary2.Summary'>\n",
       "\"\"\"\n",
       "          Mixed Linear Model Regression Results\n",
       "==========================================================\n",
       "Model:               MixedLM  Dependent Variable:  Value  \n",
       "No. Observations:    6        Method:              REML   \n",
       "No. Groups:          3        Scale:               0.8594 \n",
       "Min. group size:     2        Log-Likelihood:      -6.8454\n",
       "Max. group size:     2        Converged:           Yes    \n",
       "Mean group size:     2.0                                  \n",
       "----------------------------------------------------------\n",
       "                Coef.  Std.Err.   z    P>|z| [0.025 0.975]\n",
       "----------------------------------------------------------\n",
       "Intercept       -0.401    0.593 -0.677 0.498 -1.563  0.761\n",
       "Group[T.Direct]  0.648    0.757  0.856 0.392 -0.836  2.132\n",
       "Group Var        0.195    0.953                           \n",
       "==========================================================\n",
       "\n",
       "\"\"\""
      ]
     },
     "execution_count": 13,
     "metadata": {},
     "output_type": "execute_result"
    }
   ],
   "source": [
    "# Comparing Neutral between groups\n",
    "\n",
    "anon_input_data = anon_df.query(\"Condition in ['Inflammatory']\").query(\"Chroma in ['hbo']\")\n",
    "direct_input_data = direct_df.query(\"Condition in ['Inflammatory']\").query(\"Chroma in ['hbo']\")\n",
    "\n",
    "input_data = pd.concat([anon_input_data, direct_input_data])\n",
    "\n",
    "model = smf.mixedlm(\"Value ~ Group\", input_data, groups=input_data[\"ID\"]).fit()\n",
    "model.summary()"
   ]
  }
 ],
 "metadata": {
  "kernelspec": {
   "display_name": "Python 3 (ipykernel)",
   "language": "python",
   "name": "python3"
  },
  "language_info": {
   "codemirror_mode": {
    "name": "ipython",
    "version": 3
   },
   "file_extension": ".py",
   "mimetype": "text/x-python",
   "name": "python",
   "nbconvert_exporter": "python",
   "pygments_lexer": "ipython3",
   "version": "3.9.13"
  }
 },
 "nbformat": 4,
 "nbformat_minor": 5
}
