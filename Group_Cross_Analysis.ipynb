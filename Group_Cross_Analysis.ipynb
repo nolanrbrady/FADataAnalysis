{
 "cells": [
  {
   "cell_type": "code",
   "execution_count": 1,
   "id": "484f4e0b-2680-4bf1-aba2-d52b3ff0fd71",
   "metadata": {},
   "outputs": [],
   "source": [
    "# Cross referencing Direct and Anon Groups between neutral and inflam groups"
   ]
  },
  {
   "cell_type": "code",
   "execution_count": 2,
   "id": "fcb5be06-6f40-47fc-9cbb-0bae4e1e81f6",
   "metadata": {},
   "outputs": [],
   "source": [
    "# Import common libraries\n",
    "import pandas as pd\n",
    "from itertools import compress\n",
    "from collections import defaultdict\n",
    "from copy import deepcopy\n",
    "from pprint import pprint\n",
    "import os\n",
    "\n",
    "# Import MNE processing\n",
    "from mne.viz import plot_compare_evokeds\n",
    "from mne import Epochs, events_from_annotations, set_log_level\n",
    "\n",
    "# Import MNE-NIRS processing\n",
    "import mne\n",
    "from mne_nirs.channels import get_long_channels\n",
    "from mne_nirs.channels import picks_pair_to_idx\n",
    "from mne_nirs.datasets import fnirs_motor_group\n",
    "from mne.preprocessing.nirs import beer_lambert_law, optical_density,\\\n",
    "    temporal_derivative_distribution_repair, scalp_coupling_index\n",
    "from mne_nirs.signal_enhancement import enhance_negative_correlation\n",
    "\n",
    "# Import MNE-BIDS processing\n",
    "from mne_bids import BIDSPath, read_raw_bids\n",
    "\n",
    "# Import StatsModels\n",
    "import statsmodels.formula.api as smf\n",
    "\n",
    "# Import Plotting Library\n",
    "import matplotlib.pyplot as plt\n",
    "import seaborn as sns\n",
    "\n",
    "# Set general parameters\n",
    "set_log_level(\"WARNING\")  # Don't show info, as it is repetitive for many subjects\n",
    "\n",
    "ignore = [\".DS_Store\", \"sub-03\"]\n",
    "\n",
    "# Based on Guides Published Here\n",
    "# https://mne.tools/mne-nirs/stable/auto_examples/general/plot_16_waveform_group.html"
   ]
  },
  {
   "cell_type": "code",
   "execution_count": 3,
   "id": "d3f12b11-d739-4fbf-8980-dcea1f0e7aa3",
   "metadata": {},
   "outputs": [],
   "source": [
    "def individual_analysis(bids_path):\n",
    "\n",
    "    # Read data with annotations in BIDS format\n",
    "    # raw_intensity = read_raw_bids(bids_path=bids_path, verbose=False)\n",
    "    raw_intensity = mne.io.read_raw_snirf(bids_path, verbose=True, preload=False)\n",
    "    raw_intensity = get_long_channels(raw_intensity, min_dist=0.01)\n",
    "    \n",
    "    channel_types = raw_intensity.copy()\n",
    "    print(channel_types)\n",
    "    \n",
    "    raw_intensity.annotations.rename({'4': 'Control', '2': 'Neutral', '3': 'Inflammatory', '1':'Practice'})\n",
    "\n",
    "    # Convert signal to optical density and determine bad channels\n",
    "    raw_od = optical_density(raw_intensity)\n",
    "    sci = scalp_coupling_index(raw_od, h_freq=1.35, h_trans_bandwidth=0.1)\n",
    "    raw_od.info[\"bads\"] = list(compress(raw_od.ch_names, sci < 0.5))\n",
    "    # raw_od.interpolate_bads()\n",
    "\n",
    "    # Downsample and apply signal cleaning techniques\n",
    "    raw_od.resample(0.8)\n",
    "    raw_od = temporal_derivative_distribution_repair(raw_od)\n",
    "\n",
    "    # Convert to haemoglobin and filter\n",
    "    raw_haemo = beer_lambert_law(raw_od, ppf=0.1)\n",
    "    raw_haemo = raw_haemo.filter(0.02, 0.3,\n",
    "                                 h_trans_bandwidth=0.1, l_trans_bandwidth=0.01,\n",
    "                                 verbose=False)\n",
    "\n",
    "    # Apply further data cleaning techniques and extract epochs\n",
    "    raw_haemo = enhance_negative_correlation(raw_haemo)\n",
    "\n",
    "    events, event_dict = events_from_annotations(raw_haemo, verbose=False)\n",
    "    \n",
    "    # Remove the STOP triggers for each event and hardcode the duration to 30 seconds due to MNE limitations\n",
    "    events = events[::2]\n",
    "\n",
    "    epochs = Epochs(raw_haemo, events, event_id=event_dict, tmin=-1, tmax=15.0,\n",
    "                    reject=dict(hbo=200e-6), reject_by_annotation=True,\n",
    "                    proj=True, baseline=(None, 0), detrend=0,\n",
    "                    preload=True, verbose=False)\n",
    "\n",
    "    return raw_haemo, epochs"
   ]
  },
  {
   "cell_type": "code",
   "execution_count": 4,
   "id": "e804507a-134d-4a2c-9b7e-2aa9f14542b2",
   "metadata": {},
   "outputs": [],
   "source": [
    "# Isolate Evoked Anon Data"
   ]
  },
  {
   "cell_type": "code",
   "execution_count": 5,
   "id": "5968e801-1729-4526-aa9d-5a1798b0c3a3",
   "metadata": {},
   "outputs": [
    {
     "name": "stdout",
     "output_type": "stream",
     "text": [
      "Loading /Users/nolanbrady/Desktop/LabResearch/IndependentStudy/DataAnalysis/FADataAnalysisScripts/../BIDS_Anon/sub-06/nirs/sub-06_task-AnonCom_nirs.snirf\n",
      "<RawSNIRF | sub-06_task-AnonCom_nirs.snirf, 36 x 18358 (1804.5 s), ~5.2 MB, data loaded>\n",
      "Loading /Users/nolanbrady/Desktop/LabResearch/IndependentStudy/DataAnalysis/FADataAnalysisScripts/../BIDS_Anon/sub-07/nirs/sub-07_task-AnonCom_nirs.snirf\n",
      "<RawSNIRF | sub-07_task-AnonCom_nirs.snirf, 36 x 17825 (1752.1 s), ~5.1 MB, data loaded>\n",
      "Loading /Users/nolanbrady/Desktop/LabResearch/IndependentStudy/DataAnalysis/FADataAnalysisScripts/../BIDS_Anon/sub-05/nirs/sub-05_task-AnonCom_nirs.snirf\n",
      "<RawSNIRF | sub-05_task-AnonCom_nirs.snirf, 36 x 17062 (1677.1 s), ~4.8 MB, data loaded>\n"
     ]
    }
   ],
   "source": [
    "from ramda import *\n",
    "all_evoked_anon = defaultdict(list)\n",
    "\n",
    "anon_subjects = os.listdir(\"../BIDS_Anon/\")\n",
    "\n",
    "for sub in anon_subjects:\n",
    "    if sub not in ignore:\n",
    "        # Create path to file based on experiment info\n",
    "        anon_f_path = f'../BIDS_Anon/{sub}/nirs/{sub}_task-AnonCom_nirs.snirf'\n",
    "\n",
    "        # Analyse data and return both ROI and channel results\n",
    "        raw_haemo, epochs = individual_analysis(anon_f_path)\n",
    "        \n",
    "        # Save individual-evoked participant data along with others in all_evokeds\n",
    "        for cidx, condition in enumerate(epochs.event_id):\n",
    "            all_evoked_anon[condition].append(epochs[condition].average())"
   ]
  },
  {
   "cell_type": "code",
   "execution_count": 6,
   "id": "3d1d3f09-8317-4e52-869b-3e5f37cc61ae",
   "metadata": {},
   "outputs": [],
   "source": [
    "# Isolate Evoked Direct Data"
   ]
  },
  {
   "cell_type": "code",
   "execution_count": 7,
   "id": "27b10dc7-bb0f-492e-b46b-c1c47daedd34",
   "metadata": {},
   "outputs": [
    {
     "name": "stdout",
     "output_type": "stream",
     "text": [
      "Loading /Users/nolanbrady/Desktop/LabResearch/IndependentStudy/DataAnalysis/FADataAnalysisScripts/../BIDS_Direct/sub-01/nirs/sub-01_task-AnonCom_nirs.snirf\n",
      "<RawSNIRF | sub-01_task-AnonCom_nirs.snirf, 36 x 17098 (1680.6 s), ~4.9 MB, data loaded>\n",
      "Loading /Users/nolanbrady/Desktop/LabResearch/IndependentStudy/DataAnalysis/FADataAnalysisScripts/../BIDS_Direct/sub-02/nirs/sub-02_task-AnonCom_nirs.snirf\n",
      "<RawSNIRF | sub-02_task-AnonCom_nirs.snirf, 36 x 14804 (1455.1 s), ~4.2 MB, data loaded>\n",
      "Loading /Users/nolanbrady/Desktop/LabResearch/IndependentStudy/DataAnalysis/FADataAnalysisScripts/../BIDS_Direct/sub-04/nirs/sub-04_task-AnonCom_nirs.snirf\n",
      "<RawSNIRF | sub-04_task-AnonCom_nirs.snirf, 36 x 16843 (1655.6 s), ~4.8 MB, data loaded>\n"
     ]
    }
   ],
   "source": [
    "all_evoked_direct = defaultdict(list)\n",
    "\n",
    "direct_subjects = os.listdir(\"../BIDS_Direct/\")\n",
    "\n",
    "for sub in direct_subjects:\n",
    "    if sub not in ignore:\n",
    "        # Create path to file based on experiment info\n",
    "        direct_f_path = f'../BIDS_Direct/{sub}/nirs/{sub}_task-AnonCom_nirs.snirf'\n",
    "\n",
    "        # Analyse data and return both ROI and channel results\n",
    "        raw_haemo, epochs = individual_analysis(direct_f_path)\n",
    "        \n",
    "        # Save individual-evoked participant data along with others in all_evokeds\n",
    "        for cidx, condition in enumerate(epochs.event_id):\n",
    "            all_evoked_direct[condition].append(epochs[condition].average())"
   ]
  },
  {
   "cell_type": "code",
   "execution_count": 8,
   "id": "d0380609-e063-46af-85f8-79e1bd4081a2",
   "metadata": {},
   "outputs": [],
   "source": [
    "# Create an Anon Dataframe"
   ]
  },
  {
   "cell_type": "code",
   "execution_count": 9,
   "id": "c17667ed-e128-4dd3-8ec8-dc61ee80b42a",
   "metadata": {},
   "outputs": [],
   "source": [
    "anon_df = pd.DataFrame(columns=['ID', 'Chroma', 'Condition', 'Value'])\n",
    "\n",
    "for idx, evoked in enumerate(all_evoked_anon):\n",
    "    subj_id = 0\n",
    "    for subj_data in all_evoked_anon[evoked]:\n",
    "        subj_id += 1\n",
    "        for chroma in [\"hbo\", \"hbr\"]:\n",
    "            data = deepcopy(subj_data)\n",
    "            value = data.crop(tmin=-1.0, tmax=15.0).data.mean() * 1.0e6\n",
    "\n",
    "            # Append metadata and extracted feature to dataframe\n",
    "            this_df = pd.DataFrame(\n",
    "                {'ID': subj_id, 'Chroma': chroma,\n",
    "                 'Condition': evoked, 'Value': value}, index=[0])\n",
    "            \n",
    "            anon_df = pd.concat([anon_df, this_df], ignore_index=True)\n",
    "            \n",
    "anon_df.reset_index(inplace=True, drop=True)\n",
    "anon_df['Value'] = pd.to_numeric(anon_df['Value'])  # some Pandas have this as object\n",
    "anon_df['Group'] = \"Anon\""
   ]
  },
  {
   "cell_type": "code",
   "execution_count": 10,
   "id": "61152b40-ed7c-41f8-9f7a-8b9aaec635e7",
   "metadata": {},
   "outputs": [],
   "source": [
    "direct_df = pd.DataFrame(columns=['ID', 'Chroma', 'Condition', 'Value'])\n",
    "\n",
    "for idx, evoked in enumerate(all_evoked_direct):\n",
    "    subj_id = 0\n",
    "    for subj_data in all_evoked_direct[evoked]:\n",
    "        subj_id += 1\n",
    "        for chroma in [\"hbo\", \"hbr\"]:\n",
    "            data = deepcopy(subj_data)\n",
    "            value = data.crop(tmin=-1.0, tmax=15.0).data.mean() * 1.0e6\n",
    "\n",
    "            # Append metadata and extracted feature to dataframe\n",
    "            this_df = pd.DataFrame(\n",
    "                {'ID': subj_id, 'Chroma': chroma,\n",
    "                 'Condition': evoked, 'Value': value}, index=[0])\n",
    "            \n",
    "            direct_df = pd.concat([direct_df, this_df], ignore_index=True)\n",
    "            \n",
    "direct_df.reset_index(inplace=True, drop=True)\n",
    "direct_df['Value'] = pd.to_numeric(direct_df['Value'])  # some Pandas have this as object\n",
    "direct_df['Group'] = \"Direct\""
   ]
  },
  {
   "cell_type": "code",
   "execution_count": 11,
   "id": "09641e68-5295-4bd0-b96d-f0aef551f09d",
   "metadata": {},
   "outputs": [
    {
     "name": "stderr",
     "output_type": "stream",
     "text": [
      "/Users/nolanbrady/opt/anaconda3/lib/python3.9/site-packages/statsmodels/regression/mixed_linear_model.py:2261: ConvergenceWarning: The Hessian matrix at the estimated parameter values is not positive definite.\n",
      "  warnings.warn(msg, ConvergenceWarning)\n"
     ]
    },
    {
     "data": {
      "text/html": [
       "<table class=\"simpletable\">\n",
       "<tr>\n",
       "       <td>Model:</td>       <td>MixedLM</td> <td>Dependent Variable:</td>  <td>Value</td> \n",
       "</tr>\n",
       "<tr>\n",
       "  <td>No. Observations:</td>    <td>6</td>          <td>Method:</td>        <td>REML</td>  \n",
       "</tr>\n",
       "<tr>\n",
       "     <td>No. Groups:</td>       <td>2</td>          <td>Scale:</td>        <td>0.7296</td> \n",
       "</tr>\n",
       "<tr>\n",
       "  <td>Min. group size:</td>     <td>3</td>      <td>Log-Likelihood:</td>   <td>-6.1439</td>\n",
       "</tr>\n",
       "<tr>\n",
       "  <td>Max. group size:</td>     <td>3</td>        <td>Converged:</td>        <td>Yes</td>  \n",
       "</tr>\n",
       "<tr>\n",
       "  <td>Mean group size:</td>    <td>3.0</td>            <td></td>              <td></td>    \n",
       "</tr>\n",
       "</table>\n",
       "<table class=\"simpletable\">\n",
       "<tr>\n",
       "         <td></td>          <th>Coef.</th> <th>Std.Err.</th>    <th>z</th>   <th>P>|z|</th> <th>[0.025</th> <th>0.975]</th>\n",
       "</tr>\n",
       "<tr>\n",
       "  <th>Intercept</th>        <td>0.559</td>   <td>0.986</td>   <td>0.566</td> <td>0.571</td> <td>-1.375</td>  <td>2.492</td>\n",
       "</tr>\n",
       "<tr>\n",
       "  <th>Group[T.Direct]</th> <td>-0.685</td>   <td>0.986</td>  <td>-0.694</td> <td>0.488</td> <td>-2.618</td>  <td>1.248</td>\n",
       "</tr>\n",
       "<tr>\n",
       "  <th>Group Var</th>        <td>0.730</td>     <td></td>        <td></td>      <td></td>       <td></td>       <td></td>   \n",
       "</tr>\n",
       "</table>"
      ],
      "text/plain": [
       "<class 'statsmodels.iolib.summary2.Summary'>\n",
       "\"\"\"\n",
       "          Mixed Linear Model Regression Results\n",
       "==========================================================\n",
       "Model:               MixedLM  Dependent Variable:  Value  \n",
       "No. Observations:    6        Method:              REML   \n",
       "No. Groups:          2        Scale:               0.7296 \n",
       "Min. group size:     3        Log-Likelihood:      -6.1439\n",
       "Max. group size:     3        Converged:           Yes    \n",
       "Mean group size:     3.0                                  \n",
       "----------------------------------------------------------\n",
       "                Coef.  Std.Err.   z    P>|z| [0.025 0.975]\n",
       "----------------------------------------------------------\n",
       "Intercept        0.559    0.986  0.566 0.571 -1.375  2.492\n",
       "Group[T.Direct] -0.685    0.986 -0.694 0.488 -2.618  1.248\n",
       "Group Var        0.730                                    \n",
       "==========================================================\n",
       "\n",
       "\"\"\""
      ]
     },
     "execution_count": 11,
     "metadata": {},
     "output_type": "execute_result"
    }
   ],
   "source": [
    "# Comparing Control between groups\n",
    "\n",
    "anon_input_data = anon_df.query(\"Condition in ['Control']\").query(\"Chroma in ['hbo']\")\n",
    "direct_input_data = direct_df.query(\"Condition in ['Control']\").query(\"Chroma in ['hbo']\")\n",
    "\n",
    "input_data = pd.concat([anon_input_data, direct_input_data])\n",
    "\n",
    "model = smf.mixedlm(\"Value ~ Group\", input_data, groups=input_data[\"Group\"]).fit()\n",
    "model.summary()"
   ]
  },
  {
   "cell_type": "code",
   "execution_count": 12,
   "id": "b3e5078f-ded7-4a6f-bf33-b195eac5a813",
   "metadata": {},
   "outputs": [
    {
     "name": "stderr",
     "output_type": "stream",
     "text": [
      "/Users/nolanbrady/opt/anaconda3/lib/python3.9/site-packages/statsmodels/regression/mixed_linear_model.py:2261: ConvergenceWarning: The Hessian matrix at the estimated parameter values is not positive definite.\n",
      "  warnings.warn(msg, ConvergenceWarning)\n"
     ]
    },
    {
     "data": {
      "text/html": [
       "<table class=\"simpletable\">\n",
       "<tr>\n",
       "       <td>Model:</td>       <td>MixedLM</td> <td>Dependent Variable:</td>  <td>Value</td> \n",
       "</tr>\n",
       "<tr>\n",
       "  <td>No. Observations:</td>    <td>6</td>          <td>Method:</td>        <td>REML</td>  \n",
       "</tr>\n",
       "<tr>\n",
       "     <td>No. Groups:</td>       <td>2</td>          <td>Scale:</td>        <td>0.9908</td> \n",
       "</tr>\n",
       "<tr>\n",
       "  <td>Min. group size:</td>     <td>3</td>      <td>Log-Likelihood:</td>   <td>-6.7559</td>\n",
       "</tr>\n",
       "<tr>\n",
       "  <td>Max. group size:</td>     <td>3</td>        <td>Converged:</td>        <td>Yes</td>  \n",
       "</tr>\n",
       "<tr>\n",
       "  <td>Mean group size:</td>    <td>3.0</td>            <td></td>              <td></td>    \n",
       "</tr>\n",
       "</table>\n",
       "<table class=\"simpletable\">\n",
       "<tr>\n",
       "         <td></td>          <th>Coef.</th> <th>Std.Err.</th>        <th>z</th>       <th>P>|z|</th> <th>[0.025</th> <th>0.975]</th>\n",
       "</tr>\n",
       "<tr>\n",
       "  <th>Intercept</th>       <td>-0.478</td>   <td>0.000</td>  <td>-291290246.216</td> <td>0.000</td> <td>-0.478</td> <td>-0.478</td>\n",
       "</tr>\n",
       "<tr>\n",
       "  <th>Group[T.Direct]</th>  <td>0.053</td>   <td>1.149</td>       <td>0.046</td>     <td>0.963</td> <td>-2.200</td>  <td>2.306</td>\n",
       "</tr>\n",
       "<tr>\n",
       "  <th>Group Var</th>        <td>0.991</td>     <td></td>            <td></td>          <td></td>       <td></td>       <td></td>   \n",
       "</tr>\n",
       "</table>"
      ],
      "text/plain": [
       "<class 'statsmodels.iolib.summary2.Summary'>\n",
       "\"\"\"\n",
       "              Mixed Linear Model Regression Results\n",
       "==================================================================\n",
       "Model:                 MixedLM     Dependent Variable:     Value  \n",
       "No. Observations:      6           Method:                 REML   \n",
       "No. Groups:            2           Scale:                  0.9908 \n",
       "Min. group size:       3           Log-Likelihood:         -6.7559\n",
       "Max. group size:       3           Converged:              Yes    \n",
       "Mean group size:       3.0                                        \n",
       "------------------------------------------------------------------\n",
       "                Coef.  Std.Err.       z        P>|z| [0.025 0.975]\n",
       "------------------------------------------------------------------\n",
       "Intercept       -0.478    0.000 -291290246.216 0.000 -0.478 -0.478\n",
       "Group[T.Direct]  0.053    1.149          0.046 0.963 -2.200  2.306\n",
       "Group Var        0.991                                            \n",
       "==================================================================\n",
       "\n",
       "\"\"\""
      ]
     },
     "execution_count": 12,
     "metadata": {},
     "output_type": "execute_result"
    }
   ],
   "source": [
    "# Comparing Neutral between groups\n",
    "\n",
    "anon_input_data = anon_df.query(\"Condition in ['Neutral']\").query(\"Chroma in ['hbo']\")\n",
    "direct_input_data = direct_df.query(\"Condition in ['Neutral']\").query(\"Chroma in ['hbo']\")\n",
    "\n",
    "input_data = pd.concat([anon_input_data, direct_input_data])\n",
    "\n",
    "model = smf.mixedlm(\"Value ~ Group\", input_data, groups=input_data[\"Group\"]).fit()\n",
    "model.summary()"
   ]
  },
  {
   "cell_type": "code",
   "execution_count": 13,
   "id": "8ba67ffa-8878-4495-9145-db7ecb2ddcc1",
   "metadata": {},
   "outputs": [
    {
     "name": "stderr",
     "output_type": "stream",
     "text": [
      "/Users/nolanbrady/opt/anaconda3/lib/python3.9/site-packages/statsmodels/regression/mixed_linear_model.py:2261: ConvergenceWarning: The Hessian matrix at the estimated parameter values is not positive definite.\n",
      "  warnings.warn(msg, ConvergenceWarning)\n"
     ]
    },
    {
     "data": {
      "text/html": [
       "<table class=\"simpletable\">\n",
       "<tr>\n",
       "       <td>Model:</td>       <td>MixedLM</td> <td>Dependent Variable:</td>  <td>Value</td> \n",
       "</tr>\n",
       "<tr>\n",
       "  <td>No. Observations:</td>    <td>6</td>          <td>Method:</td>        <td>REML</td>  \n",
       "</tr>\n",
       "<tr>\n",
       "     <td>No. Groups:</td>       <td>2</td>          <td>Scale:</td>        <td>1.8249</td> \n",
       "</tr>\n",
       "<tr>\n",
       "  <td>Min. group size:</td>     <td>3</td>      <td>Log-Likelihood:</td>   <td>-7.9774</td>\n",
       "</tr>\n",
       "<tr>\n",
       "  <td>Max. group size:</td>     <td>3</td>        <td>Converged:</td>        <td>Yes</td>  \n",
       "</tr>\n",
       "<tr>\n",
       "  <td>Mean group size:</td>    <td>3.0</td>            <td></td>              <td></td>    \n",
       "</tr>\n",
       "</table>\n",
       "<table class=\"simpletable\">\n",
       "<tr>\n",
       "         <td></td>         <th>Coef.</th> <th>Std.Err.</th>   <th>z</th>   <th>P>|z|</th> <th>[0.025</th> <th>0.975]</th>\n",
       "</tr>\n",
       "<tr>\n",
       "  <th>Intercept</th>       <td>0.310</td>   <td>1.560</td>  <td>0.199</td> <td>0.843</td> <td>-2.747</td>  <td>3.367</td>\n",
       "</tr>\n",
       "<tr>\n",
       "  <th>Group[T.Direct]</th> <td>0.346</td>   <td>1.560</td>  <td>0.222</td> <td>0.824</td> <td>-2.711</td>  <td>3.403</td>\n",
       "</tr>\n",
       "<tr>\n",
       "  <th>Group Var</th>       <td>1.825</td>     <td></td>       <td></td>      <td></td>       <td></td>       <td></td>   \n",
       "</tr>\n",
       "</table>"
      ],
      "text/plain": [
       "<class 'statsmodels.iolib.summary2.Summary'>\n",
       "\"\"\"\n",
       "         Mixed Linear Model Regression Results\n",
       "========================================================\n",
       "Model:             MixedLM  Dependent Variable:  Value  \n",
       "No. Observations:  6        Method:              REML   \n",
       "No. Groups:        2        Scale:               1.8249 \n",
       "Min. group size:   3        Log-Likelihood:      -7.9774\n",
       "Max. group size:   3        Converged:           Yes    \n",
       "Mean group size:   3.0                                  \n",
       "--------------------------------------------------------\n",
       "                Coef. Std.Err.   z   P>|z| [0.025 0.975]\n",
       "--------------------------------------------------------\n",
       "Intercept       0.310    1.560 0.199 0.843 -2.747  3.367\n",
       "Group[T.Direct] 0.346    1.560 0.222 0.824 -2.711  3.403\n",
       "Group Var       1.825                                   \n",
       "========================================================\n",
       "\n",
       "\"\"\""
      ]
     },
     "execution_count": 13,
     "metadata": {},
     "output_type": "execute_result"
    }
   ],
   "source": [
    "# Comparing Inflamatory between groups\n",
    "\n",
    "anon_input_data = anon_df.query(\"Condition in ['Inflammatory']\").query(\"Chroma in ['hbo']\")\n",
    "direct_input_data = direct_df.query(\"Condition in ['Inflammatory']\").query(\"Chroma in ['hbo']\")\n",
    "\n",
    "input_data = pd.concat([anon_input_data, direct_input_data])\n",
    "\n",
    "model = smf.mixedlm(\"Value ~ Group\", input_data, groups=input_data[\"Group\"]).fit()\n",
    "model.summary()"
   ]
  },
  {
   "cell_type": "code",
   "execution_count": 14,
   "id": "45f53c7b-e834-434a-8183-3bf91f2638b2",
   "metadata": {},
   "outputs": [
    {
     "name": "stderr",
     "output_type": "stream",
     "text": [
      "/Users/nolanbrady/opt/anaconda3/lib/python3.9/site-packages/statsmodels/regression/mixed_linear_model.py:2261: ConvergenceWarning: The Hessian matrix at the estimated parameter values is not positive definite.\n",
      "  warnings.warn(msg, ConvergenceWarning)\n"
     ]
    },
    {
     "name": "stdout",
     "output_type": "stream",
     "text": [
      "   ID Chroma Condition     Value   Group\n",
      "18  1    hbo  Practice -0.459719    Anon\n",
      "20  2    hbo  Practice -0.217720    Anon\n",
      "22  3    hbo  Practice  1.386083    Anon\n",
      "18  1    hbo  Practice -0.009547  Direct\n",
      "20  2    hbo  Practice -0.745357  Direct\n",
      "22  3    hbo  Practice -1.748780  Direct\n"
     ]
    },
    {
     "data": {
      "text/html": [
       "<table class=\"simpletable\">\n",
       "<tr>\n",
       "       <td>Model:</td>       <td>MixedLM</td> <td>Dependent Variable:</td>  <td>Value</td> \n",
       "</tr>\n",
       "<tr>\n",
       "  <td>No. Observations:</td>    <td>6</td>          <td>Method:</td>        <td>REML</td>  \n",
       "</tr>\n",
       "<tr>\n",
       "     <td>No. Groups:</td>       <td>2</td>          <td>Scale:</td>        <td>0.8842</td> \n",
       "</tr>\n",
       "<tr>\n",
       "  <td>Min. group size:</td>     <td>3</td>      <td>Log-Likelihood:</td>   <td>-6.5283</td>\n",
       "</tr>\n",
       "<tr>\n",
       "  <td>Max. group size:</td>     <td>3</td>        <td>Converged:</td>        <td>Yes</td>  \n",
       "</tr>\n",
       "<tr>\n",
       "  <td>Mean group size:</td>    <td>3.0</td>            <td></td>              <td></td>    \n",
       "</tr>\n",
       "</table>\n",
       "<table class=\"simpletable\">\n",
       "<tr>\n",
       "         <td></td>          <th>Coef.</th> <th>Std.Err.</th>    <th>z</th>   <th>P>|z|</th> <th>[0.025</th> <th>0.975]</th>\n",
       "</tr>\n",
       "<tr>\n",
       "  <th>Intercept</th>        <td>0.236</td>   <td>0.486</td>   <td>0.486</td> <td>0.627</td> <td>-0.716</td>  <td>1.188</td>\n",
       "</tr>\n",
       "<tr>\n",
       "  <th>Group[T.Direct]</th> <td>-1.071</td>   <td>0.486</td>  <td>-2.205</td> <td>0.027</td> <td>-2.023</td> <td>-0.119</td>\n",
       "</tr>\n",
       "<tr>\n",
       "  <th>Group Var</th>        <td>0.884</td>     <td></td>        <td></td>      <td></td>       <td></td>       <td></td>   \n",
       "</tr>\n",
       "</table>"
      ],
      "text/plain": [
       "<class 'statsmodels.iolib.summary2.Summary'>\n",
       "\"\"\"\n",
       "          Mixed Linear Model Regression Results\n",
       "==========================================================\n",
       "Model:               MixedLM  Dependent Variable:  Value  \n",
       "No. Observations:    6        Method:              REML   \n",
       "No. Groups:          2        Scale:               0.8842 \n",
       "Min. group size:     3        Log-Likelihood:      -6.5283\n",
       "Max. group size:     3        Converged:           Yes    \n",
       "Mean group size:     3.0                                  \n",
       "----------------------------------------------------------\n",
       "                Coef.  Std.Err.   z    P>|z| [0.025 0.975]\n",
       "----------------------------------------------------------\n",
       "Intercept        0.236    0.486  0.486 0.627 -0.716  1.188\n",
       "Group[T.Direct] -1.071    0.486 -2.205 0.027 -2.023 -0.119\n",
       "Group Var        0.884                                    \n",
       "==========================================================\n",
       "\n",
       "\"\"\""
      ]
     },
     "execution_count": 14,
     "metadata": {},
     "output_type": "execute_result"
    }
   ],
   "source": [
    "# Comparing Practice between groups\n",
    "\n",
    "anon_input_data = anon_df.query(\"Condition in ['Practice']\").query(\"Chroma in ['hbo']\")\n",
    "direct_input_data = direct_df.query(\"Condition in ['Practice']\").query(\"Chroma in ['hbo']\")\n",
    "\n",
    "input_data = pd.concat([anon_input_data, direct_input_data])\n",
    "print(input_data)\n",
    "model = smf.mixedlm(\"Value ~ Group\", input_data, groups=input_data[\"Group\"]).fit()\n",
    "model.summary()"
   ]
  }
 ],
 "metadata": {
  "kernelspec": {
   "display_name": "Python 3 (ipykernel)",
   "language": "python",
   "name": "python3"
  },
  "language_info": {
   "codemirror_mode": {
    "name": "ipython",
    "version": 3
   },
   "file_extension": ".py",
   "mimetype": "text/x-python",
   "name": "python",
   "nbconvert_exporter": "python",
   "pygments_lexer": "ipython3",
   "version": "3.9.13"
  }
 },
 "nbformat": 4,
 "nbformat_minor": 5
}
