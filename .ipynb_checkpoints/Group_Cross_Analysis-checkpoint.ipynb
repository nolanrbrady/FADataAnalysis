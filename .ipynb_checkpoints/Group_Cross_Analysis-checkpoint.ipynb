{
 "cells": [
  {
   "cell_type": "code",
   "execution_count": 1,
   "id": "484f4e0b-2680-4bf1-aba2-d52b3ff0fd71",
   "metadata": {},
   "outputs": [],
   "source": [
    "# Cross referencing Direct and Anon Groups between neutral and inflam groups"
   ]
  },
  {
   "cell_type": "code",
   "execution_count": 2,
   "id": "fcb5be06-6f40-47fc-9cbb-0bae4e1e81f6",
   "metadata": {},
   "outputs": [],
   "source": [
    "# Import common libraries\n",
    "import pandas as pd\n",
    "from itertools import compress\n",
    "from collections import defaultdict\n",
    "from copy import deepcopy\n",
    "from pprint import pprint\n",
    "import os\n",
    "\n",
    "# Import MNE processing\n",
    "from mne.viz import plot_compare_evokeds\n",
    "from mne import Epochs, events_from_annotations, set_log_level\n",
    "\n",
    "# Import MNE-NIRS processing\n",
    "import mne\n",
    "from mne_nirs.channels import get_long_channels\n",
    "from mne_nirs.channels import picks_pair_to_idx\n",
    "from mne_nirs.datasets import fnirs_motor_group\n",
    "from mne.preprocessing.nirs import beer_lambert_law, optical_density,\\\n",
    "    temporal_derivative_distribution_repair, scalp_coupling_index\n",
    "from mne_nirs.signal_enhancement import enhance_negative_correlation\n",
    "\n",
    "# Import MNE-BIDS processing\n",
    "from mne_bids import BIDSPath, read_raw_bids\n",
    "\n",
    "# Import StatsModels\n",
    "import statsmodels.formula.api as smf\n",
    "\n",
    "# Import Plotting Library\n",
    "import matplotlib.pyplot as plt\n",
    "import seaborn as sns\n",
    "\n",
    "# Set general parameters\n",
    "set_log_level(\"WARNING\")  # Don't show info, as it is repetitive for many subjects\n",
    "\n",
    "ignore = [\".DS_Store\", \"sub-03\"]\n",
    "\n",
    "# Based on Guides Published Here\n",
    "# https://mne.tools/mne-nirs/stable/auto_examples/general/plot_16_waveform_group.html"
   ]
  },
  {
   "cell_type": "code",
   "execution_count": 3,
   "id": "d3f12b11-d739-4fbf-8980-dcea1f0e7aa3",
   "metadata": {},
   "outputs": [],
   "source": [
    "def individual_analysis(bids_path):\n",
    "\n",
    "    # Read data with annotations in BIDS format\n",
    "    # raw_intensity = read_raw_bids(bids_path=bids_path, verbose=False)\n",
    "    raw_intensity = mne.io.read_raw_snirf(bids_path, verbose=True, preload=False)\n",
    "    raw_intensity = get_long_channels(raw_intensity, min_dist=0.01)\n",
    "    \n",
    "    channel_types = raw_intensity.copy()\n",
    "    print(channel_types)\n",
    "    \n",
    "    raw_intensity.annotations.rename({'4': 'Control', '2': 'Neutral', '3': 'Inflammatory', '1':'Practice'})\n",
    "\n",
    "    # Convert signal to optical density and determine bad channels\n",
    "    raw_od = optical_density(raw_intensity)\n",
    "    sci = scalp_coupling_index(raw_od, h_freq=1.35, h_trans_bandwidth=0.1)\n",
    "    raw_od.info[\"bads\"] = list(compress(raw_od.ch_names, sci < 0.5))\n",
    "    # raw_od.interpolate_bads()\n",
    "\n",
    "    # Downsample and apply signal cleaning techniques\n",
    "    raw_od.resample(0.8)\n",
    "    raw_od = temporal_derivative_distribution_repair(raw_od)\n",
    "\n",
    "    # Convert to haemoglobin and filter\n",
    "    raw_haemo = beer_lambert_law(raw_od, ppf=0.1)\n",
    "    raw_haemo = raw_haemo.filter(0.02, 0.3,\n",
    "                                 h_trans_bandwidth=0.1, l_trans_bandwidth=0.01,\n",
    "                                 verbose=False)\n",
    "\n",
    "    # Apply further data cleaning techniques and extract epochs\n",
    "    raw_haemo = enhance_negative_correlation(raw_haemo)\n",
    "\n",
    "    events, event_dict = events_from_annotations(raw_haemo, verbose=False)\n",
    "    \n",
    "    # Remove the STOP triggers for each event and hardcode the duration to 30 seconds due to MNE limitations\n",
    "    events = events[::2]\n",
    "\n",
    "    epochs = Epochs(raw_haemo, events, event_id=event_dict, tmin=-5, tmax=30,\n",
    "                    reject=dict(hbo=200e-6), reject_by_annotation=True,\n",
    "                    proj=True, baseline=(None, 0), detrend=0,\n",
    "                    preload=True, verbose=False)\n",
    "\n",
    "    return raw_haemo, epochs"
   ]
  },
  {
   "cell_type": "code",
   "execution_count": 4,
   "id": "e804507a-134d-4a2c-9b7e-2aa9f14542b2",
   "metadata": {},
   "outputs": [],
   "source": [
    "# Isolate Evoked Anon Data"
   ]
  },
  {
   "cell_type": "code",
   "execution_count": 5,
   "id": "5968e801-1729-4526-aa9d-5a1798b0c3a3",
   "metadata": {},
   "outputs": [
    {
     "name": "stdout",
     "output_type": "stream",
     "text": [
      "Loading /Users/nolanbrady/Desktop/LabResearch/IndependentStudy/DataAnalysis/FADataAnalysisScripts/../BIDS_Anon/sub-06/nirs/sub-06_task-AnonCom_nirs.snirf\n",
      "<RawSNIRF | sub-06_task-AnonCom_nirs.snirf, 36 x 18358 (1804.5 s), ~5.2 MB, data loaded>\n",
      "Loading /Users/nolanbrady/Desktop/LabResearch/IndependentStudy/DataAnalysis/FADataAnalysisScripts/../BIDS_Anon/sub-07/nirs/sub-07_task-AnonCom_nirs.snirf\n",
      "<RawSNIRF | sub-07_task-AnonCom_nirs.snirf, 36 x 17825 (1752.1 s), ~5.1 MB, data loaded>\n",
      "Loading /Users/nolanbrady/Desktop/LabResearch/IndependentStudy/DataAnalysis/FADataAnalysisScripts/../BIDS_Anon/sub-05/nirs/sub-05_task-AnonCom_nirs.snirf\n",
      "<RawSNIRF | sub-05_task-AnonCom_nirs.snirf, 36 x 17062 (1677.1 s), ~4.8 MB, data loaded>\n"
     ]
    }
   ],
   "source": [
    "from ramda import *\n",
    "all_evoked_anon = defaultdict(list)\n",
    "\n",
    "anon_subjects = os.listdir(\"../BIDS_Anon/\")\n",
    "\n",
    "for sub in anon_subjects:\n",
    "    if sub not in ignore:\n",
    "        # Create path to file based on experiment info\n",
    "        anon_f_path = f'../BIDS_Anon/{sub}/nirs/{sub}_task-AnonCom_nirs.snirf'\n",
    "\n",
    "        # Analyse data and return both ROI and channel results\n",
    "        raw_haemo, epochs = individual_analysis(anon_f_path)\n",
    "        \n",
    "        # Save individual-evoked participant data along with others in all_evokeds\n",
    "        for cidx, condition in enumerate(epochs.event_id):\n",
    "            all_evoked_anon[condition].append(epochs[condition].average())"
   ]
  },
  {
   "cell_type": "code",
   "execution_count": 6,
   "id": "3d1d3f09-8317-4e52-869b-3e5f37cc61ae",
   "metadata": {},
   "outputs": [],
   "source": [
    "# Isolate Evoked Direct Data"
   ]
  },
  {
   "cell_type": "code",
   "execution_count": 7,
   "id": "27b10dc7-bb0f-492e-b46b-c1c47daedd34",
   "metadata": {},
   "outputs": [
    {
     "name": "stdout",
     "output_type": "stream",
     "text": [
      "Loading /Users/nolanbrady/Desktop/LabResearch/IndependentStudy/DataAnalysis/FADataAnalysisScripts/../BIDS_Direct/sub-01/nirs/sub-01_task-AnonCom_nirs.snirf\n",
      "<RawSNIRF | sub-01_task-AnonCom_nirs.snirf, 36 x 17098 (1680.6 s), ~4.9 MB, data loaded>\n",
      "Loading /Users/nolanbrady/Desktop/LabResearch/IndependentStudy/DataAnalysis/FADataAnalysisScripts/../BIDS_Direct/sub-02/nirs/sub-02_task-AnonCom_nirs.snirf\n",
      "<RawSNIRF | sub-02_task-AnonCom_nirs.snirf, 36 x 14804 (1455.1 s), ~4.2 MB, data loaded>\n",
      "Loading /Users/nolanbrady/Desktop/LabResearch/IndependentStudy/DataAnalysis/FADataAnalysisScripts/../BIDS_Direct/sub-04/nirs/sub-04_task-AnonCom_nirs.snirf\n",
      "<RawSNIRF | sub-04_task-AnonCom_nirs.snirf, 36 x 16843 (1655.6 s), ~4.8 MB, data loaded>\n"
     ]
    }
   ],
   "source": [
    "all_evoked_direct = defaultdict(list)\n",
    "\n",
    "direct_subjects = os.listdir(\"../BIDS_Direct/\")\n",
    "\n",
    "for sub in direct_subjects:\n",
    "    if sub not in ignore:\n",
    "        # Create path to file based on experiment info\n",
    "        direct_f_path = f'../BIDS_Direct/{sub}/nirs/{sub}_task-AnonCom_nirs.snirf'\n",
    "\n",
    "        # Analyse data and return both ROI and channel results\n",
    "        raw_haemo, epochs = individual_analysis(direct_f_path)\n",
    "        \n",
    "        # Save individual-evoked participant data along with others in all_evokeds\n",
    "        for cidx, condition in enumerate(epochs.event_id):\n",
    "            all_evoked_direct[condition].append(epochs[condition].average())"
   ]
  },
  {
   "cell_type": "code",
   "execution_count": 8,
   "id": "d0380609-e063-46af-85f8-79e1bd4081a2",
   "metadata": {},
   "outputs": [],
   "source": [
    "# Create an Anon Dataframe"
   ]
  },
  {
   "cell_type": "code",
   "execution_count": 9,
   "id": "c17667ed-e128-4dd3-8ec8-dc61ee80b42a",
   "metadata": {},
   "outputs": [],
   "source": [
    "anon_df = pd.DataFrame(columns=['ID', 'Chroma', 'Condition', 'Value'])\n",
    "\n",
    "for idx, evoked in enumerate(all_evoked_anon):\n",
    "    subj_id = 0\n",
    "    for subj_data in all_evoked_anon[evoked]:\n",
    "        subj_id += 1\n",
    "        for chroma in [\"hbo\", \"hbr\"]:\n",
    "            data = deepcopy(subj_data)\n",
    "            value = data.crop(tmin=-5.0, tmax=30.0).data.mean() * 1.0e6\n",
    "\n",
    "            # Append metadata and extracted feature to dataframe\n",
    "            this_df = pd.DataFrame(\n",
    "                {'ID': subj_id, 'Chroma': chroma,\n",
    "                 'Condition': evoked, 'Value': value}, index=[0])\n",
    "            \n",
    "            anon_df = pd.concat([anon_df, this_df], ignore_index=True)\n",
    "            \n",
    "anon_df.reset_index(inplace=True, drop=True)\n",
    "anon_df['Value'] = pd.to_numeric(anon_df['Value'])  # some Pandas have this as object\n",
    "anon_df['Group'] = \"Anon\""
   ]
  },
  {
   "cell_type": "code",
   "execution_count": 10,
   "id": "61152b40-ed7c-41f8-9f7a-8b9aaec635e7",
   "metadata": {},
   "outputs": [],
   "source": [
    "direct_df = pd.DataFrame(columns=['ID', 'Chroma', 'Condition', 'Value'])\n",
    "\n",
    "for idx, evoked in enumerate(all_evoked_direct):\n",
    "    subj_id = 0\n",
    "    for subj_data in all_evoked_direct[evoked]:\n",
    "        subj_id += 1\n",
    "        for chroma in [\"hbo\", \"hbr\"]:\n",
    "            data = deepcopy(subj_data)\n",
    "            value = data.crop(tmin=-5.0, tmax=30.0).data.mean() * 1.0e6\n",
    "\n",
    "            # Append metadata and extracted feature to dataframe\n",
    "            this_df = pd.DataFrame(\n",
    "                {'ID': subj_id, 'Chroma': chroma,\n",
    "                 'Condition': evoked, 'Value': value}, index=[0])\n",
    "            \n",
    "            direct_df = pd.concat([direct_df, this_df], ignore_index=True)\n",
    "            \n",
    "direct_df.reset_index(inplace=True, drop=True)\n",
    "direct_df['Value'] = pd.to_numeric(direct_df['Value'])  # some Pandas have this as object\n",
    "direct_df['Group'] = \"Direct\""
   ]
  },
  {
   "cell_type": "code",
   "execution_count": 11,
   "id": "09641e68-5295-4bd0-b96d-f0aef551f09d",
   "metadata": {},
   "outputs": [
    {
     "data": {
      "text/html": [
       "<table class=\"simpletable\">\n",
       "<tr>\n",
       "       <td>Model:</td>       <td>MixedLM</td> <td>Dependent Variable:</td>  <td>Value</td> \n",
       "</tr>\n",
       "<tr>\n",
       "  <td>No. Observations:</td>    <td>6</td>          <td>Method:</td>        <td>REML</td>  \n",
       "</tr>\n",
       "<tr>\n",
       "     <td>No. Groups:</td>       <td>3</td>          <td>Scale:</td>        <td>0.7045</td> \n",
       "</tr>\n",
       "<tr>\n",
       "  <td>Min. group size:</td>     <td>2</td>      <td>Log-Likelihood:</td>   <td>-6.6448</td>\n",
       "</tr>\n",
       "<tr>\n",
       "  <td>Max. group size:</td>     <td>2</td>        <td>Converged:</td>        <td>Yes</td>  \n",
       "</tr>\n",
       "<tr>\n",
       "  <td>Mean group size:</td>    <td>2.0</td>            <td></td>              <td></td>    \n",
       "</tr>\n",
       "</table>\n",
       "<table class=\"simpletable\">\n",
       "<tr>\n",
       "         <td></td>          <th>Coef.</th> <th>Std.Err.</th>    <th>z</th>   <th>P>|z|</th> <th>[0.025</th> <th>0.975]</th>\n",
       "</tr>\n",
       "<tr>\n",
       "  <th>Intercept</th>        <td>0.727</td>   <td>0.570</td>   <td>1.276</td> <td>0.202</td> <td>-0.390</td>  <td>1.845</td>\n",
       "</tr>\n",
       "<tr>\n",
       "  <th>Group[T.Direct]</th> <td>-0.731</td>   <td>0.685</td>  <td>-1.067</td> <td>0.286</td> <td>-2.075</td>  <td>0.612</td>\n",
       "</tr>\n",
       "<tr>\n",
       "  <th>Group Var</th>        <td>0.271</td>   <td>1.050</td>     <td></td>      <td></td>       <td></td>       <td></td>   \n",
       "</tr>\n",
       "</table>"
      ],
      "text/plain": [
       "<class 'statsmodels.iolib.summary2.Summary'>\n",
       "\"\"\"\n",
       "          Mixed Linear Model Regression Results\n",
       "==========================================================\n",
       "Model:               MixedLM  Dependent Variable:  Value  \n",
       "No. Observations:    6        Method:              REML   \n",
       "No. Groups:          3        Scale:               0.7045 \n",
       "Min. group size:     2        Log-Likelihood:      -6.6448\n",
       "Max. group size:     2        Converged:           Yes    \n",
       "Mean group size:     2.0                                  \n",
       "----------------------------------------------------------\n",
       "                Coef.  Std.Err.   z    P>|z| [0.025 0.975]\n",
       "----------------------------------------------------------\n",
       "Intercept        0.727    0.570  1.276 0.202 -0.390  1.845\n",
       "Group[T.Direct] -0.731    0.685 -1.067 0.286 -2.075  0.612\n",
       "Group Var        0.271    1.050                           \n",
       "==========================================================\n",
       "\n",
       "\"\"\""
      ]
     },
     "execution_count": 11,
     "metadata": {},
     "output_type": "execute_result"
    }
   ],
   "source": [
    "# Comparing Control between groups\n",
    "\n",
    "anon_input_data = anon_df.query(\"Condition in ['Control']\").query(\"Chroma in ['hbo']\")\n",
    "direct_input_data = direct_df.query(\"Condition in ['Control']\").query(\"Chroma in ['hbo']\")\n",
    "\n",
    "input_data = pd.concat([anon_input_data, direct_input_data])\n",
    "\n",
    "model = smf.mixedlm(\"Value ~ Group\", input_data, groups=input_data[\"ID\"]).fit()\n",
    "model.summary()"
   ]
  },
  {
   "cell_type": "code",
   "execution_count": 12,
   "id": "b3e5078f-ded7-4a6f-bf33-b195eac5a813",
   "metadata": {},
   "outputs": [
    {
     "name": "stderr",
     "output_type": "stream",
     "text": [
      "/Users/nolanbrady/opt/anaconda3/lib/python3.9/site-packages/statsmodels/regression/mixed_linear_model.py:1634: UserWarning: Random effects covariance is singular\n",
      "  warnings.warn(msg)\n",
      "/Users/nolanbrady/opt/anaconda3/lib/python3.9/site-packages/statsmodels/regression/mixed_linear_model.py:2237: ConvergenceWarning: The MLE may be on the boundary of the parameter space.\n",
      "  warnings.warn(msg, ConvergenceWarning)\n"
     ]
    },
    {
     "data": {
      "text/html": [
       "<table class=\"simpletable\">\n",
       "<tr>\n",
       "       <td>Model:</td>       <td>MixedLM</td> <td>Dependent Variable:</td>  <td>Value</td> \n",
       "</tr>\n",
       "<tr>\n",
       "  <td>No. Observations:</td>    <td>6</td>          <td>Method:</td>        <td>REML</td>  \n",
       "</tr>\n",
       "<tr>\n",
       "     <td>No. Groups:</td>       <td>3</td>          <td>Scale:</td>        <td>0.1554</td> \n",
       "</tr>\n",
       "<tr>\n",
       "  <td>Min. group size:</td>     <td>2</td>      <td>Log-Likelihood:</td>   <td>-3.0504</td>\n",
       "</tr>\n",
       "<tr>\n",
       "  <td>Max. group size:</td>     <td>2</td>        <td>Converged:</td>        <td>Yes</td>  \n",
       "</tr>\n",
       "<tr>\n",
       "  <td>Mean group size:</td>    <td>2.0</td>            <td></td>              <td></td>    \n",
       "</tr>\n",
       "</table>\n",
       "<table class=\"simpletable\">\n",
       "<tr>\n",
       "         <td></td>          <th>Coef.</th> <th>Std.Err.</th>    <th>z</th>   <th>P>|z|</th> <th>[0.025</th> <th>0.975]</th>\n",
       "</tr>\n",
       "<tr>\n",
       "  <th>Intercept</th>       <td>-0.269</td>   <td>0.228</td>  <td>-1.181</td> <td>0.238</td> <td>-0.715</td>  <td>0.177</td>\n",
       "</tr>\n",
       "<tr>\n",
       "  <th>Group[T.Direct]</th>  <td>0.100</td>   <td>0.322</td>   <td>0.310</td> <td>0.757</td> <td>-0.531</td>  <td>0.730</td>\n",
       "</tr>\n",
       "<tr>\n",
       "  <th>Group Var</th>        <td>0.000</td>   <td>0.315</td>     <td></td>      <td></td>       <td></td>       <td></td>   \n",
       "</tr>\n",
       "</table>"
      ],
      "text/plain": [
       "<class 'statsmodels.iolib.summary2.Summary'>\n",
       "\"\"\"\n",
       "          Mixed Linear Model Regression Results\n",
       "==========================================================\n",
       "Model:               MixedLM  Dependent Variable:  Value  \n",
       "No. Observations:    6        Method:              REML   \n",
       "No. Groups:          3        Scale:               0.1554 \n",
       "Min. group size:     2        Log-Likelihood:      -3.0504\n",
       "Max. group size:     2        Converged:           Yes    \n",
       "Mean group size:     2.0                                  \n",
       "----------------------------------------------------------\n",
       "                Coef.  Std.Err.   z    P>|z| [0.025 0.975]\n",
       "----------------------------------------------------------\n",
       "Intercept       -0.269    0.228 -1.181 0.238 -0.715  0.177\n",
       "Group[T.Direct]  0.100    0.322  0.310 0.757 -0.531  0.730\n",
       "Group Var        0.000    0.315                           \n",
       "==========================================================\n",
       "\n",
       "\"\"\""
      ]
     },
     "execution_count": 12,
     "metadata": {},
     "output_type": "execute_result"
    }
   ],
   "source": [
    "# Comparing Neutral between groups\n",
    "\n",
    "anon_input_data = anon_df.query(\"Condition in ['Neutral']\").query(\"Chroma in ['hbo']\")\n",
    "direct_input_data = direct_df.query(\"Condition in ['Neutral']\").query(\"Chroma in ['hbo']\")\n",
    "\n",
    "input_data = pd.concat([anon_input_data, direct_input_data])\n",
    "\n",
    "model = smf.mixedlm(\"Value ~ Group\", input_data, groups=input_data[\"ID\"]).fit()\n",
    "model.summary()"
   ]
  },
  {
   "cell_type": "code",
   "execution_count": 13,
   "id": "8ba67ffa-8878-4495-9145-db7ecb2ddcc1",
   "metadata": {},
   "outputs": [
    {
     "data": {
      "text/html": [
       "<table class=\"simpletable\">\n",
       "<tr>\n",
       "       <td>Model:</td>       <td>MixedLM</td> <td>Dependent Variable:</td>  <td>Value</td> \n",
       "</tr>\n",
       "<tr>\n",
       "  <td>No. Observations:</td>    <td>6</td>          <td>Method:</td>        <td>REML</td>  \n",
       "</tr>\n",
       "<tr>\n",
       "     <td>No. Groups:</td>       <td>3</td>          <td>Scale:</td>        <td>0.6262</td> \n",
       "</tr>\n",
       "<tr>\n",
       "  <td>Min. group size:</td>     <td>2</td>      <td>Log-Likelihood:</td>   <td>-5.8878</td>\n",
       "</tr>\n",
       "<tr>\n",
       "  <td>Max. group size:</td>     <td>2</td>        <td>Converged:</td>        <td>Yes</td>  \n",
       "</tr>\n",
       "<tr>\n",
       "  <td>Mean group size:</td>    <td>2.0</td>            <td></td>              <td></td>    \n",
       "</tr>\n",
       "</table>\n",
       "<table class=\"simpletable\">\n",
       "<tr>\n",
       "         <td></td>          <th>Coef.</th> <th>Std.Err.</th>    <th>z</th>   <th>P>|z|</th> <th>[0.025</th> <th>0.975]</th>\n",
       "</tr>\n",
       "<tr>\n",
       "  <th>Intercept</th>       <td>-0.104</td>   <td>0.463</td>  <td>-0.225</td> <td>0.822</td> <td>-1.011</td>  <td>0.803</td>\n",
       "</tr>\n",
       "<tr>\n",
       "  <th>Group[T.Direct]</th>  <td>0.342</td>   <td>0.646</td>   <td>0.529</td> <td>0.597</td> <td>-0.925</td>  <td>1.608</td>\n",
       "</tr>\n",
       "<tr>\n",
       "  <th>Group Var</th>        <td>0.016</td>   <td>0.588</td>     <td></td>      <td></td>       <td></td>       <td></td>   \n",
       "</tr>\n",
       "</table>"
      ],
      "text/plain": [
       "<class 'statsmodels.iolib.summary2.Summary'>\n",
       "\"\"\"\n",
       "          Mixed Linear Model Regression Results\n",
       "==========================================================\n",
       "Model:               MixedLM  Dependent Variable:  Value  \n",
       "No. Observations:    6        Method:              REML   \n",
       "No. Groups:          3        Scale:               0.6262 \n",
       "Min. group size:     2        Log-Likelihood:      -5.8878\n",
       "Max. group size:     2        Converged:           Yes    \n",
       "Mean group size:     2.0                                  \n",
       "----------------------------------------------------------\n",
       "                Coef.  Std.Err.   z    P>|z| [0.025 0.975]\n",
       "----------------------------------------------------------\n",
       "Intercept       -0.104    0.463 -0.225 0.822 -1.011  0.803\n",
       "Group[T.Direct]  0.342    0.646  0.529 0.597 -0.925  1.608\n",
       "Group Var        0.016    0.588                           \n",
       "==========================================================\n",
       "\n",
       "\"\"\""
      ]
     },
     "execution_count": 13,
     "metadata": {},
     "output_type": "execute_result"
    }
   ],
   "source": [
    "# Comparing Inflamatory between groups\n",
    "\n",
    "anon_input_data = anon_df.query(\"Condition in ['Inflammatory']\").query(\"Chroma in ['hbo']\")\n",
    "direct_input_data = direct_df.query(\"Condition in ['Inflammatory']\").query(\"Chroma in ['hbo']\")\n",
    "\n",
    "input_data = pd.concat([anon_input_data, direct_input_data])\n",
    "\n",
    "model = smf.mixedlm(\"Value ~ Group\", input_data, groups=input_data[\"ID\"]).fit()\n",
    "model.summary()"
   ]
  }
 ],
 "metadata": {
  "kernelspec": {
   "display_name": "Python 3 (ipykernel)",
   "language": "python",
   "name": "python3"
  },
  "language_info": {
   "codemirror_mode": {
    "name": "ipython",
    "version": 3
   },
   "file_extension": ".py",
   "mimetype": "text/x-python",
   "name": "python",
   "nbconvert_exporter": "python",
   "pygments_lexer": "ipython3",
   "version": "3.9.13"
  }
 },
 "nbformat": 4,
 "nbformat_minor": 5
}
